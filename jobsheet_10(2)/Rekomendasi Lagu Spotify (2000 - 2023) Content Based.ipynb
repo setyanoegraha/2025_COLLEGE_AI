{
 "cells": [
  {
   "cell_type": "markdown",
   "metadata": {
    "id": "Ag-aJvTT4F7t"
   },
   "source": [
    "## **Import Library**"
   ]
  },
  {
   "cell_type": "code",
   "execution_count": 1,
   "metadata": {
    "executionInfo": {
     "elapsed": 2608,
     "status": "ok",
     "timestamp": 1749799404472,
     "user": {
      "displayName": "Afandi NAT",
      "userId": "09831528245184057202"
     },
     "user_tz": -420
    },
    "id": "ziRBD-TG38mt"
   },
   "outputs": [],
   "source": [
    "import numpy as np\n",
    "import pandas as pd\n",
    "import seaborn as sns\n",
    "import matplotlib.pyplot as plt"
   ]
  },
  {
   "cell_type": "markdown",
   "metadata": {
    "id": "Urcx3oNh4KmB"
   },
   "source": [
    "## **Data Collection**"
   ]
  },
  {
   "cell_type": "markdown",
   "metadata": {
    "id": "FnXrnTYUZvdZ"
   },
   "source": [
    "Dataset berasal dari Kaggle dan bersifat publik. Agar lebih mudah untuk mengakses dataset, digunakan Kaggle API. Tujuannya agar kita tidak perlu mengunggah dataset ke collab.\n",
    "Adapun langkah-langkah untuk mengakses dataset langsung dari kaggle adalah sebagai berikut :"
   ]
  },
  {
   "cell_type": "markdown",
   "metadata": {
    "id": "oZQ8sPaYa7ya"
   },
   "source": [
    "1. Install Library Kaggle"
   ]
  },
  {
   "cell_type": "code",
   "execution_count": 2,
   "metadata": {
    "colab": {
     "base_uri": "https://localhost:8080/"
    },
    "executionInfo": {
     "elapsed": 22933,
     "status": "ok",
     "timestamp": 1749799430184,
     "user": {
      "displayName": "Afandi NAT",
      "userId": "09831528245184057202"
     },
     "user_tz": -420
    },
    "id": "FzH-nZk14MhW",
    "outputId": "7cd9a346-9cee-47dc-918c-5e57dfb903d7"
   },
   "outputs": [
    {
     "name": "stdout",
     "output_type": "stream",
     "text": [
      "Requirement already satisfied: kaggle in /usr/local/lib/python3.11/dist-packages (1.7.4.5)\n",
      "Requirement already satisfied: bleach in /usr/local/lib/python3.11/dist-packages (from kaggle) (6.2.0)\n",
      "Requirement already satisfied: certifi>=14.05.14 in /usr/local/lib/python3.11/dist-packages (from kaggle) (2025.4.26)\n",
      "Requirement already satisfied: charset-normalizer in /usr/local/lib/python3.11/dist-packages (from kaggle) (3.4.2)\n",
      "Requirement already satisfied: idna in /usr/local/lib/python3.11/dist-packages (from kaggle) (3.10)\n",
      "Requirement already satisfied: protobuf in /usr/local/lib/python3.11/dist-packages (from kaggle) (5.29.5)\n",
      "Requirement already satisfied: python-dateutil>=2.5.3 in /usr/local/lib/python3.11/dist-packages (from kaggle) (2.9.0.post0)\n",
      "Requirement already satisfied: python-slugify in /usr/local/lib/python3.11/dist-packages (from kaggle) (8.0.4)\n",
      "Requirement already satisfied: requests in /usr/local/lib/python3.11/dist-packages (from kaggle) (2.32.3)\n",
      "Requirement already satisfied: setuptools>=21.0.0 in /usr/local/lib/python3.11/dist-packages (from kaggle) (75.2.0)\n",
      "Requirement already satisfied: six>=1.10 in /usr/local/lib/python3.11/dist-packages (from kaggle) (1.17.0)\n",
      "Requirement already satisfied: text-unidecode in /usr/local/lib/python3.11/dist-packages (from kaggle) (1.3)\n",
      "Requirement already satisfied: tqdm in /usr/local/lib/python3.11/dist-packages (from kaggle) (4.67.1)\n",
      "Requirement already satisfied: urllib3>=1.15.1 in /usr/local/lib/python3.11/dist-packages (from kaggle) (2.4.0)\n",
      "Requirement already satisfied: webencodings in /usr/local/lib/python3.11/dist-packages (from kaggle) (0.5.1)\n"
     ]
    }
   ],
   "source": [
    "!pip install kaggle"
   ]
  },
  {
   "cell_type": "markdown",
   "metadata": {
    "id": "lC5GFqkBbGNP"
   },
   "source": [
    "2. Buat direktori baru untuk menampung dataset yang diambil dari Kaggle. Pada proyek ini kita membuat direktori bernama dataset"
   ]
  },
  {
   "cell_type": "code",
   "execution_count": 3,
   "metadata": {
    "executionInfo": {
     "elapsed": 198,
     "status": "ok",
     "timestamp": 1749799430409,
     "user": {
      "displayName": "Afandi NAT",
      "userId": "09831528245184057202"
     },
     "user_tz": -420
    },
    "id": "mtINzvr14O2w"
   },
   "outputs": [],
   "source": [
    "!mkdir ~/.kaggle\n",
    "!mkdir dataset"
   ]
  },
  {
   "cell_type": "markdown",
   "metadata": {
    "id": "LINvcpWlbU7v"
   },
   "source": [
    "3. Untuk mengakses Kaggle kita membutuhkan kaggle API. Cara mendapatkan kagle API adalah masuk ke halaman pengaturan (*setting*) di kaggle, kemudian pilih API dan klik tombol **Create New Token**. Selanjutnya anda akan mendapatkan file kaggle.json yang digunakan untuk mengakses API. Umggah file kaggle.json kedalam proyek collab kita."
   ]
  },
  {
   "cell_type": "code",
   "execution_count": 4,
   "metadata": {
    "executionInfo": {
     "elapsed": 96,
     "status": "ok",
     "timestamp": 1749799487237,
     "user": {
      "displayName": "Afandi NAT",
      "userId": "09831528245184057202"
     },
     "user_tz": -420
    },
    "id": "WesYnnqx4Qyk"
   },
   "outputs": [],
   "source": [
    "!cp kaggle.json ~/.kaggle/"
   ]
  },
  {
   "cell_type": "markdown",
   "metadata": {
    "id": "f_OgpPKfcjVn"
   },
   "source": [
    "4. Tambahkan perizinan agar file kaggle.json dapat digunakan"
   ]
  },
  {
   "cell_type": "code",
   "execution_count": 5,
   "metadata": {
    "executionInfo": {
     "elapsed": 82,
     "status": "ok",
     "timestamp": 1749799492366,
     "user": {
      "displayName": "Afandi NAT",
      "userId": "09831528245184057202"
     },
     "user_tz": -420
    },
    "id": "xEKCvTxf4SjQ"
   },
   "outputs": [],
   "source": [
    "!chmod 600 ~/.kaggle/kaggle.json"
   ]
  },
  {
   "cell_type": "markdown",
   "metadata": {
    "id": "u9W2TBtHcqTc"
   },
   "source": [
    "5. Download dataset menggunakan tautan yang terdapat di kaggle"
   ]
  },
  {
   "cell_type": "code",
   "execution_count": 6,
   "metadata": {
    "colab": {
     "base_uri": "https://localhost:8080/"
    },
    "executionInfo": {
     "elapsed": 1294,
     "status": "ok",
     "timestamp": 1749799529016,
     "user": {
      "displayName": "Afandi NAT",
      "userId": "09831528245184057202"
     },
     "user_tz": -420
    },
    "id": "hWzIenvk4U6n",
    "outputId": "0f9a4cec-f74d-4cc3-c3a9-859bbd0e8bda"
   },
   "outputs": [
    {
     "name": "stdout",
     "output_type": "stream",
     "text": [
      "Dataset URL: https://www.kaggle.com/datasets/conorvaneden/best-songs-on-spotify-for-every-year-2000-2023\n",
      "License(s): unknown\n",
      "Downloading best-songs-on-spotify-for-every-year-2000-2023.zip to /content\n",
      "  0% 0.00/71.4k [00:00<?, ?B/s]\n",
      "100% 71.4k/71.4k [00:00<00:00, 220MB/s]\n"
     ]
    }
   ],
   "source": [
    "!kaggle datasets download conorvaneden/best-songs-on-spotify-for-every-year-2000-2023"
   ]
  },
  {
   "cell_type": "markdown",
   "metadata": {
    "id": "kZQ-im-Jc1AA"
   },
   "source": [
    "6. Lakukan unzip karena file dataset dalam bentuk .*zip. Kemudian masukan file ke dalam direktori dataset."
   ]
  },
  {
   "cell_type": "code",
   "execution_count": 7,
   "metadata": {
    "colab": {
     "base_uri": "https://localhost:8080/"
    },
    "executionInfo": {
     "elapsed": 154,
     "status": "ok",
     "timestamp": 1749799536767,
     "user": {
      "displayName": "Afandi NAT",
      "userId": "09831528245184057202"
     },
     "user_tz": -420
    },
    "id": "3uuV42WT4asx",
    "outputId": "29923662-9be6-44d2-b15d-735e3bb6f09b"
   },
   "outputs": [
    {
     "name": "stdout",
     "output_type": "stream",
     "text": [
      "Archive:  /content/best-songs-on-spotify-for-every-year-2000-2023.zip\n",
      "  inflating: dataset/Best Songs on Spotify from 2000-2023.csv  \n"
     ]
    }
   ],
   "source": [
    "!unzip /content/best-songs-on-spotify-for-every-year-2000-2023.zip -d dataset/"
   ]
  },
  {
   "cell_type": "markdown",
   "metadata": {
    "id": "Yrf_N9Di4juO"
   },
   "source": [
    "## **Data Understanding**"
   ]
  },
  {
   "cell_type": "markdown",
   "metadata": {
    "id": "p8tr6--Ef_RN"
   },
   "source": [
    "* Dataset berisi daftar lagu hits dari Spotify pada rentang tahun 2000 sampai 2023. Dataset dapat di download pada tautan berikut : https://www.kaggle.com/datasets/conorvaneden/best-songs-on-spotify-for-every-year-2000-2023\n",
    "* Memberikan informasi seperti deskripsi kolom, jumlah data, missing value, dan duplikasi data.\n",
    "* Melakukan menipulasi untuk memudahkan pemrosesan data\n",
    "* Melakukan beberapa tahapan yang diperlukan untuk memahami data contohnya teknik visualisasi data atau exploratory data analysis."
   ]
  },
  {
   "cell_type": "code",
   "execution_count": 9,
   "metadata": {
    "colab": {
     "base_uri": "https://localhost:8080/",
     "height": 669
    },
    "executionInfo": {
     "elapsed": 205,
     "status": "ok",
     "timestamp": 1749799565476,
     "user": {
      "displayName": "Afandi NAT",
      "userId": "09831528245184057202"
     },
     "user_tz": -420
    },
    "id": "L1PWn0Yz4gBe",
    "outputId": "2e47728c-84ae-4dd0-ee79-91cc3d8b6287"
   },
   "outputs": [
    {
     "data": {
      "application/vnd.google.colaboratory.intrinsic+json": {
       "summary": "{\n  \"name\": \"song\",\n  \"rows\": 2385,\n  \"fields\": [\n    {\n      \"column\": \"title\",\n      \"properties\": {\n        \"dtype\": \"string\",\n        \"num_unique_values\": 2261,\n        \"samples\": [\n          \"Caught Up\",\n          \"Wild Thoughts (feat. Rihanna & Bryson Tiller)\",\n          \"Buttons\"\n        ],\n        \"semantic_type\": \"\",\n        \"description\": \"\"\n      }\n    },\n    {\n      \"column\": \"artist\",\n      \"properties\": {\n        \"dtype\": \"category\",\n        \"num_unique_values\": 1014,\n        \"samples\": [\n          \"Cher Lloyd\",\n          \"Oasis\",\n          \"Nickelback\"\n        ],\n        \"semantic_type\": \"\",\n        \"description\": \"\"\n      }\n    },\n    {\n      \"column\": \"top genre\",\n      \"properties\": {\n        \"dtype\": \"category\",\n        \"num_unique_values\": 266,\n        \"samples\": [\n          \"soca\",\n          \"bouncy house\",\n          \"eurodance\"\n        ],\n        \"semantic_type\": \"\",\n        \"description\": \"\"\n      }\n    },\n    {\n      \"column\": \"year\",\n      \"properties\": {\n        \"dtype\": \"number\",\n        \"std\": 6,\n        \"min\": 1985,\n        \"max\": 2023,\n        \"num_unique_values\": 29,\n        \"samples\": [\n          1997,\n          2008,\n          2014\n        ],\n        \"semantic_type\": \"\",\n        \"description\": \"\"\n      }\n    },\n    {\n      \"column\": \"bpm\",\n      \"properties\": {\n        \"dtype\": \"number\",\n        \"std\": 27,\n        \"min\": 60,\n        \"max\": 211,\n        \"num_unique_values\": 136,\n        \"samples\": [\n          83,\n          154,\n          148\n        ],\n        \"semantic_type\": \"\",\n        \"description\": \"\"\n      }\n    },\n    {\n      \"column\": \"energy\",\n      \"properties\": {\n        \"dtype\": \"number\",\n        \"std\": 16,\n        \"min\": 6,\n        \"max\": 100,\n        \"num_unique_values\": 87,\n        \"samples\": [\n          13,\n          68,\n          82\n        ],\n        \"semantic_type\": \"\",\n        \"description\": \"\"\n      }\n    },\n    {\n      \"column\": \"danceability \",\n      \"properties\": {\n        \"dtype\": \"number\",\n        \"std\": 13,\n        \"min\": 18,\n        \"max\": 98,\n        \"num_unique_values\": 79,\n        \"samples\": [\n          73,\n          71,\n          81\n        ],\n        \"semantic_type\": \"\",\n        \"description\": \"\"\n      }\n    },\n    {\n      \"column\": \"dB\",\n      \"properties\": {\n        \"dtype\": \"number\",\n        \"std\": 2,\n        \"min\": -18,\n        \"max\": 0,\n        \"num_unique_values\": 19,\n        \"samples\": [\n          -4,\n          -5,\n          -13\n        ],\n        \"semantic_type\": \"\",\n        \"description\": \"\"\n      }\n    },\n    {\n      \"column\": \"liveness\",\n      \"properties\": {\n        \"dtype\": \"number\",\n        \"std\": 13,\n        \"min\": 2,\n        \"max\": 84,\n        \"num_unique_values\": 79,\n        \"samples\": [\n          54,\n          3,\n          22\n        ],\n        \"semantic_type\": \"\",\n        \"description\": \"\"\n      }\n    },\n    {\n      \"column\": \"valence\",\n      \"properties\": {\n        \"dtype\": \"number\",\n        \"std\": 22,\n        \"min\": 4,\n        \"max\": 97,\n        \"num_unique_values\": 94,\n        \"samples\": [\n          39,\n          56,\n          20\n        ],\n        \"semantic_type\": \"\",\n        \"description\": \"\"\n      }\n    },\n    {\n      \"column\": \"duration\",\n      \"properties\": {\n        \"dtype\": \"number\",\n        \"std\": 43,\n        \"min\": 115,\n        \"max\": 688,\n        \"num_unique_values\": 235,\n        \"samples\": [\n          270,\n          137,\n          274\n        ],\n        \"semantic_type\": \"\",\n        \"description\": \"\"\n      }\n    },\n    {\n      \"column\": \"acousticness\",\n      \"properties\": {\n        \"dtype\": \"number\",\n        \"std\": 20,\n        \"min\": 0,\n        \"max\": 98,\n        \"num_unique_values\": 96,\n        \"samples\": [\n          45,\n          95,\n          66\n        ],\n        \"semantic_type\": \"\",\n        \"description\": \"\"\n      }\n    },\n    {\n      \"column\": \"speechiness \",\n      \"properties\": {\n        \"dtype\": \"number\",\n        \"std\": 9,\n        \"min\": 2,\n        \"max\": 58,\n        \"num_unique_values\": 52,\n        \"samples\": [\n          26,\n          46,\n          49\n        ],\n        \"semantic_type\": \"\",\n        \"description\": \"\"\n      }\n    },\n    {\n      \"column\": \"popularity\",\n      \"properties\": {\n        \"dtype\": \"number\",\n        \"std\": 11,\n        \"min\": 5,\n        \"max\": 98,\n        \"num_unique_values\": 81,\n        \"samples\": [\n          69,\n          98,\n          78\n        ],\n        \"semantic_type\": \"\",\n        \"description\": \"\"\n      }\n    }\n  ]\n}",
       "type": "dataframe",
       "variable_name": "song"
      },
      "text/html": [
       "\n",
       "  <div id=\"df-03e6f333-92b3-41f3-aa79-a2acb029ba5d\" class=\"colab-df-container\">\n",
       "    <div>\n",
       "<style scoped>\n",
       "    .dataframe tbody tr th:only-of-type {\n",
       "        vertical-align: middle;\n",
       "    }\n",
       "\n",
       "    .dataframe tbody tr th {\n",
       "        vertical-align: top;\n",
       "    }\n",
       "\n",
       "    .dataframe thead th {\n",
       "        text-align: right;\n",
       "    }\n",
       "</style>\n",
       "<table border=\"1\" class=\"dataframe\">\n",
       "  <thead>\n",
       "    <tr style=\"text-align: right;\">\n",
       "      <th></th>\n",
       "      <th>title</th>\n",
       "      <th>artist</th>\n",
       "      <th>top genre</th>\n",
       "      <th>year</th>\n",
       "      <th>bpm</th>\n",
       "      <th>energy</th>\n",
       "      <th>danceability</th>\n",
       "      <th>dB</th>\n",
       "      <th>liveness</th>\n",
       "      <th>valence</th>\n",
       "      <th>duration</th>\n",
       "      <th>acousticness</th>\n",
       "      <th>speechiness</th>\n",
       "      <th>popularity</th>\n",
       "    </tr>\n",
       "  </thead>\n",
       "  <tbody>\n",
       "    <tr>\n",
       "      <th>0</th>\n",
       "      <td>Flowers</td>\n",
       "      <td>Miley Cyrus</td>\n",
       "      <td>pop</td>\n",
       "      <td>2023</td>\n",
       "      <td>118</td>\n",
       "      <td>68</td>\n",
       "      <td>71</td>\n",
       "      <td>-4</td>\n",
       "      <td>3</td>\n",
       "      <td>65</td>\n",
       "      <td>200</td>\n",
       "      <td>6</td>\n",
       "      <td>7</td>\n",
       "      <td>98</td>\n",
       "    </tr>\n",
       "    <tr>\n",
       "      <th>1</th>\n",
       "      <td>Cupid - Twin Ver.</td>\n",
       "      <td>FIFTY FIFTY</td>\n",
       "      <td>k-pop girl group</td>\n",
       "      <td>2023</td>\n",
       "      <td>120</td>\n",
       "      <td>59</td>\n",
       "      <td>78</td>\n",
       "      <td>-8</td>\n",
       "      <td>35</td>\n",
       "      <td>73</td>\n",
       "      <td>174</td>\n",
       "      <td>44</td>\n",
       "      <td>3</td>\n",
       "      <td>97</td>\n",
       "    </tr>\n",
       "    <tr>\n",
       "      <th>2</th>\n",
       "      <td>BESO</td>\n",
       "      <td>ROSALÍA</td>\n",
       "      <td>pop</td>\n",
       "      <td>2023</td>\n",
       "      <td>95</td>\n",
       "      <td>64</td>\n",
       "      <td>77</td>\n",
       "      <td>-7</td>\n",
       "      <td>17</td>\n",
       "      <td>53</td>\n",
       "      <td>195</td>\n",
       "      <td>74</td>\n",
       "      <td>14</td>\n",
       "      <td>96</td>\n",
       "    </tr>\n",
       "    <tr>\n",
       "      <th>3</th>\n",
       "      <td>Boy's a liar Pt. 2</td>\n",
       "      <td>PinkPantheress</td>\n",
       "      <td>bronx drill</td>\n",
       "      <td>2023</td>\n",
       "      <td>133</td>\n",
       "      <td>81</td>\n",
       "      <td>70</td>\n",
       "      <td>-8</td>\n",
       "      <td>25</td>\n",
       "      <td>86</td>\n",
       "      <td>131</td>\n",
       "      <td>25</td>\n",
       "      <td>5</td>\n",
       "      <td>96</td>\n",
       "    </tr>\n",
       "    <tr>\n",
       "      <th>4</th>\n",
       "      <td>Creepin' (with The Weeknd &amp; 21 Savage)</td>\n",
       "      <td>Metro Boomin</td>\n",
       "      <td>rap</td>\n",
       "      <td>2022</td>\n",
       "      <td>98</td>\n",
       "      <td>62</td>\n",
       "      <td>72</td>\n",
       "      <td>-6</td>\n",
       "      <td>8</td>\n",
       "      <td>17</td>\n",
       "      <td>222</td>\n",
       "      <td>42</td>\n",
       "      <td>5</td>\n",
       "      <td>96</td>\n",
       "    </tr>\n",
       "    <tr>\n",
       "      <th>...</th>\n",
       "      <td>...</td>\n",
       "      <td>...</td>\n",
       "      <td>...</td>\n",
       "      <td>...</td>\n",
       "      <td>...</td>\n",
       "      <td>...</td>\n",
       "      <td>...</td>\n",
       "      <td>...</td>\n",
       "      <td>...</td>\n",
       "      <td>...</td>\n",
       "      <td>...</td>\n",
       "      <td>...</td>\n",
       "      <td>...</td>\n",
       "      <td>...</td>\n",
       "    </tr>\n",
       "    <tr>\n",
       "      <th>2380</th>\n",
       "      <td>Southbound</td>\n",
       "      <td>Beach Blvd</td>\n",
       "      <td>rock</td>\n",
       "      <td>2023</td>\n",
       "      <td>140</td>\n",
       "      <td>88</td>\n",
       "      <td>60</td>\n",
       "      <td>-6</td>\n",
       "      <td>10</td>\n",
       "      <td>49</td>\n",
       "      <td>228</td>\n",
       "      <td>19</td>\n",
       "      <td>4</td>\n",
       "      <td>21</td>\n",
       "    </tr>\n",
       "    <tr>\n",
       "      <th>2381</th>\n",
       "      <td>Dance with Somebody - Radio Version</td>\n",
       "      <td>Mando Diao</td>\n",
       "      <td>dalarna indie</td>\n",
       "      <td>2009</td>\n",
       "      <td>150</td>\n",
       "      <td>90</td>\n",
       "      <td>55</td>\n",
       "      <td>-4</td>\n",
       "      <td>36</td>\n",
       "      <td>51</td>\n",
       "      <td>241</td>\n",
       "      <td>0</td>\n",
       "      <td>9</td>\n",
       "      <td>16</td>\n",
       "    </tr>\n",
       "    <tr>\n",
       "      <th>2382</th>\n",
       "      <td>Flow</td>\n",
       "      <td>Desire Machines</td>\n",
       "      <td>indie</td>\n",
       "      <td>2022</td>\n",
       "      <td>100</td>\n",
       "      <td>87</td>\n",
       "      <td>60</td>\n",
       "      <td>-7</td>\n",
       "      <td>9</td>\n",
       "      <td>74</td>\n",
       "      <td>255</td>\n",
       "      <td>0</td>\n",
       "      <td>5</td>\n",
       "      <td>15</td>\n",
       "    </tr>\n",
       "    <tr>\n",
       "      <th>2383</th>\n",
       "      <td>Scared of the Dark</td>\n",
       "      <td>Everything Brighter</td>\n",
       "      <td>pop</td>\n",
       "      <td>2023</td>\n",
       "      <td>120</td>\n",
       "      <td>80</td>\n",
       "      <td>65</td>\n",
       "      <td>-6</td>\n",
       "      <td>7</td>\n",
       "      <td>61</td>\n",
       "      <td>179</td>\n",
       "      <td>0</td>\n",
       "      <td>6</td>\n",
       "      <td>11</td>\n",
       "    </tr>\n",
       "    <tr>\n",
       "      <th>2384</th>\n",
       "      <td>Sorry</td>\n",
       "      <td>LEADR</td>\n",
       "      <td>tropical house</td>\n",
       "      <td>2023</td>\n",
       "      <td>95</td>\n",
       "      <td>64</td>\n",
       "      <td>66</td>\n",
       "      <td>-10</td>\n",
       "      <td>19</td>\n",
       "      <td>40</td>\n",
       "      <td>174</td>\n",
       "      <td>0</td>\n",
       "      <td>6</td>\n",
       "      <td>5</td>\n",
       "    </tr>\n",
       "  </tbody>\n",
       "</table>\n",
       "<p>2385 rows × 14 columns</p>\n",
       "</div>\n",
       "    <div class=\"colab-df-buttons\">\n",
       "\n",
       "  <div class=\"colab-df-container\">\n",
       "    <button class=\"colab-df-convert\" onclick=\"convertToInteractive('df-03e6f333-92b3-41f3-aa79-a2acb029ba5d')\"\n",
       "            title=\"Convert this dataframe to an interactive table.\"\n",
       "            style=\"display:none;\">\n",
       "\n",
       "  <svg xmlns=\"http://www.w3.org/2000/svg\" height=\"24px\" viewBox=\"0 -960 960 960\">\n",
       "    <path d=\"M120-120v-720h720v720H120Zm60-500h600v-160H180v160Zm220 220h160v-160H400v160Zm0 220h160v-160H400v160ZM180-400h160v-160H180v160Zm440 0h160v-160H620v160ZM180-180h160v-160H180v160Zm440 0h160v-160H620v160Z\"/>\n",
       "  </svg>\n",
       "    </button>\n",
       "\n",
       "  <style>\n",
       "    .colab-df-container {\n",
       "      display:flex;\n",
       "      gap: 12px;\n",
       "    }\n",
       "\n",
       "    .colab-df-convert {\n",
       "      background-color: #E8F0FE;\n",
       "      border: none;\n",
       "      border-radius: 50%;\n",
       "      cursor: pointer;\n",
       "      display: none;\n",
       "      fill: #1967D2;\n",
       "      height: 32px;\n",
       "      padding: 0 0 0 0;\n",
       "      width: 32px;\n",
       "    }\n",
       "\n",
       "    .colab-df-convert:hover {\n",
       "      background-color: #E2EBFA;\n",
       "      box-shadow: 0px 1px 2px rgba(60, 64, 67, 0.3), 0px 1px 3px 1px rgba(60, 64, 67, 0.15);\n",
       "      fill: #174EA6;\n",
       "    }\n",
       "\n",
       "    .colab-df-buttons div {\n",
       "      margin-bottom: 4px;\n",
       "    }\n",
       "\n",
       "    [theme=dark] .colab-df-convert {\n",
       "      background-color: #3B4455;\n",
       "      fill: #D2E3FC;\n",
       "    }\n",
       "\n",
       "    [theme=dark] .colab-df-convert:hover {\n",
       "      background-color: #434B5C;\n",
       "      box-shadow: 0px 1px 3px 1px rgba(0, 0, 0, 0.15);\n",
       "      filter: drop-shadow(0px 1px 2px rgba(0, 0, 0, 0.3));\n",
       "      fill: #FFFFFF;\n",
       "    }\n",
       "  </style>\n",
       "\n",
       "    <script>\n",
       "      const buttonEl =\n",
       "        document.querySelector('#df-03e6f333-92b3-41f3-aa79-a2acb029ba5d button.colab-df-convert');\n",
       "      buttonEl.style.display =\n",
       "        google.colab.kernel.accessAllowed ? 'block' : 'none';\n",
       "\n",
       "      async function convertToInteractive(key) {\n",
       "        const element = document.querySelector('#df-03e6f333-92b3-41f3-aa79-a2acb029ba5d');\n",
       "        const dataTable =\n",
       "          await google.colab.kernel.invokeFunction('convertToInteractive',\n",
       "                                                    [key], {});\n",
       "        if (!dataTable) return;\n",
       "\n",
       "        const docLinkHtml = 'Like what you see? Visit the ' +\n",
       "          '<a target=\"_blank\" href=https://colab.research.google.com/notebooks/data_table.ipynb>data table notebook</a>'\n",
       "          + ' to learn more about interactive tables.';\n",
       "        element.innerHTML = '';\n",
       "        dataTable['output_type'] = 'display_data';\n",
       "        await google.colab.output.renderOutput(dataTable, element);\n",
       "        const docLink = document.createElement('div');\n",
       "        docLink.innerHTML = docLinkHtml;\n",
       "        element.appendChild(docLink);\n",
       "      }\n",
       "    </script>\n",
       "  </div>\n",
       "\n",
       "\n",
       "    <div id=\"df-396d370c-4e0d-4206-b1c6-c7e1f844b331\">\n",
       "      <button class=\"colab-df-quickchart\" onclick=\"quickchart('df-396d370c-4e0d-4206-b1c6-c7e1f844b331')\"\n",
       "                title=\"Suggest charts\"\n",
       "                style=\"display:none;\">\n",
       "\n",
       "<svg xmlns=\"http://www.w3.org/2000/svg\" height=\"24px\"viewBox=\"0 0 24 24\"\n",
       "     width=\"24px\">\n",
       "    <g>\n",
       "        <path d=\"M19 3H5c-1.1 0-2 .9-2 2v14c0 1.1.9 2 2 2h14c1.1 0 2-.9 2-2V5c0-1.1-.9-2-2-2zM9 17H7v-7h2v7zm4 0h-2V7h2v10zm4 0h-2v-4h2v4z\"/>\n",
       "    </g>\n",
       "</svg>\n",
       "      </button>\n",
       "\n",
       "<style>\n",
       "  .colab-df-quickchart {\n",
       "      --bg-color: #E8F0FE;\n",
       "      --fill-color: #1967D2;\n",
       "      --hover-bg-color: #E2EBFA;\n",
       "      --hover-fill-color: #174EA6;\n",
       "      --disabled-fill-color: #AAA;\n",
       "      --disabled-bg-color: #DDD;\n",
       "  }\n",
       "\n",
       "  [theme=dark] .colab-df-quickchart {\n",
       "      --bg-color: #3B4455;\n",
       "      --fill-color: #D2E3FC;\n",
       "      --hover-bg-color: #434B5C;\n",
       "      --hover-fill-color: #FFFFFF;\n",
       "      --disabled-bg-color: #3B4455;\n",
       "      --disabled-fill-color: #666;\n",
       "  }\n",
       "\n",
       "  .colab-df-quickchart {\n",
       "    background-color: var(--bg-color);\n",
       "    border: none;\n",
       "    border-radius: 50%;\n",
       "    cursor: pointer;\n",
       "    display: none;\n",
       "    fill: var(--fill-color);\n",
       "    height: 32px;\n",
       "    padding: 0;\n",
       "    width: 32px;\n",
       "  }\n",
       "\n",
       "  .colab-df-quickchart:hover {\n",
       "    background-color: var(--hover-bg-color);\n",
       "    box-shadow: 0 1px 2px rgba(60, 64, 67, 0.3), 0 1px 3px 1px rgba(60, 64, 67, 0.15);\n",
       "    fill: var(--button-hover-fill-color);\n",
       "  }\n",
       "\n",
       "  .colab-df-quickchart-complete:disabled,\n",
       "  .colab-df-quickchart-complete:disabled:hover {\n",
       "    background-color: var(--disabled-bg-color);\n",
       "    fill: var(--disabled-fill-color);\n",
       "    box-shadow: none;\n",
       "  }\n",
       "\n",
       "  .colab-df-spinner {\n",
       "    border: 2px solid var(--fill-color);\n",
       "    border-color: transparent;\n",
       "    border-bottom-color: var(--fill-color);\n",
       "    animation:\n",
       "      spin 1s steps(1) infinite;\n",
       "  }\n",
       "\n",
       "  @keyframes spin {\n",
       "    0% {\n",
       "      border-color: transparent;\n",
       "      border-bottom-color: var(--fill-color);\n",
       "      border-left-color: var(--fill-color);\n",
       "    }\n",
       "    20% {\n",
       "      border-color: transparent;\n",
       "      border-left-color: var(--fill-color);\n",
       "      border-top-color: var(--fill-color);\n",
       "    }\n",
       "    30% {\n",
       "      border-color: transparent;\n",
       "      border-left-color: var(--fill-color);\n",
       "      border-top-color: var(--fill-color);\n",
       "      border-right-color: var(--fill-color);\n",
       "    }\n",
       "    40% {\n",
       "      border-color: transparent;\n",
       "      border-right-color: var(--fill-color);\n",
       "      border-top-color: var(--fill-color);\n",
       "    }\n",
       "    60% {\n",
       "      border-color: transparent;\n",
       "      border-right-color: var(--fill-color);\n",
       "    }\n",
       "    80% {\n",
       "      border-color: transparent;\n",
       "      border-right-color: var(--fill-color);\n",
       "      border-bottom-color: var(--fill-color);\n",
       "    }\n",
       "    90% {\n",
       "      border-color: transparent;\n",
       "      border-bottom-color: var(--fill-color);\n",
       "    }\n",
       "  }\n",
       "</style>\n",
       "\n",
       "      <script>\n",
       "        async function quickchart(key) {\n",
       "          const quickchartButtonEl =\n",
       "            document.querySelector('#' + key + ' button');\n",
       "          quickchartButtonEl.disabled = true;  // To prevent multiple clicks.\n",
       "          quickchartButtonEl.classList.add('colab-df-spinner');\n",
       "          try {\n",
       "            const charts = await google.colab.kernel.invokeFunction(\n",
       "                'suggestCharts', [key], {});\n",
       "          } catch (error) {\n",
       "            console.error('Error during call to suggestCharts:', error);\n",
       "          }\n",
       "          quickchartButtonEl.classList.remove('colab-df-spinner');\n",
       "          quickchartButtonEl.classList.add('colab-df-quickchart-complete');\n",
       "        }\n",
       "        (() => {\n",
       "          let quickchartButtonEl =\n",
       "            document.querySelector('#df-396d370c-4e0d-4206-b1c6-c7e1f844b331 button');\n",
       "          quickchartButtonEl.style.display =\n",
       "            google.colab.kernel.accessAllowed ? 'block' : 'none';\n",
       "        })();\n",
       "      </script>\n",
       "    </div>\n",
       "\n",
       "  <div id=\"id_e86e184e-036b-40de-84e7-8ed81a3866c3\">\n",
       "    <style>\n",
       "      .colab-df-generate {\n",
       "        background-color: #E8F0FE;\n",
       "        border: none;\n",
       "        border-radius: 50%;\n",
       "        cursor: pointer;\n",
       "        display: none;\n",
       "        fill: #1967D2;\n",
       "        height: 32px;\n",
       "        padding: 0 0 0 0;\n",
       "        width: 32px;\n",
       "      }\n",
       "\n",
       "      .colab-df-generate:hover {\n",
       "        background-color: #E2EBFA;\n",
       "        box-shadow: 0px 1px 2px rgba(60, 64, 67, 0.3), 0px 1px 3px 1px rgba(60, 64, 67, 0.15);\n",
       "        fill: #174EA6;\n",
       "      }\n",
       "\n",
       "      [theme=dark] .colab-df-generate {\n",
       "        background-color: #3B4455;\n",
       "        fill: #D2E3FC;\n",
       "      }\n",
       "\n",
       "      [theme=dark] .colab-df-generate:hover {\n",
       "        background-color: #434B5C;\n",
       "        box-shadow: 0px 1px 3px 1px rgba(0, 0, 0, 0.15);\n",
       "        filter: drop-shadow(0px 1px 2px rgba(0, 0, 0, 0.3));\n",
       "        fill: #FFFFFF;\n",
       "      }\n",
       "    </style>\n",
       "    <button class=\"colab-df-generate\" onclick=\"generateWithVariable('song')\"\n",
       "            title=\"Generate code using this dataframe.\"\n",
       "            style=\"display:none;\">\n",
       "\n",
       "  <svg xmlns=\"http://www.w3.org/2000/svg\" height=\"24px\"viewBox=\"0 0 24 24\"\n",
       "       width=\"24px\">\n",
       "    <path d=\"M7,19H8.4L18.45,9,17,7.55,7,17.6ZM5,21V16.75L18.45,3.32a2,2,0,0,1,2.83,0l1.4,1.43a1.91,1.91,0,0,1,.58,1.4,1.91,1.91,0,0,1-.58,1.4L9.25,21ZM18.45,9,17,7.55Zm-12,3A5.31,5.31,0,0,0,4.9,8.1,5.31,5.31,0,0,0,1,6.5,5.31,5.31,0,0,0,4.9,4.9,5.31,5.31,0,0,0,6.5,1,5.31,5.31,0,0,0,8.1,4.9,5.31,5.31,0,0,0,12,6.5,5.46,5.46,0,0,0,6.5,12Z\"/>\n",
       "  </svg>\n",
       "    </button>\n",
       "    <script>\n",
       "      (() => {\n",
       "      const buttonEl =\n",
       "        document.querySelector('#id_e86e184e-036b-40de-84e7-8ed81a3866c3 button.colab-df-generate');\n",
       "      buttonEl.style.display =\n",
       "        google.colab.kernel.accessAllowed ? 'block' : 'none';\n",
       "\n",
       "      buttonEl.onclick = () => {\n",
       "        google.colab.notebook.generateWithVariable('song');\n",
       "      }\n",
       "      })();\n",
       "    </script>\n",
       "  </div>\n",
       "\n",
       "    </div>\n",
       "  </div>\n"
      ],
      "text/plain": [
       "                                       title               artist  \\\n",
       "0                                    Flowers          Miley Cyrus   \n",
       "1                          Cupid - Twin Ver.          FIFTY FIFTY   \n",
       "2                                       BESO              ROSALÍA   \n",
       "3                         Boy's a liar Pt. 2       PinkPantheress   \n",
       "4     Creepin' (with The Weeknd & 21 Savage)         Metro Boomin   \n",
       "...                                      ...                  ...   \n",
       "2380                              Southbound           Beach Blvd   \n",
       "2381     Dance with Somebody - Radio Version           Mando Diao   \n",
       "2382                                    Flow      Desire Machines   \n",
       "2383                      Scared of the Dark  Everything Brighter   \n",
       "2384                                   Sorry                LEADR   \n",
       "\n",
       "             top genre  year  bpm  energy  danceability   dB  liveness  \\\n",
       "0                  pop  2023  118      68             71  -4         3   \n",
       "1     k-pop girl group  2023  120      59             78  -8        35   \n",
       "2                  pop  2023   95      64             77  -7        17   \n",
       "3          bronx drill  2023  133      81             70  -8        25   \n",
       "4                  rap  2022   98      62             72  -6         8   \n",
       "...                ...   ...  ...     ...            ...  ..       ...   \n",
       "2380              rock  2023  140      88             60  -6        10   \n",
       "2381     dalarna indie  2009  150      90             55  -4        36   \n",
       "2382             indie  2022  100      87             60  -7         9   \n",
       "2383               pop  2023  120      80             65  -6         7   \n",
       "2384    tropical house  2023   95      64             66 -10        19   \n",
       "\n",
       "      valence  duration  acousticness  speechiness   popularity  \n",
       "0          65       200             6             7          98  \n",
       "1          73       174            44             3          97  \n",
       "2          53       195            74            14          96  \n",
       "3          86       131            25             5          96  \n",
       "4          17       222            42             5          96  \n",
       "...       ...       ...           ...           ...         ...  \n",
       "2380       49       228            19             4          21  \n",
       "2381       51       241             0             9          16  \n",
       "2382       74       255             0             5          15  \n",
       "2383       61       179             0             6          11  \n",
       "2384       40       174             0             6           5  \n",
       "\n",
       "[2385 rows x 14 columns]"
      ]
     },
     "execution_count": 9,
     "metadata": {},
     "output_type": "execute_result"
    }
   ],
   "source": [
    "song = pd.read_csv(\"/content/dataset/Best Songs on Spotify from 2000-2023.csv\", delimiter=\";\")\n",
    "song"
   ]
  },
  {
   "cell_type": "markdown",
   "metadata": {
    "id": "A96xFwjXf2kU"
   },
   "source": [
    "**Informasi Tentang Kolom**\n",
    "<ol>\n",
    "    <li><b>title</b>: Judul Lagu</li>\n",
    "    <li><b>artist</b>: Penyanyi Lagu</li>\n",
    "    <li><b>top genre</b>: Genre Lagu</li>\n",
    "    <li><b>year</b>: Tahun Lagu Pertama Kali Dikeluarkan</li>\n",
    "    <li><b>bpm</b>: Tempo Lagu (Beats Per Minutes)</li>\n",
    "    <li><b>energy</b>: Energi Lagu (Semakin besar nilai, maka energi juga semakin besar)</li>\n",
    "    <li><b>danceability</b>: Semakin besar nilai, maka semakin mudah menari mengikuti lagu</li>\n",
    "    <li><b>db</b>: Semakin besar nilai, maka suara lagu semakin kencang</li>\n",
    "    <li><b>liveness</b>: Semakin besar nilai, maka semakin sesar kemungkinan lagu berasal dari live recording</li>\n",
    "    <li><b>valence</b>: Semakin besar nilai, maka semakin positif mood untuk lagu tersebut</li>\n",
    "    <li><b>duration</b>: Durasi Lagu (detik)</li>\n",
    "    <li><b>acousticness</b>: Semakin besar nilai, maka semakin akustik lagu tersebut</li>\n",
    "    <li><b>speechiness</b>: Semakin besar nilai, maka semakin banyak kata yang diucapkan dalam lagu tersebut</li>\n",
    "    <li><b>popularity</b>: Semakin besar nilai, maka popularitas lagu semakin tinggi</li>\n",
    "</ol>"
   ]
  },
  {
   "cell_type": "markdown",
   "metadata": {
    "id": "sM4T571Xdrfn"
   },
   "source": [
    "### **Exploratory Data Analysis**"
   ]
  },
  {
   "cell_type": "markdown",
   "metadata": {
    "id": "Kn8BqZOKE2ki"
   },
   "source": [
    "**Data Overview**"
   ]
  },
  {
   "cell_type": "code",
   "execution_count": 10,
   "metadata": {
    "colab": {
     "base_uri": "https://localhost:8080/"
    },
    "executionInfo": {
     "elapsed": 17,
     "status": "ok",
     "timestamp": 1749799570491,
     "user": {
      "displayName": "Afandi NAT",
      "userId": "09831528245184057202"
     },
     "user_tz": -420
    },
    "id": "SyN9hk9y5D4o",
    "outputId": "dadd0666-0468-4ec7-9354-050b3e86cc63"
   },
   "outputs": [
    {
     "data": {
      "text/plain": [
       "(2385, 14)"
      ]
     },
     "execution_count": 10,
     "metadata": {},
     "output_type": "execute_result"
    }
   ],
   "source": [
    "song.shape"
   ]
  },
  {
   "cell_type": "code",
   "execution_count": 11,
   "metadata": {
    "colab": {
     "base_uri": "https://localhost:8080/"
    },
    "executionInfo": {
     "elapsed": 43,
     "status": "ok",
     "timestamp": 1749799572292,
     "user": {
      "displayName": "Afandi NAT",
      "userId": "09831528245184057202"
     },
     "user_tz": -420
    },
    "id": "Fq4f6JmI5Ytk",
    "outputId": "0cd089e7-d809-4440-8bf9-4dfccdeed8f1"
   },
   "outputs": [
    {
     "name": "stdout",
     "output_type": "stream",
     "text": [
      "<class 'pandas.core.frame.DataFrame'>\n",
      "RangeIndex: 2385 entries, 0 to 2384\n",
      "Data columns (total 14 columns):\n",
      " #   Column         Non-Null Count  Dtype \n",
      "---  ------         --------------  ----- \n",
      " 0   title          2385 non-null   object\n",
      " 1   artist         2385 non-null   object\n",
      " 2   top genre      2385 non-null   object\n",
      " 3   year           2385 non-null   int64 \n",
      " 4   bpm            2385 non-null   int64 \n",
      " 5   energy         2385 non-null   int64 \n",
      " 6   danceability   2385 non-null   int64 \n",
      " 7   dB             2385 non-null   int64 \n",
      " 8   liveness       2385 non-null   int64 \n",
      " 9   valence        2385 non-null   int64 \n",
      " 10  duration       2385 non-null   int64 \n",
      " 11  acousticness   2385 non-null   int64 \n",
      " 12  speechiness    2385 non-null   int64 \n",
      " 13  popularity     2385 non-null   int64 \n",
      "dtypes: int64(11), object(3)\n",
      "memory usage: 261.0+ KB\n"
     ]
    }
   ],
   "source": [
    "song.info()"
   ]
  },
  {
   "cell_type": "code",
   "execution_count": 12,
   "metadata": {
    "executionInfo": {
     "elapsed": 7,
     "status": "ok",
     "timestamp": 1749799583698,
     "user": {
      "displayName": "Afandi NAT",
      "userId": "09831528245184057202"
     },
     "user_tz": -420
    },
    "id": "zJ4rwSxD5afN"
   },
   "outputs": [],
   "source": [
    "def create_missing_df(dataframe):\n",
    "    missing_index=dataframe.columns.tolist()\n",
    "    missing=dataframe.isnull().sum().tolist()\n",
    "    missing_df=pd.DataFrame({'Missing':missing}, index=missing_index)\n",
    "    return missing_df"
   ]
  },
  {
   "cell_type": "code",
   "execution_count": 13,
   "metadata": {
    "colab": {
     "base_uri": "https://localhost:8080/",
     "height": 488
    },
    "executionInfo": {
     "elapsed": 199,
     "status": "ok",
     "timestamp": 1749799586217,
     "user": {
      "displayName": "Afandi NAT",
      "userId": "09831528245184057202"
     },
     "user_tz": -420
    },
    "id": "aC8C08a95djK",
    "outputId": "e894085c-3c45-47e1-cc3a-207a1a6cde05"
   },
   "outputs": [
    {
     "data": {
      "application/vnd.google.colaboratory.intrinsic+json": {
       "summary": "{\n  \"name\": \"create_missing_df(song)\",\n  \"rows\": 14,\n  \"fields\": [\n    {\n      \"column\": \"Missing\",\n      \"properties\": {\n        \"dtype\": \"number\",\n        \"std\": 0,\n        \"min\": 0,\n        \"max\": 0,\n        \"num_unique_values\": 1,\n        \"samples\": [\n          0\n        ],\n        \"semantic_type\": \"\",\n        \"description\": \"\"\n      }\n    }\n  ]\n}",
       "type": "dataframe"
      },
      "text/html": [
       "\n",
       "  <div id=\"df-a422a115-4db1-4109-bf0e-63a1fb050482\" class=\"colab-df-container\">\n",
       "    <div>\n",
       "<style scoped>\n",
       "    .dataframe tbody tr th:only-of-type {\n",
       "        vertical-align: middle;\n",
       "    }\n",
       "\n",
       "    .dataframe tbody tr th {\n",
       "        vertical-align: top;\n",
       "    }\n",
       "\n",
       "    .dataframe thead th {\n",
       "        text-align: right;\n",
       "    }\n",
       "</style>\n",
       "<table border=\"1\" class=\"dataframe\">\n",
       "  <thead>\n",
       "    <tr style=\"text-align: right;\">\n",
       "      <th></th>\n",
       "      <th>Missing</th>\n",
       "    </tr>\n",
       "  </thead>\n",
       "  <tbody>\n",
       "    <tr>\n",
       "      <th>title</th>\n",
       "      <td>0</td>\n",
       "    </tr>\n",
       "    <tr>\n",
       "      <th>artist</th>\n",
       "      <td>0</td>\n",
       "    </tr>\n",
       "    <tr>\n",
       "      <th>top genre</th>\n",
       "      <td>0</td>\n",
       "    </tr>\n",
       "    <tr>\n",
       "      <th>year</th>\n",
       "      <td>0</td>\n",
       "    </tr>\n",
       "    <tr>\n",
       "      <th>bpm</th>\n",
       "      <td>0</td>\n",
       "    </tr>\n",
       "    <tr>\n",
       "      <th>energy</th>\n",
       "      <td>0</td>\n",
       "    </tr>\n",
       "    <tr>\n",
       "      <th>danceability</th>\n",
       "      <td>0</td>\n",
       "    </tr>\n",
       "    <tr>\n",
       "      <th>dB</th>\n",
       "      <td>0</td>\n",
       "    </tr>\n",
       "    <tr>\n",
       "      <th>liveness</th>\n",
       "      <td>0</td>\n",
       "    </tr>\n",
       "    <tr>\n",
       "      <th>valence</th>\n",
       "      <td>0</td>\n",
       "    </tr>\n",
       "    <tr>\n",
       "      <th>duration</th>\n",
       "      <td>0</td>\n",
       "    </tr>\n",
       "    <tr>\n",
       "      <th>acousticness</th>\n",
       "      <td>0</td>\n",
       "    </tr>\n",
       "    <tr>\n",
       "      <th>speechiness</th>\n",
       "      <td>0</td>\n",
       "    </tr>\n",
       "    <tr>\n",
       "      <th>popularity</th>\n",
       "      <td>0</td>\n",
       "    </tr>\n",
       "  </tbody>\n",
       "</table>\n",
       "</div>\n",
       "    <div class=\"colab-df-buttons\">\n",
       "\n",
       "  <div class=\"colab-df-container\">\n",
       "    <button class=\"colab-df-convert\" onclick=\"convertToInteractive('df-a422a115-4db1-4109-bf0e-63a1fb050482')\"\n",
       "            title=\"Convert this dataframe to an interactive table.\"\n",
       "            style=\"display:none;\">\n",
       "\n",
       "  <svg xmlns=\"http://www.w3.org/2000/svg\" height=\"24px\" viewBox=\"0 -960 960 960\">\n",
       "    <path d=\"M120-120v-720h720v720H120Zm60-500h600v-160H180v160Zm220 220h160v-160H400v160Zm0 220h160v-160H400v160ZM180-400h160v-160H180v160Zm440 0h160v-160H620v160ZM180-180h160v-160H180v160Zm440 0h160v-160H620v160Z\"/>\n",
       "  </svg>\n",
       "    </button>\n",
       "\n",
       "  <style>\n",
       "    .colab-df-container {\n",
       "      display:flex;\n",
       "      gap: 12px;\n",
       "    }\n",
       "\n",
       "    .colab-df-convert {\n",
       "      background-color: #E8F0FE;\n",
       "      border: none;\n",
       "      border-radius: 50%;\n",
       "      cursor: pointer;\n",
       "      display: none;\n",
       "      fill: #1967D2;\n",
       "      height: 32px;\n",
       "      padding: 0 0 0 0;\n",
       "      width: 32px;\n",
       "    }\n",
       "\n",
       "    .colab-df-convert:hover {\n",
       "      background-color: #E2EBFA;\n",
       "      box-shadow: 0px 1px 2px rgba(60, 64, 67, 0.3), 0px 1px 3px 1px rgba(60, 64, 67, 0.15);\n",
       "      fill: #174EA6;\n",
       "    }\n",
       "\n",
       "    .colab-df-buttons div {\n",
       "      margin-bottom: 4px;\n",
       "    }\n",
       "\n",
       "    [theme=dark] .colab-df-convert {\n",
       "      background-color: #3B4455;\n",
       "      fill: #D2E3FC;\n",
       "    }\n",
       "\n",
       "    [theme=dark] .colab-df-convert:hover {\n",
       "      background-color: #434B5C;\n",
       "      box-shadow: 0px 1px 3px 1px rgba(0, 0, 0, 0.15);\n",
       "      filter: drop-shadow(0px 1px 2px rgba(0, 0, 0, 0.3));\n",
       "      fill: #FFFFFF;\n",
       "    }\n",
       "  </style>\n",
       "\n",
       "    <script>\n",
       "      const buttonEl =\n",
       "        document.querySelector('#df-a422a115-4db1-4109-bf0e-63a1fb050482 button.colab-df-convert');\n",
       "      buttonEl.style.display =\n",
       "        google.colab.kernel.accessAllowed ? 'block' : 'none';\n",
       "\n",
       "      async function convertToInteractive(key) {\n",
       "        const element = document.querySelector('#df-a422a115-4db1-4109-bf0e-63a1fb050482');\n",
       "        const dataTable =\n",
       "          await google.colab.kernel.invokeFunction('convertToInteractive',\n",
       "                                                    [key], {});\n",
       "        if (!dataTable) return;\n",
       "\n",
       "        const docLinkHtml = 'Like what you see? Visit the ' +\n",
       "          '<a target=\"_blank\" href=https://colab.research.google.com/notebooks/data_table.ipynb>data table notebook</a>'\n",
       "          + ' to learn more about interactive tables.';\n",
       "        element.innerHTML = '';\n",
       "        dataTable['output_type'] = 'display_data';\n",
       "        await google.colab.output.renderOutput(dataTable, element);\n",
       "        const docLink = document.createElement('div');\n",
       "        docLink.innerHTML = docLinkHtml;\n",
       "        element.appendChild(docLink);\n",
       "      }\n",
       "    </script>\n",
       "  </div>\n",
       "\n",
       "\n",
       "    <div id=\"df-44069d96-86ee-42db-a235-40b9d432d1b8\">\n",
       "      <button class=\"colab-df-quickchart\" onclick=\"quickchart('df-44069d96-86ee-42db-a235-40b9d432d1b8')\"\n",
       "                title=\"Suggest charts\"\n",
       "                style=\"display:none;\">\n",
       "\n",
       "<svg xmlns=\"http://www.w3.org/2000/svg\" height=\"24px\"viewBox=\"0 0 24 24\"\n",
       "     width=\"24px\">\n",
       "    <g>\n",
       "        <path d=\"M19 3H5c-1.1 0-2 .9-2 2v14c0 1.1.9 2 2 2h14c1.1 0 2-.9 2-2V5c0-1.1-.9-2-2-2zM9 17H7v-7h2v7zm4 0h-2V7h2v10zm4 0h-2v-4h2v4z\"/>\n",
       "    </g>\n",
       "</svg>\n",
       "      </button>\n",
       "\n",
       "<style>\n",
       "  .colab-df-quickchart {\n",
       "      --bg-color: #E8F0FE;\n",
       "      --fill-color: #1967D2;\n",
       "      --hover-bg-color: #E2EBFA;\n",
       "      --hover-fill-color: #174EA6;\n",
       "      --disabled-fill-color: #AAA;\n",
       "      --disabled-bg-color: #DDD;\n",
       "  }\n",
       "\n",
       "  [theme=dark] .colab-df-quickchart {\n",
       "      --bg-color: #3B4455;\n",
       "      --fill-color: #D2E3FC;\n",
       "      --hover-bg-color: #434B5C;\n",
       "      --hover-fill-color: #FFFFFF;\n",
       "      --disabled-bg-color: #3B4455;\n",
       "      --disabled-fill-color: #666;\n",
       "  }\n",
       "\n",
       "  .colab-df-quickchart {\n",
       "    background-color: var(--bg-color);\n",
       "    border: none;\n",
       "    border-radius: 50%;\n",
       "    cursor: pointer;\n",
       "    display: none;\n",
       "    fill: var(--fill-color);\n",
       "    height: 32px;\n",
       "    padding: 0;\n",
       "    width: 32px;\n",
       "  }\n",
       "\n",
       "  .colab-df-quickchart:hover {\n",
       "    background-color: var(--hover-bg-color);\n",
       "    box-shadow: 0 1px 2px rgba(60, 64, 67, 0.3), 0 1px 3px 1px rgba(60, 64, 67, 0.15);\n",
       "    fill: var(--button-hover-fill-color);\n",
       "  }\n",
       "\n",
       "  .colab-df-quickchart-complete:disabled,\n",
       "  .colab-df-quickchart-complete:disabled:hover {\n",
       "    background-color: var(--disabled-bg-color);\n",
       "    fill: var(--disabled-fill-color);\n",
       "    box-shadow: none;\n",
       "  }\n",
       "\n",
       "  .colab-df-spinner {\n",
       "    border: 2px solid var(--fill-color);\n",
       "    border-color: transparent;\n",
       "    border-bottom-color: var(--fill-color);\n",
       "    animation:\n",
       "      spin 1s steps(1) infinite;\n",
       "  }\n",
       "\n",
       "  @keyframes spin {\n",
       "    0% {\n",
       "      border-color: transparent;\n",
       "      border-bottom-color: var(--fill-color);\n",
       "      border-left-color: var(--fill-color);\n",
       "    }\n",
       "    20% {\n",
       "      border-color: transparent;\n",
       "      border-left-color: var(--fill-color);\n",
       "      border-top-color: var(--fill-color);\n",
       "    }\n",
       "    30% {\n",
       "      border-color: transparent;\n",
       "      border-left-color: var(--fill-color);\n",
       "      border-top-color: var(--fill-color);\n",
       "      border-right-color: var(--fill-color);\n",
       "    }\n",
       "    40% {\n",
       "      border-color: transparent;\n",
       "      border-right-color: var(--fill-color);\n",
       "      border-top-color: var(--fill-color);\n",
       "    }\n",
       "    60% {\n",
       "      border-color: transparent;\n",
       "      border-right-color: var(--fill-color);\n",
       "    }\n",
       "    80% {\n",
       "      border-color: transparent;\n",
       "      border-right-color: var(--fill-color);\n",
       "      border-bottom-color: var(--fill-color);\n",
       "    }\n",
       "    90% {\n",
       "      border-color: transparent;\n",
       "      border-bottom-color: var(--fill-color);\n",
       "    }\n",
       "  }\n",
       "</style>\n",
       "\n",
       "      <script>\n",
       "        async function quickchart(key) {\n",
       "          const quickchartButtonEl =\n",
       "            document.querySelector('#' + key + ' button');\n",
       "          quickchartButtonEl.disabled = true;  // To prevent multiple clicks.\n",
       "          quickchartButtonEl.classList.add('colab-df-spinner');\n",
       "          try {\n",
       "            const charts = await google.colab.kernel.invokeFunction(\n",
       "                'suggestCharts', [key], {});\n",
       "          } catch (error) {\n",
       "            console.error('Error during call to suggestCharts:', error);\n",
       "          }\n",
       "          quickchartButtonEl.classList.remove('colab-df-spinner');\n",
       "          quickchartButtonEl.classList.add('colab-df-quickchart-complete');\n",
       "        }\n",
       "        (() => {\n",
       "          let quickchartButtonEl =\n",
       "            document.querySelector('#df-44069d96-86ee-42db-a235-40b9d432d1b8 button');\n",
       "          quickchartButtonEl.style.display =\n",
       "            google.colab.kernel.accessAllowed ? 'block' : 'none';\n",
       "        })();\n",
       "      </script>\n",
       "    </div>\n",
       "\n",
       "    </div>\n",
       "  </div>\n"
      ],
      "text/plain": [
       "               Missing\n",
       "title                0\n",
       "artist               0\n",
       "top genre            0\n",
       "year                 0\n",
       "bpm                  0\n",
       "energy               0\n",
       "danceability         0\n",
       "dB                   0\n",
       "liveness             0\n",
       "valence              0\n",
       "duration             0\n",
       "acousticness         0\n",
       "speechiness          0\n",
       "popularity           0"
      ]
     },
     "execution_count": 13,
     "metadata": {},
     "output_type": "execute_result"
    }
   ],
   "source": [
    "create_missing_df(song)"
   ]
  },
  {
   "cell_type": "code",
   "execution_count": 14,
   "metadata": {
    "colab": {
     "base_uri": "https://localhost:8080/"
    },
    "executionInfo": {
     "elapsed": 19,
     "status": "ok",
     "timestamp": 1749799591079,
     "user": {
      "displayName": "Afandi NAT",
      "userId": "09831528245184057202"
     },
     "user_tz": -420
    },
    "id": "OEevqt0g0bn-",
    "outputId": "318c7d5a-4170-4f0b-d256-d4009ce8b339"
   },
   "outputs": [
    {
     "name": "stdout",
     "output_type": "stream",
     "text": [
      "Banyak judul musik:  2261\n"
     ]
    }
   ],
   "source": [
    "print('Banyak judul musik: ', len(song.title.unique()))"
   ]
  },
  {
   "cell_type": "code",
   "execution_count": 15,
   "metadata": {
    "colab": {
     "base_uri": "https://localhost:8080/"
    },
    "executionInfo": {
     "elapsed": 62,
     "status": "ok",
     "timestamp": 1749799594627,
     "user": {
      "displayName": "Afandi NAT",
      "userId": "09831528245184057202"
     },
     "user_tz": -420
    },
    "id": "LPLDHnTICVO3",
    "outputId": "395f48e4-34b8-4f07-d782-d809cb19b81a"
   },
   "outputs": [
    {
     "name": "stdout",
     "output_type": "stream",
     "text": [
      "Banyak artis / penyanyi:  1014\n"
     ]
    }
   ],
   "source": [
    "print('Banyak artis / penyanyi: ', len(song.artist.unique()))"
   ]
  },
  {
   "cell_type": "markdown",
   "metadata": {
    "id": "hbuPHA732zfb"
   },
   "source": [
    "**Lagu dengan Popularitas Tertinggi**"
   ]
  },
  {
   "cell_type": "code",
   "execution_count": 16,
   "metadata": {
    "colab": {
     "base_uri": "https://localhost:8080/",
     "height": 412
    },
    "executionInfo": {
     "elapsed": 1118,
     "status": "ok",
     "timestamp": 1749799598570,
     "user": {
      "displayName": "Afandi NAT",
      "userId": "09831528245184057202"
     },
     "user_tz": -420
    },
    "id": "7h44vpnP1oTJ",
    "outputId": "c03adc45-f812-4c01-818d-fcaaad85125f"
   },
   "outputs": [
    {
     "data": {
      "image/png": "[encoded data removed]",
      "text/plain": [
       "<Figure size 640x480 with 1 Axes>"
      ]
     },
     "metadata": {},
     "output_type": "display_data"
    }
   ],
   "source": [
    "song_popularity = song[['title','artist', 'popularity']].sort_values(by='popularity', ascending=False)\n",
    "song_popularity['artist_title'] = song_popularity['title'] + ' - ' + song_popularity['artist']\n",
    "sns.barplot(data=song_popularity.iloc[:10], y='artist_title', x='popularity')\n",
    "plt.title('10 Lagu dengan Popularitas Tertinggi')\n",
    "plt.show()"
   ]
  },
  {
   "cell_type": "markdown",
   "metadata": {
    "id": "RUe0aEm_3hsB"
   },
   "source": [
    "**Penyanyi dengan Lagu Terbanyak di Spotify**"
   ]
  },
  {
   "cell_type": "code",
   "execution_count": 17,
   "metadata": {
    "colab": {
     "base_uri": "https://localhost:8080/",
     "height": 472
    },
    "executionInfo": {
     "elapsed": 299,
     "status": "ok",
     "timestamp": 1749799606544,
     "user": {
      "displayName": "Afandi NAT",
      "userId": "09831528245184057202"
     },
     "user_tz": -420
    },
    "id": "fwiotbPt2j08",
    "outputId": "94c26e8a-c32c-4ccf-97ba-a16ed81a653a"
   },
   "outputs": [
    {
     "data": {
      "image/png": "[encoded data removed]",
      "text/plain": [
       "<Figure size 640x480 with 1 Axes>"
      ]
     },
     "metadata": {},
     "output_type": "display_data"
    }
   ],
   "source": [
    "song_artist = song['artist'].value_counts().reset_index()[:10]\n",
    "sns.barplot(data=song_artist, y='count', x='artist')\n",
    "plt.title('10 Penyanyi dengan Lagu Terbanyak di Spotify')\n",
    "plt.show()"
   ]
  },
  {
   "cell_type": "markdown",
   "metadata": {
    "id": "Ts-lAYxM7Q8T"
   },
   "source": [
    "**Distribusi dari Data Numerik**"
   ]
  },
  {
   "cell_type": "code",
   "execution_count": 18,
   "metadata": {
    "executionInfo": {
     "elapsed": 38,
     "status": "ok",
     "timestamp": 1749799631359,
     "user": {
      "displayName": "Afandi NAT",
      "userId": "09831528245184057202"
     },
     "user_tz": -420
    },
    "id": "2fMrAve02k2j"
   },
   "outputs": [],
   "source": [
    "song_cols =  ['bpm', 'energy', 'danceability ', 'dB', 'liveness', 'valence',\n",
    "              'duration', 'acousticness', 'speechiness ', 'popularity']"
   ]
  },
  {
   "cell_type": "code",
   "execution_count": 19,
   "metadata": {
    "colab": {
     "base_uri": "https://localhost:8080/",
     "height": 836
    },
    "executionInfo": {
     "elapsed": 6275,
     "status": "ok",
     "timestamp": 1749799637736,
     "user": {
      "displayName": "Afandi NAT",
      "userId": "09831528245184057202"
     },
     "user_tz": -420
    },
    "id": "HciyEPNp6xDr",
    "outputId": "1aa4d20c-ac53-4c1b-d981-5f709b362b90"
   },
   "outputs": [
    {
     "data": {
      "image/png": "[encoded data removed]",
      "text/plain": [
       "<Figure size 1500x1500 with 10 Axes>"
      ]
     },
     "metadata": {},
     "output_type": "display_data"
    }
   ],
   "source": [
    "fig, axes = plt.subplots(5, 2)\n",
    "fig.set_figheight(15)\n",
    "fig.set_figwidth(15)\n",
    "for count, col in enumerate(song_cols):\n",
    "    sns.histplot(song[col], kde=True, ax=axes[count%5][count % 2])\n",
    "    axes[count%5][count % 2].title.set_text(f'Distribusi {col} pada dataset')\n",
    "\n",
    "plt.tight_layout()\n",
    "plt.show()"
   ]
  },
  {
   "cell_type": "markdown",
   "metadata": {
    "id": "8BeuMLuM7XvN"
   },
   "source": [
    "**Korelasi Tiap Data Numerik**"
   ]
  },
  {
   "cell_type": "code",
   "execution_count": 20,
   "metadata": {
    "colab": {
     "base_uri": "https://localhost:8080/",
     "height": 477
    },
    "executionInfo": {
     "elapsed": 820,
     "status": "ok",
     "timestamp": 1749799638560,
     "user": {
      "displayName": "Afandi NAT",
      "userId": "09831528245184057202"
     },
     "user_tz": -420
    },
    "id": "kETe2txy5pXw",
    "outputId": "9d7cd334-5d42-4476-8ef3-31aeba798509"
   },
   "outputs": [
    {
     "data": {
      "image/png": "[encoded data removed]",
      "text/plain": [
       "<Figure size 1300x600 with 2 Axes>"
      ]
     },
     "metadata": {},
     "output_type": "display_data"
    }
   ],
   "source": [
    "plt.figure(figsize=(13,6))\n",
    "# Select only numerical columns for correlation calculation\n",
    "numerical_song = song.select_dtypes(include=np.number)\n",
    "sns.heatmap(numerical_song.corr(), annot=True, cmap='coolwarm',linewidths=0.5)\n",
    "plt.show()"
   ]
  },
  {
   "cell_type": "markdown",
   "metadata": {
    "id": "2PFxH1RSLFQ3"
   },
   "source": [
    "## **Data Preparation**"
   ]
  },
  {
   "cell_type": "code",
   "execution_count": 21,
   "metadata": {
    "colab": {
     "base_uri": "https://localhost:8080/",
     "height": 206
    },
    "executionInfo": {
     "elapsed": 80,
     "status": "ok",
     "timestamp": 1749799653343,
     "user": {
      "displayName": "Afandi NAT",
      "userId": "09831528245184057202"
     },
     "user_tz": -420
    },
    "id": "WiWR4Z3p5wpx",
    "outputId": "afeace35-b3d9-4a15-d533-5690e4f24fd4"
   },
   "outputs": [
    {
     "data": {
      "application/vnd.google.colaboratory.intrinsic+json": {
       "summary": "{\n  \"name\": \"song\",\n  \"rows\": 2385,\n  \"fields\": [\n    {\n      \"column\": \"title\",\n      \"properties\": {\n        \"dtype\": \"string\",\n        \"num_unique_values\": 2261,\n        \"samples\": [\n          \"Caught Up\",\n          \"Wild Thoughts (feat. Rihanna & Bryson Tiller)\",\n          \"Buttons\"\n        ],\n        \"semantic_type\": \"\",\n        \"description\": \"\"\n      }\n    },\n    {\n      \"column\": \"artist\",\n      \"properties\": {\n        \"dtype\": \"category\",\n        \"num_unique_values\": 1014,\n        \"samples\": [\n          \"Cher Lloyd\",\n          \"Oasis\",\n          \"Nickelback\"\n        ],\n        \"semantic_type\": \"\",\n        \"description\": \"\"\n      }\n    },\n    {\n      \"column\": \"top genre\",\n      \"properties\": {\n        \"dtype\": \"category\",\n        \"num_unique_values\": 266,\n        \"samples\": [\n          \"soca\",\n          \"bouncy house\",\n          \"eurodance\"\n        ],\n        \"semantic_type\": \"\",\n        \"description\": \"\"\n      }\n    },\n    {\n      \"column\": \"year\",\n      \"properties\": {\n        \"dtype\": \"number\",\n        \"std\": 6,\n        \"min\": 1985,\n        \"max\": 2023,\n        \"num_unique_values\": 29,\n        \"samples\": [\n          1997,\n          2008,\n          2014\n        ],\n        \"semantic_type\": \"\",\n        \"description\": \"\"\n      }\n    },\n    {\n      \"column\": \"popularity\",\n      \"properties\": {\n        \"dtype\": \"number\",\n        \"std\": 11,\n        \"min\": 5,\n        \"max\": 98,\n        \"num_unique_values\": 81,\n        \"samples\": [\n          69,\n          98,\n          78\n        ],\n        \"semantic_type\": \"\",\n        \"description\": \"\"\n      }\n    }\n  ]\n}",
       "type": "dataframe",
       "variable_name": "song"
      },
      "text/html": [
       "\n",
       "  <div id=\"df-50e63bac-e1d0-43cb-b87d-3abce105f28a\" class=\"colab-df-container\">\n",
       "    <div>\n",
       "<style scoped>\n",
       "    .dataframe tbody tr th:only-of-type {\n",
       "        vertical-align: middle;\n",
       "    }\n",
       "\n",
       "    .dataframe tbody tr th {\n",
       "        vertical-align: top;\n",
       "    }\n",
       "\n",
       "    .dataframe thead th {\n",
       "        text-align: right;\n",
       "    }\n",
       "</style>\n",
       "<table border=\"1\" class=\"dataframe\">\n",
       "  <thead>\n",
       "    <tr style=\"text-align: right;\">\n",
       "      <th></th>\n",
       "      <th>title</th>\n",
       "      <th>artist</th>\n",
       "      <th>top genre</th>\n",
       "      <th>year</th>\n",
       "      <th>popularity</th>\n",
       "    </tr>\n",
       "  </thead>\n",
       "  <tbody>\n",
       "    <tr>\n",
       "      <th>0</th>\n",
       "      <td>Flowers</td>\n",
       "      <td>Miley Cyrus</td>\n",
       "      <td>pop</td>\n",
       "      <td>2023</td>\n",
       "      <td>98</td>\n",
       "    </tr>\n",
       "    <tr>\n",
       "      <th>1</th>\n",
       "      <td>Cupid - Twin Ver.</td>\n",
       "      <td>FIFTY FIFTY</td>\n",
       "      <td>k-pop girl group</td>\n",
       "      <td>2023</td>\n",
       "      <td>97</td>\n",
       "    </tr>\n",
       "    <tr>\n",
       "      <th>2</th>\n",
       "      <td>BESO</td>\n",
       "      <td>ROSALÍA</td>\n",
       "      <td>pop</td>\n",
       "      <td>2023</td>\n",
       "      <td>96</td>\n",
       "    </tr>\n",
       "    <tr>\n",
       "      <th>3</th>\n",
       "      <td>Boy's a liar Pt. 2</td>\n",
       "      <td>PinkPantheress</td>\n",
       "      <td>bronx drill</td>\n",
       "      <td>2023</td>\n",
       "      <td>96</td>\n",
       "    </tr>\n",
       "    <tr>\n",
       "      <th>4</th>\n",
       "      <td>Creepin' (with The Weeknd &amp; 21 Savage)</td>\n",
       "      <td>Metro Boomin</td>\n",
       "      <td>rap</td>\n",
       "      <td>2022</td>\n",
       "      <td>96</td>\n",
       "    </tr>\n",
       "  </tbody>\n",
       "</table>\n",
       "</div>\n",
       "    <div class=\"colab-df-buttons\">\n",
       "\n",
       "  <div class=\"colab-df-container\">\n",
       "    <button class=\"colab-df-convert\" onclick=\"convertToInteractive('df-50e63bac-e1d0-43cb-b87d-3abce105f28a')\"\n",
       "            title=\"Convert this dataframe to an interactive table.\"\n",
       "            style=\"display:none;\">\n",
       "\n",
       "  <svg xmlns=\"http://www.w3.org/2000/svg\" height=\"24px\" viewBox=\"0 -960 960 960\">\n",
       "    <path d=\"M120-120v-720h720v720H120Zm60-500h600v-160H180v160Zm220 220h160v-160H400v160Zm0 220h160v-160H400v160ZM180-400h160v-160H180v160Zm440 0h160v-160H620v160ZM180-180h160v-160H180v160Zm440 0h160v-160H620v160Z\"/>\n",
       "  </svg>\n",
       "    </button>\n",
       "\n",
       "  <style>\n",
       "    .colab-df-container {\n",
       "      display:flex;\n",
       "      gap: 12px;\n",
       "    }\n",
       "\n",
       "    .colab-df-convert {\n",
       "      background-color: #E8F0FE;\n",
       "      border: none;\n",
       "      border-radius: 50%;\n",
       "      cursor: pointer;\n",
       "      display: none;\n",
       "      fill: #1967D2;\n",
       "      height: 32px;\n",
       "      padding: 0 0 0 0;\n",
       "      width: 32px;\n",
       "    }\n",
       "\n",
       "    .colab-df-convert:hover {\n",
       "      background-color: #E2EBFA;\n",
       "      box-shadow: 0px 1px 2px rgba(60, 64, 67, 0.3), 0px 1px 3px 1px rgba(60, 64, 67, 0.15);\n",
       "      fill: #174EA6;\n",
       "    }\n",
       "\n",
       "    .colab-df-buttons div {\n",
       "      margin-bottom: 4px;\n",
       "    }\n",
       "\n",
       "    [theme=dark] .colab-df-convert {\n",
       "      background-color: #3B4455;\n",
       "      fill: #D2E3FC;\n",
       "    }\n",
       "\n",
       "    [theme=dark] .colab-df-convert:hover {\n",
       "      background-color: #434B5C;\n",
       "      box-shadow: 0px 1px 3px 1px rgba(0, 0, 0, 0.15);\n",
       "      filter: drop-shadow(0px 1px 2px rgba(0, 0, 0, 0.3));\n",
       "      fill: #FFFFFF;\n",
       "    }\n",
       "  </style>\n",
       "\n",
       "    <script>\n",
       "      const buttonEl =\n",
       "        document.querySelector('#df-50e63bac-e1d0-43cb-b87d-3abce105f28a button.colab-df-convert');\n",
       "      buttonEl.style.display =\n",
       "        google.colab.kernel.accessAllowed ? 'block' : 'none';\n",
       "\n",
       "      async function convertToInteractive(key) {\n",
       "        const element = document.querySelector('#df-50e63bac-e1d0-43cb-b87d-3abce105f28a');\n",
       "        const dataTable =\n",
       "          await google.colab.kernel.invokeFunction('convertToInteractive',\n",
       "                                                    [key], {});\n",
       "        if (!dataTable) return;\n",
       "\n",
       "        const docLinkHtml = 'Like what you see? Visit the ' +\n",
       "          '<a target=\"_blank\" href=https://colab.research.google.com/notebooks/data_table.ipynb>data table notebook</a>'\n",
       "          + ' to learn more about interactive tables.';\n",
       "        element.innerHTML = '';\n",
       "        dataTable['output_type'] = 'display_data';\n",
       "        await google.colab.output.renderOutput(dataTable, element);\n",
       "        const docLink = document.createElement('div');\n",
       "        docLink.innerHTML = docLinkHtml;\n",
       "        element.appendChild(docLink);\n",
       "      }\n",
       "    </script>\n",
       "  </div>\n",
       "\n",
       "\n",
       "    <div id=\"df-8e98fe20-e17a-408a-b16c-c66fd0e3a401\">\n",
       "      <button class=\"colab-df-quickchart\" onclick=\"quickchart('df-8e98fe20-e17a-408a-b16c-c66fd0e3a401')\"\n",
       "                title=\"Suggest charts\"\n",
       "                style=\"display:none;\">\n",
       "\n",
       "<svg xmlns=\"http://www.w3.org/2000/svg\" height=\"24px\"viewBox=\"0 0 24 24\"\n",
       "     width=\"24px\">\n",
       "    <g>\n",
       "        <path d=\"M19 3H5c-1.1 0-2 .9-2 2v14c0 1.1.9 2 2 2h14c1.1 0 2-.9 2-2V5c0-1.1-.9-2-2-2zM9 17H7v-7h2v7zm4 0h-2V7h2v10zm4 0h-2v-4h2v4z\"/>\n",
       "    </g>\n",
       "</svg>\n",
       "      </button>\n",
       "\n",
       "<style>\n",
       "  .colab-df-quickchart {\n",
       "      --bg-color: #E8F0FE;\n",
       "      --fill-color: #1967D2;\n",
       "      --hover-bg-color: #E2EBFA;\n",
       "      --hover-fill-color: #174EA6;\n",
       "      --disabled-fill-color: #AAA;\n",
       "      --disabled-bg-color: #DDD;\n",
       "  }\n",
       "\n",
       "  [theme=dark] .colab-df-quickchart {\n",
       "      --bg-color: #3B4455;\n",
       "      --fill-color: #D2E3FC;\n",
       "      --hover-bg-color: #434B5C;\n",
       "      --hover-fill-color: #FFFFFF;\n",
       "      --disabled-bg-color: #3B4455;\n",
       "      --disabled-fill-color: #666;\n",
       "  }\n",
       "\n",
       "  .colab-df-quickchart {\n",
       "    background-color: var(--bg-color);\n",
       "    border: none;\n",
       "    border-radius: 50%;\n",
       "    cursor: pointer;\n",
       "    display: none;\n",
       "    fill: var(--fill-color);\n",
       "    height: 32px;\n",
       "    padding: 0;\n",
       "    width: 32px;\n",
       "  }\n",
       "\n",
       "  .colab-df-quickchart:hover {\n",
       "    background-color: var(--hover-bg-color);\n",
       "    box-shadow: 0 1px 2px rgba(60, 64, 67, 0.3), 0 1px 3px 1px rgba(60, 64, 67, 0.15);\n",
       "    fill: var(--button-hover-fill-color);\n",
       "  }\n",
       "\n",
       "  .colab-df-quickchart-complete:disabled,\n",
       "  .colab-df-quickchart-complete:disabled:hover {\n",
       "    background-color: var(--disabled-bg-color);\n",
       "    fill: var(--disabled-fill-color);\n",
       "    box-shadow: none;\n",
       "  }\n",
       "\n",
       "  .colab-df-spinner {\n",
       "    border: 2px solid var(--fill-color);\n",
       "    border-color: transparent;\n",
       "    border-bottom-color: var(--fill-color);\n",
       "    animation:\n",
       "      spin 1s steps(1) infinite;\n",
       "  }\n",
       "\n",
       "  @keyframes spin {\n",
       "    0% {\n",
       "      border-color: transparent;\n",
       "      border-bottom-color: var(--fill-color);\n",
       "      border-left-color: var(--fill-color);\n",
       "    }\n",
       "    20% {\n",
       "      border-color: transparent;\n",
       "      border-left-color: var(--fill-color);\n",
       "      border-top-color: var(--fill-color);\n",
       "    }\n",
       "    30% {\n",
       "      border-color: transparent;\n",
       "      border-left-color: var(--fill-color);\n",
       "      border-top-color: var(--fill-color);\n",
       "      border-right-color: var(--fill-color);\n",
       "    }\n",
       "    40% {\n",
       "      border-color: transparent;\n",
       "      border-right-color: var(--fill-color);\n",
       "      border-top-color: var(--fill-color);\n",
       "    }\n",
       "    60% {\n",
       "      border-color: transparent;\n",
       "      border-right-color: var(--fill-color);\n",
       "    }\n",
       "    80% {\n",
       "      border-color: transparent;\n",
       "      border-right-color: var(--fill-color);\n",
       "      border-bottom-color: var(--fill-color);\n",
       "    }\n",
       "    90% {\n",
       "      border-color: transparent;\n",
       "      border-bottom-color: var(--fill-color);\n",
       "    }\n",
       "  }\n",
       "</style>\n",
       "\n",
       "      <script>\n",
       "        async function quickchart(key) {\n",
       "          const quickchartButtonEl =\n",
       "            document.querySelector('#' + key + ' button');\n",
       "          quickchartButtonEl.disabled = true;  // To prevent multiple clicks.\n",
       "          quickchartButtonEl.classList.add('colab-df-spinner');\n",
       "          try {\n",
       "            const charts = await google.colab.kernel.invokeFunction(\n",
       "                'suggestCharts', [key], {});\n",
       "          } catch (error) {\n",
       "            console.error('Error during call to suggestCharts:', error);\n",
       "          }\n",
       "          quickchartButtonEl.classList.remove('colab-df-spinner');\n",
       "          quickchartButtonEl.classList.add('colab-df-quickchart-complete');\n",
       "        }\n",
       "        (() => {\n",
       "          let quickchartButtonEl =\n",
       "            document.querySelector('#df-8e98fe20-e17a-408a-b16c-c66fd0e3a401 button');\n",
       "          quickchartButtonEl.style.display =\n",
       "            google.colab.kernel.accessAllowed ? 'block' : 'none';\n",
       "        })();\n",
       "      </script>\n",
       "    </div>\n",
       "\n",
       "    </div>\n",
       "  </div>\n"
      ],
      "text/plain": [
       "                                    title          artist         top genre  \\\n",
       "0                                 Flowers     Miley Cyrus               pop   \n",
       "1                       Cupid - Twin Ver.     FIFTY FIFTY  k-pop girl group   \n",
       "2                                    BESO         ROSALÍA               pop   \n",
       "3                      Boy's a liar Pt. 2  PinkPantheress       bronx drill   \n",
       "4  Creepin' (with The Weeknd & 21 Savage)    Metro Boomin               rap   \n",
       "\n",
       "   year  popularity  \n",
       "0  2023          98  \n",
       "1  2023          97  \n",
       "2  2023          96  \n",
       "3  2023          96  \n",
       "4  2022          96  "
      ]
     },
     "execution_count": 21,
     "metadata": {},
     "output_type": "execute_result"
    }
   ],
   "source": [
    "song.drop(columns=['bpm', 'energy', 'dB', 'liveness', 'valence', 'duration', 'acousticness',\n",
    "                   'danceability ', 'speechiness '], inplace=True)\n",
    "song.head()"
   ]
  },
  {
   "cell_type": "code",
   "execution_count": 22,
   "metadata": {
    "colab": {
     "base_uri": "https://localhost:8080/",
     "height": 206
    },
    "executionInfo": {
     "elapsed": 69,
     "status": "ok",
     "timestamp": 1749799663781,
     "user": {
      "displayName": "Afandi NAT",
      "userId": "09831528245184057202"
     },
     "user_tz": -420
    },
    "id": "V9v5GOyA5te9",
    "outputId": "e4747e53-7998-40d6-d58e-7fd7378ef7ef"
   },
   "outputs": [
    {
     "data": {
      "application/vnd.google.colaboratory.intrinsic+json": {
       "summary": "{\n  \"name\": \"song\",\n  \"rows\": 2385,\n  \"fields\": [\n    {\n      \"column\": \"title\",\n      \"properties\": {\n        \"dtype\": \"string\",\n        \"num_unique_values\": 2261,\n        \"samples\": [\n          \"Caught Up\",\n          \"Wild Thoughts (feat. Rihanna & Bryson Tiller)\",\n          \"Buttons\"\n        ],\n        \"semantic_type\": \"\",\n        \"description\": \"\"\n      }\n    },\n    {\n      \"column\": \"artist\",\n      \"properties\": {\n        \"dtype\": \"category\",\n        \"num_unique_values\": 1014,\n        \"samples\": [\n          \"Cher Lloyd\",\n          \"Oasis\",\n          \"Nickelback\"\n        ],\n        \"semantic_type\": \"\",\n        \"description\": \"\"\n      }\n    },\n    {\n      \"column\": \"genre\",\n      \"properties\": {\n        \"dtype\": \"category\",\n        \"num_unique_values\": 266,\n        \"samples\": [\n          \"soca\",\n          \"bouncy house\",\n          \"eurodance\"\n        ],\n        \"semantic_type\": \"\",\n        \"description\": \"\"\n      }\n    },\n    {\n      \"column\": \"year\",\n      \"properties\": {\n        \"dtype\": \"number\",\n        \"std\": 6,\n        \"min\": 1985,\n        \"max\": 2023,\n        \"num_unique_values\": 29,\n        \"samples\": [\n          1997,\n          2008,\n          2014\n        ],\n        \"semantic_type\": \"\",\n        \"description\": \"\"\n      }\n    },\n    {\n      \"column\": \"popularity\",\n      \"properties\": {\n        \"dtype\": \"number\",\n        \"std\": 11,\n        \"min\": 5,\n        \"max\": 98,\n        \"num_unique_values\": 81,\n        \"samples\": [\n          69,\n          98,\n          78\n        ],\n        \"semantic_type\": \"\",\n        \"description\": \"\"\n      }\n    }\n  ]\n}",
       "type": "dataframe",
       "variable_name": "song"
      },
      "text/html": [
       "\n",
       "  <div id=\"df-784db481-3d8f-4f0e-b0c6-e75cd8801fd7\" class=\"colab-df-container\">\n",
       "    <div>\n",
       "<style scoped>\n",
       "    .dataframe tbody tr th:only-of-type {\n",
       "        vertical-align: middle;\n",
       "    }\n",
       "\n",
       "    .dataframe tbody tr th {\n",
       "        vertical-align: top;\n",
       "    }\n",
       "\n",
       "    .dataframe thead th {\n",
       "        text-align: right;\n",
       "    }\n",
       "</style>\n",
       "<table border=\"1\" class=\"dataframe\">\n",
       "  <thead>\n",
       "    <tr style=\"text-align: right;\">\n",
       "      <th></th>\n",
       "      <th>title</th>\n",
       "      <th>artist</th>\n",
       "      <th>genre</th>\n",
       "      <th>year</th>\n",
       "      <th>popularity</th>\n",
       "    </tr>\n",
       "  </thead>\n",
       "  <tbody>\n",
       "    <tr>\n",
       "      <th>0</th>\n",
       "      <td>Flowers</td>\n",
       "      <td>Miley Cyrus</td>\n",
       "      <td>pop</td>\n",
       "      <td>2023</td>\n",
       "      <td>98</td>\n",
       "    </tr>\n",
       "    <tr>\n",
       "      <th>1</th>\n",
       "      <td>Cupid - Twin Ver.</td>\n",
       "      <td>FIFTY FIFTY</td>\n",
       "      <td>k-pop girl group</td>\n",
       "      <td>2023</td>\n",
       "      <td>97</td>\n",
       "    </tr>\n",
       "    <tr>\n",
       "      <th>2</th>\n",
       "      <td>BESO</td>\n",
       "      <td>ROSALÍA</td>\n",
       "      <td>pop</td>\n",
       "      <td>2023</td>\n",
       "      <td>96</td>\n",
       "    </tr>\n",
       "    <tr>\n",
       "      <th>3</th>\n",
       "      <td>Boy's a liar Pt. 2</td>\n",
       "      <td>PinkPantheress</td>\n",
       "      <td>bronx drill</td>\n",
       "      <td>2023</td>\n",
       "      <td>96</td>\n",
       "    </tr>\n",
       "    <tr>\n",
       "      <th>4</th>\n",
       "      <td>Creepin' (with The Weeknd &amp; 21 Savage)</td>\n",
       "      <td>Metro Boomin</td>\n",
       "      <td>rap</td>\n",
       "      <td>2022</td>\n",
       "      <td>96</td>\n",
       "    </tr>\n",
       "  </tbody>\n",
       "</table>\n",
       "</div>\n",
       "    <div class=\"colab-df-buttons\">\n",
       "\n",
       "  <div class=\"colab-df-container\">\n",
       "    <button class=\"colab-df-convert\" onclick=\"convertToInteractive('df-784db481-3d8f-4f0e-b0c6-e75cd8801fd7')\"\n",
       "            title=\"Convert this dataframe to an interactive table.\"\n",
       "            style=\"display:none;\">\n",
       "\n",
       "  <svg xmlns=\"http://www.w3.org/2000/svg\" height=\"24px\" viewBox=\"0 -960 960 960\">\n",
       "    <path d=\"M120-120v-720h720v720H120Zm60-500h600v-160H180v160Zm220 220h160v-160H400v160Zm0 220h160v-160H400v160ZM180-400h160v-160H180v160Zm440 0h160v-160H620v160ZM180-180h160v-160H180v160Zm440 0h160v-160H620v160Z\"/>\n",
       "  </svg>\n",
       "    </button>\n",
       "\n",
       "  <style>\n",
       "    .colab-df-container {\n",
       "      display:flex;\n",
       "      gap: 12px;\n",
       "    }\n",
       "\n",
       "    .colab-df-convert {\n",
       "      background-color: #E8F0FE;\n",
       "      border: none;\n",
       "      border-radius: 50%;\n",
       "      cursor: pointer;\n",
       "      display: none;\n",
       "      fill: #1967D2;\n",
       "      height: 32px;\n",
       "      padding: 0 0 0 0;\n",
       "      width: 32px;\n",
       "    }\n",
       "\n",
       "    .colab-df-convert:hover {\n",
       "      background-color: #E2EBFA;\n",
       "      box-shadow: 0px 1px 2px rgba(60, 64, 67, 0.3), 0px 1px 3px 1px rgba(60, 64, 67, 0.15);\n",
       "      fill: #174EA6;\n",
       "    }\n",
       "\n",
       "    .colab-df-buttons div {\n",
       "      margin-bottom: 4px;\n",
       "    }\n",
       "\n",
       "    [theme=dark] .colab-df-convert {\n",
       "      background-color: #3B4455;\n",
       "      fill: #D2E3FC;\n",
       "    }\n",
       "\n",
       "    [theme=dark] .colab-df-convert:hover {\n",
       "      background-color: #434B5C;\n",
       "      box-shadow: 0px 1px 3px 1px rgba(0, 0, 0, 0.15);\n",
       "      filter: drop-shadow(0px 1px 2px rgba(0, 0, 0, 0.3));\n",
       "      fill: #FFFFFF;\n",
       "    }\n",
       "  </style>\n",
       "\n",
       "    <script>\n",
       "      const buttonEl =\n",
       "        document.querySelector('#df-784db481-3d8f-4f0e-b0c6-e75cd8801fd7 button.colab-df-convert');\n",
       "      buttonEl.style.display =\n",
       "        google.colab.kernel.accessAllowed ? 'block' : 'none';\n",
       "\n",
       "      async function convertToInteractive(key) {\n",
       "        const element = document.querySelector('#df-784db481-3d8f-4f0e-b0c6-e75cd8801fd7');\n",
       "        const dataTable =\n",
       "          await google.colab.kernel.invokeFunction('convertToInteractive',\n",
       "                                                    [key], {});\n",
       "        if (!dataTable) return;\n",
       "\n",
       "        const docLinkHtml = 'Like what you see? Visit the ' +\n",
       "          '<a target=\"_blank\" href=https://colab.research.google.com/notebooks/data_table.ipynb>data table notebook</a>'\n",
       "          + ' to learn more about interactive tables.';\n",
       "        element.innerHTML = '';\n",
       "        dataTable['output_type'] = 'display_data';\n",
       "        await google.colab.output.renderOutput(dataTable, element);\n",
       "        const docLink = document.createElement('div');\n",
       "        docLink.innerHTML = docLinkHtml;\n",
       "        element.appendChild(docLink);\n",
       "      }\n",
       "    </script>\n",
       "  </div>\n",
       "\n",
       "\n",
       "    <div id=\"df-4816a7ad-42e6-46ee-b8e9-fcdf57b952b5\">\n",
       "      <button class=\"colab-df-quickchart\" onclick=\"quickchart('df-4816a7ad-42e6-46ee-b8e9-fcdf57b952b5')\"\n",
       "                title=\"Suggest charts\"\n",
       "                style=\"display:none;\">\n",
       "\n",
       "<svg xmlns=\"http://www.w3.org/2000/svg\" height=\"24px\"viewBox=\"0 0 24 24\"\n",
       "     width=\"24px\">\n",
       "    <g>\n",
       "        <path d=\"M19 3H5c-1.1 0-2 .9-2 2v14c0 1.1.9 2 2 2h14c1.1 0 2-.9 2-2V5c0-1.1-.9-2-2-2zM9 17H7v-7h2v7zm4 0h-2V7h2v10zm4 0h-2v-4h2v4z\"/>\n",
       "    </g>\n",
       "</svg>\n",
       "      </button>\n",
       "\n",
       "<style>\n",
       "  .colab-df-quickchart {\n",
       "      --bg-color: #E8F0FE;\n",
       "      --fill-color: #1967D2;\n",
       "      --hover-bg-color: #E2EBFA;\n",
       "      --hover-fill-color: #174EA6;\n",
       "      --disabled-fill-color: #AAA;\n",
       "      --disabled-bg-color: #DDD;\n",
       "  }\n",
       "\n",
       "  [theme=dark] .colab-df-quickchart {\n",
       "      --bg-color: #3B4455;\n",
       "      --fill-color: #D2E3FC;\n",
       "      --hover-bg-color: #434B5C;\n",
       "      --hover-fill-color: #FFFFFF;\n",
       "      --disabled-bg-color: #3B4455;\n",
       "      --disabled-fill-color: #666;\n",
       "  }\n",
       "\n",
       "  .colab-df-quickchart {\n",
       "    background-color: var(--bg-color);\n",
       "    border: none;\n",
       "    border-radius: 50%;\n",
       "    cursor: pointer;\n",
       "    display: none;\n",
       "    fill: var(--fill-color);\n",
       "    height: 32px;\n",
       "    padding: 0;\n",
       "    width: 32px;\n",
       "  }\n",
       "\n",
       "  .colab-df-quickchart:hover {\n",
       "    background-color: var(--hover-bg-color);\n",
       "    box-shadow: 0 1px 2px rgba(60, 64, 67, 0.3), 0 1px 3px 1px rgba(60, 64, 67, 0.15);\n",
       "    fill: var(--button-hover-fill-color);\n",
       "  }\n",
       "\n",
       "  .colab-df-quickchart-complete:disabled,\n",
       "  .colab-df-quickchart-complete:disabled:hover {\n",
       "    background-color: var(--disabled-bg-color);\n",
       "    fill: var(--disabled-fill-color);\n",
       "    box-shadow: none;\n",
       "  }\n",
       "\n",
       "  .colab-df-spinner {\n",
       "    border: 2px solid var(--fill-color);\n",
       "    border-color: transparent;\n",
       "    border-bottom-color: var(--fill-color);\n",
       "    animation:\n",
       "      spin 1s steps(1) infinite;\n",
       "  }\n",
       "\n",
       "  @keyframes spin {\n",
       "    0% {\n",
       "      border-color: transparent;\n",
       "      border-bottom-color: var(--fill-color);\n",
       "      border-left-color: var(--fill-color);\n",
       "    }\n",
       "    20% {\n",
       "      border-color: transparent;\n",
       "      border-left-color: var(--fill-color);\n",
       "      border-top-color: var(--fill-color);\n",
       "    }\n",
       "    30% {\n",
       "      border-color: transparent;\n",
       "      border-left-color: var(--fill-color);\n",
       "      border-top-color: var(--fill-color);\n",
       "      border-right-color: var(--fill-color);\n",
       "    }\n",
       "    40% {\n",
       "      border-color: transparent;\n",
       "      border-right-color: var(--fill-color);\n",
       "      border-top-color: var(--fill-color);\n",
       "    }\n",
       "    60% {\n",
       "      border-color: transparent;\n",
       "      border-right-color: var(--fill-color);\n",
       "    }\n",
       "    80% {\n",
       "      border-color: transparent;\n",
       "      border-right-color: var(--fill-color);\n",
       "      border-bottom-color: var(--fill-color);\n",
       "    }\n",
       "    90% {\n",
       "      border-color: transparent;\n",
       "      border-bottom-color: var(--fill-color);\n",
       "    }\n",
       "  }\n",
       "</style>\n",
       "\n",
       "      <script>\n",
       "        async function quickchart(key) {\n",
       "          const quickchartButtonEl =\n",
       "            document.querySelector('#' + key + ' button');\n",
       "          quickchartButtonEl.disabled = true;  // To prevent multiple clicks.\n",
       "          quickchartButtonEl.classList.add('colab-df-spinner');\n",
       "          try {\n",
       "            const charts = await google.colab.kernel.invokeFunction(\n",
       "                'suggestCharts', [key], {});\n",
       "          } catch (error) {\n",
       "            console.error('Error during call to suggestCharts:', error);\n",
       "          }\n",
       "          quickchartButtonEl.classList.remove('colab-df-spinner');\n",
       "          quickchartButtonEl.classList.add('colab-df-quickchart-complete');\n",
       "        }\n",
       "        (() => {\n",
       "          let quickchartButtonEl =\n",
       "            document.querySelector('#df-4816a7ad-42e6-46ee-b8e9-fcdf57b952b5 button');\n",
       "          quickchartButtonEl.style.display =\n",
       "            google.colab.kernel.accessAllowed ? 'block' : 'none';\n",
       "        })();\n",
       "      </script>\n",
       "    </div>\n",
       "\n",
       "    </div>\n",
       "  </div>\n"
      ],
      "text/plain": [
       "                                    title          artist             genre  \\\n",
       "0                                 Flowers     Miley Cyrus               pop   \n",
       "1                       Cupid - Twin Ver.     FIFTY FIFTY  k-pop girl group   \n",
       "2                                    BESO         ROSALÍA               pop   \n",
       "3                      Boy's a liar Pt. 2  PinkPantheress       bronx drill   \n",
       "4  Creepin' (with The Weeknd & 21 Savage)    Metro Boomin               rap   \n",
       "\n",
       "   year  popularity  \n",
       "0  2023          98  \n",
       "1  2023          97  \n",
       "2  2023          96  \n",
       "3  2023          96  \n",
       "4  2022          96  "
      ]
     },
     "execution_count": 22,
     "metadata": {},
     "output_type": "execute_result"
    }
   ],
   "source": [
    "song.rename(columns = {'top genre':'genre'}, inplace = True)\n",
    "song.head()"
   ]
  },
  {
   "cell_type": "markdown",
   "metadata": {
    "id": "oPwPAB1VYicQ"
   },
   "source": [
    "**Explore Genre**"
   ]
  },
  {
   "cell_type": "code",
   "execution_count": 23,
   "metadata": {
    "colab": {
     "base_uri": "https://localhost:8080/"
    },
    "executionInfo": {
     "elapsed": 66,
     "status": "ok",
     "timestamp": 1749799673779,
     "user": {
      "displayName": "Afandi NAT",
      "userId": "09831528245184057202"
     },
     "user_tz": -420
    },
    "id": "whCKTGEr0jWH",
    "outputId": "eb1152e2-b9cf-4f1b-e4e3-41ad3fe3edcb"
   },
   "outputs": [
    {
     "name": "stdout",
     "output_type": "stream",
     "text": [
      "Banyak genre musik:  266\n",
      "Genre Musik:  ['pop' 'k-pop girl group' 'bronx drill' 'rap' 'gen z singer-songwriter'\n",
      " 'reggaeton' 'afrobeats' 'bedroom pop' 'big room'\n",
      " 'canadian contemporary r&b' 'piano rock' 'argentine hip hop' 'chill pop'\n",
      " 'detroit hip hop' 'new jersey underground rap' 'uk contemporary r&b'\n",
      " 'canadian hip hop' 'r&b' 'modern alternative rock' 'alt z' 'k-pop'\n",
      " 'modern indie pop' 'gauze pop' 'colombian pop' 'contemporary country'\n",
      " 'art pop' 'hip pop' 'latin hip hop' 'permanent wave' 'garage rock'\n",
      " 'indie poptimism' 'boy band' 'dance pop' 'dfw rap' 'canadian pop'\n",
      " 'chicago indie' 'lgbtq+ hip hop' 'chicago rap' 'alternative metal'\n",
      " 'melodic drill' 'alternative rock' 'electropop' 'neo mellow'\n",
      " 'australian hip hop' 'modern rock' 'edm' 'belgian edm' 'neo soul'\n",
      " 'indie rock italiano' 'glam rock' 'viral pop' 'hip hop'\n",
      " 'conscious hip hop' 'barbadian pop' 'east coast hip hop' 'british soul'\n",
      " 'australian psych' 'mambo chileno' 'electro house' 'alternative hip hop'\n",
      " 'dark clubbing' 'canadian latin' 'atl hip hop' 'folk-pop' 'dance rock'\n",
      " 'irish singer-songwriter' 'modern alternative pop' 'kentucky hip hop'\n",
      " 'brostep' 'emo rap' 'blues rock' 'indietronica' 'metropopolis' 'pop soul'\n",
      " 'danish pop' 'pop rap' 'sad lo-fi' 'puerto rican pop'\n",
      " 'deep underground hip hop' 'electro' 'gangster rap' 'pop reggaeton'\n",
      " 'cali rap' 'melodic rap' 'escape room' 'irish pop' 'irish rock'\n",
      " 'latin pop' 'baroque pop' 'acoustic pop' 'dutch edm' 'glam metal'\n",
      " 'afro r&b' 'german pop' 'emo' 'g funk' 'afrofuturism' 'brooklyn drill'\n",
      " 'classic oklahoma country' 'australian dance' 'celtic rock' 'pop dance'\n",
      " 'complextro' 'scottish singer-songwriter' 'belgian pop' 'australian pop'\n",
      " 'reggae fusion' 'uk dance' 'candy pop' 'indie rock' 'indonesian pop'\n",
      " 'british alternative rock' 'indie pop rap' 'uk hip hop' 'french shoegaze'\n",
      " 'cloud rap' 'deep euro house' 'tropical house' 'lilith' 'bouncy house'\n",
      " 'german dance' 'san diego rap' 'disco house' 'house' 'girl group'\n",
      " 'alternative pop rock' 'bubblegum dance' 'contemporary vocal jazz'\n",
      " 'funk pop' 'contemporary r&b' 'hel' 'hawaiian hip hop' 'israeli pop'\n",
      " 'nz pop' 'bedroom soul' 'viral rap' 'florida drill' 'new jersey rap'\n",
      " 'acid house' 'eurodance' 'asian american hip hop' 'brighton indie'\n",
      " 'la indie' 'pop rock' 'nu metal' 'indonesian lo-fi pop' 'downtempo'\n",
      " 'memphis hip hop' 'french indie pop' 'ectofolk' 'chicano rap'\n",
      " 'alternative' 'bronx hip hop' 'alternative r&b'\n",
      " 'canadian old school hip hop' 'nyc pop' 'indie anthem-folk'\n",
      " 'romanian pop' 'rap rock' 'classical soul' 'alternative dance'\n",
      " 'adult standards' 'country' 'nyc rap' 'panamanian pop' 'chamber pop'\n",
      " 'ohio hip hop' 'dirty south rap' 'norwegian hip hop' 'houston rap'\n",
      " 'austrian pop' 'beatlesque' 'indie pop' 'techno' 'britpop'\n",
      " 'electropowerpop' 'comedy rap' 'celtic' 'uk pop' 'europop' 'dutch trance'\n",
      " 'soca' 'neon pop punk' 'baton rouge rap' 'dutch pop' 'afroswing'\n",
      " 'slowed and reverb' 'indonesian jazz' 'finnish alternative rock'\n",
      " 'singaporean pop' 'grime' 'modern folk rock' 'crunk' 'danish electronic'\n",
      " 'new french touch' 'swedish electropop' 'trap' 'romanian house'\n",
      " 'australian alternative rock' 'idol' 'dutch house' 'scandipop'\n",
      " 'belgian dance' 'chill r&b' 'indonesian city pop' 'deep house'\n",
      " 'aussietronica' 'dancehall' 'talent show' 'viral trap' 'icelandic indie'\n",
      " 'bahamian pop' 'miami hip hop' 'r&b/soul' 'dancefloor dnb' 'dance'\n",
      " 'filmi' 'metal' 'gospel' 'bounce' 'chicago bop' 'ccm' 'bhangra'\n",
      " 'big beat' 'hip house' 'canadian country' 'london rap' 'battle rap'\n",
      " 'filter house' 'canadian pop punk' 'southern hip hop' 'bass house'\n",
      " 'future garage' 'birmingham hip hop' 'stomp and holler' 'rock-and-roll'\n",
      " 'sertanejo' 'ghanaian hip hop' 'anti-folk' 'classic schlager'\n",
      " 'hardcore hip hop' 'new wave pop' 'deep disco house' 'rap kreyol'\n",
      " 'alabama rap' 'vocal house' 'uk garage' 'electronic' 'electronica'\n",
      " 'trance' 'uk alternative pop' 'pinoy edm' 'art rock' 'anarcho-punk'\n",
      " '2-step' 'mellow gold' 'neo-singer-songwriter' 'hip-hop' 'k-rap'\n",
      " 'indiecoustica' 'azonto' 'dubstep' 'rap francais nouvelle vague' 'indie'\n",
      " 'rock' 'dalarna indie']\n"
     ]
    }
   ],
   "source": [
    "print('Banyak genre musik: ', len(song.genre.unique()))\n",
    "print('Genre Musik: ', song.genre.unique())"
   ]
  },
  {
   "cell_type": "code",
   "execution_count": 24,
   "metadata": {
    "colab": {
     "base_uri": "https://localhost:8080/"
    },
    "executionInfo": {
     "elapsed": 50,
     "status": "ok",
     "timestamp": 1749799712048,
     "user": {
      "displayName": "Afandi NAT",
      "userId": "09831528245184057202"
     },
     "user_tz": -420
    },
    "id": "OkDNeRopRNcJ",
    "outputId": "317645a1-a4fd-42ec-f8bd-2687866b0f21"
   },
   "outputs": [
    {
     "name": "stdout",
     "output_type": "stream",
     "text": [
      "Jumlah lagu yang tidak memiliki info genre: 0\n"
     ]
    }
   ],
   "source": [
    "r,c = song[song['genre']=='(tidak ada genre pada daftar)'].shape\n",
    "print('Jumlah lagu yang tidak memiliki info genre:',r)"
   ]
  },
  {
   "cell_type": "code",
   "execution_count": 25,
   "metadata": {
    "executionInfo": {
     "elapsed": 7,
     "status": "ok",
     "timestamp": 1749799714462,
     "user": {
      "displayName": "Afandi NAT",
      "userId": "09831528245184057202"
     },
     "user_tz": -420
    },
    "id": "HlRbRbW7RVzV"
   },
   "outputs": [],
   "source": [
    "song=song[~(song['genre']=='(tidak ada genre pada daftar)')].reset_index(drop=True)"
   ]
  },
  {
   "cell_type": "code",
   "execution_count": 26,
   "metadata": {
    "colab": {
     "base_uri": "https://localhost:8080/",
     "height": 423
    },
    "executionInfo": {
     "elapsed": 64,
     "status": "ok",
     "timestamp": 1749799716611,
     "user": {
      "displayName": "Afandi NAT",
      "userId": "09831528245184057202"
     },
     "user_tz": -420
    },
    "id": "buHmr7grTvI1",
    "outputId": "c05b254e-681c-47fc-cc27-c593eb1b33bb"
   },
   "outputs": [
    {
     "data": {
      "application/vnd.google.colaboratory.intrinsic+json": {
       "summary": "{\n  \"name\": \"song_value_counts\",\n  \"rows\": 266,\n  \"fields\": [\n    {\n      \"column\": \"Genre\",\n      \"properties\": {\n        \"dtype\": \"string\",\n        \"num_unique_values\": 266,\n        \"samples\": [\n          \"anarcho-punk\",\n          \"indie\",\n          \"classic oklahoma country\"\n        ],\n        \"semantic_type\": \"\",\n        \"description\": \"\"\n      }\n    },\n    {\n      \"column\": \"Jumlah\",\n      \"properties\": {\n        \"dtype\": \"number\",\n        \"std\": 33,\n        \"min\": 1,\n        \"max\": 460,\n        \"num_unique_values\": 39,\n        \"samples\": [\n          6,\n          3,\n          54\n        ],\n        \"semantic_type\": \"\",\n        \"description\": \"\"\n      }\n    }\n  ]\n}",
       "type": "dataframe",
       "variable_name": "song_value_counts"
      },
      "text/html": [
       "\n",
       "  <div id=\"df-672464a9-a5df-44e7-a411-0bc7d5cd5163\" class=\"colab-df-container\">\n",
       "    <div>\n",
       "<style scoped>\n",
       "    .dataframe tbody tr th:only-of-type {\n",
       "        vertical-align: middle;\n",
       "    }\n",
       "\n",
       "    .dataframe tbody tr th {\n",
       "        vertical-align: top;\n",
       "    }\n",
       "\n",
       "    .dataframe thead th {\n",
       "        text-align: right;\n",
       "    }\n",
       "</style>\n",
       "<table border=\"1\" class=\"dataframe\">\n",
       "  <thead>\n",
       "    <tr style=\"text-align: right;\">\n",
       "      <th></th>\n",
       "      <th>Genre</th>\n",
       "      <th>Jumlah</th>\n",
       "    </tr>\n",
       "  </thead>\n",
       "  <tbody>\n",
       "    <tr>\n",
       "      <th>0</th>\n",
       "      <td>dance pop</td>\n",
       "      <td>460</td>\n",
       "    </tr>\n",
       "    <tr>\n",
       "      <th>1</th>\n",
       "      <td>pop</td>\n",
       "      <td>250</td>\n",
       "    </tr>\n",
       "    <tr>\n",
       "      <th>2</th>\n",
       "      <td>atl hip hop</td>\n",
       "      <td>95</td>\n",
       "    </tr>\n",
       "    <tr>\n",
       "      <th>3</th>\n",
       "      <td>alternative metal</td>\n",
       "      <td>55</td>\n",
       "    </tr>\n",
       "    <tr>\n",
       "      <th>4</th>\n",
       "      <td>edm</td>\n",
       "      <td>54</td>\n",
       "    </tr>\n",
       "    <tr>\n",
       "      <th>...</th>\n",
       "      <td>...</td>\n",
       "      <td>...</td>\n",
       "    </tr>\n",
       "    <tr>\n",
       "      <th>261</th>\n",
       "      <td>dubstep</td>\n",
       "      <td>1</td>\n",
       "    </tr>\n",
       "    <tr>\n",
       "      <th>262</th>\n",
       "      <td>rap francais nouvelle vague</td>\n",
       "      <td>1</td>\n",
       "    </tr>\n",
       "    <tr>\n",
       "      <th>263</th>\n",
       "      <td>k-pop girl group</td>\n",
       "      <td>1</td>\n",
       "    </tr>\n",
       "    <tr>\n",
       "      <th>264</th>\n",
       "      <td>rock</td>\n",
       "      <td>1</td>\n",
       "    </tr>\n",
       "    <tr>\n",
       "      <th>265</th>\n",
       "      <td>dalarna indie</td>\n",
       "      <td>1</td>\n",
       "    </tr>\n",
       "  </tbody>\n",
       "</table>\n",
       "<p>266 rows × 2 columns</p>\n",
       "</div>\n",
       "    <div class=\"colab-df-buttons\">\n",
       "\n",
       "  <div class=\"colab-df-container\">\n",
       "    <button class=\"colab-df-convert\" onclick=\"convertToInteractive('df-672464a9-a5df-44e7-a411-0bc7d5cd5163')\"\n",
       "            title=\"Convert this dataframe to an interactive table.\"\n",
       "            style=\"display:none;\">\n",
       "\n",
       "  <svg xmlns=\"http://www.w3.org/2000/svg\" height=\"24px\" viewBox=\"0 -960 960 960\">\n",
       "    <path d=\"M120-120v-720h720v720H120Zm60-500h600v-160H180v160Zm220 220h160v-160H400v160Zm0 220h160v-160H400v160ZM180-400h160v-160H180v160Zm440 0h160v-160H620v160ZM180-180h160v-160H180v160Zm440 0h160v-160H620v160Z\"/>\n",
       "  </svg>\n",
       "    </button>\n",
       "\n",
       "  <style>\n",
       "    .colab-df-container {\n",
       "      display:flex;\n",
       "      gap: 12px;\n",
       "    }\n",
       "\n",
       "    .colab-df-convert {\n",
       "      background-color: #E8F0FE;\n",
       "      border: none;\n",
       "      border-radius: 50%;\n",
       "      cursor: pointer;\n",
       "      display: none;\n",
       "      fill: #1967D2;\n",
       "      height: 32px;\n",
       "      padding: 0 0 0 0;\n",
       "      width: 32px;\n",
       "    }\n",
       "\n",
       "    .colab-df-convert:hover {\n",
       "      background-color: #E2EBFA;\n",
       "      box-shadow: 0px 1px 2px rgba(60, 64, 67, 0.3), 0px 1px 3px 1px rgba(60, 64, 67, 0.15);\n",
       "      fill: #174EA6;\n",
       "    }\n",
       "\n",
       "    .colab-df-buttons div {\n",
       "      margin-bottom: 4px;\n",
       "    }\n",
       "\n",
       "    [theme=dark] .colab-df-convert {\n",
       "      background-color: #3B4455;\n",
       "      fill: #D2E3FC;\n",
       "    }\n",
       "\n",
       "    [theme=dark] .colab-df-convert:hover {\n",
       "      background-color: #434B5C;\n",
       "      box-shadow: 0px 1px 3px 1px rgba(0, 0, 0, 0.15);\n",
       "      filter: drop-shadow(0px 1px 2px rgba(0, 0, 0, 0.3));\n",
       "      fill: #FFFFFF;\n",
       "    }\n",
       "  </style>\n",
       "\n",
       "    <script>\n",
       "      const buttonEl =\n",
       "        document.querySelector('#df-672464a9-a5df-44e7-a411-0bc7d5cd5163 button.colab-df-convert');\n",
       "      buttonEl.style.display =\n",
       "        google.colab.kernel.accessAllowed ? 'block' : 'none';\n",
       "\n",
       "      async function convertToInteractive(key) {\n",
       "        const element = document.querySelector('#df-672464a9-a5df-44e7-a411-0bc7d5cd5163');\n",
       "        const dataTable =\n",
       "          await google.colab.kernel.invokeFunction('convertToInteractive',\n",
       "                                                    [key], {});\n",
       "        if (!dataTable) return;\n",
       "\n",
       "        const docLinkHtml = 'Like what you see? Visit the ' +\n",
       "          '<a target=\"_blank\" href=https://colab.research.google.com/notebooks/data_table.ipynb>data table notebook</a>'\n",
       "          + ' to learn more about interactive tables.';\n",
       "        element.innerHTML = '';\n",
       "        dataTable['output_type'] = 'display_data';\n",
       "        await google.colab.output.renderOutput(dataTable, element);\n",
       "        const docLink = document.createElement('div');\n",
       "        docLink.innerHTML = docLinkHtml;\n",
       "        element.appendChild(docLink);\n",
       "      }\n",
       "    </script>\n",
       "  </div>\n",
       "\n",
       "\n",
       "    <div id=\"df-d877219c-b5e5-4065-966d-1f7928bc5938\">\n",
       "      <button class=\"colab-df-quickchart\" onclick=\"quickchart('df-d877219c-b5e5-4065-966d-1f7928bc5938')\"\n",
       "                title=\"Suggest charts\"\n",
       "                style=\"display:none;\">\n",
       "\n",
       "<svg xmlns=\"http://www.w3.org/2000/svg\" height=\"24px\"viewBox=\"0 0 24 24\"\n",
       "     width=\"24px\">\n",
       "    <g>\n",
       "        <path d=\"M19 3H5c-1.1 0-2 .9-2 2v14c0 1.1.9 2 2 2h14c1.1 0 2-.9 2-2V5c0-1.1-.9-2-2-2zM9 17H7v-7h2v7zm4 0h-2V7h2v10zm4 0h-2v-4h2v4z\"/>\n",
       "    </g>\n",
       "</svg>\n",
       "      </button>\n",
       "\n",
       "<style>\n",
       "  .colab-df-quickchart {\n",
       "      --bg-color: #E8F0FE;\n",
       "      --fill-color: #1967D2;\n",
       "      --hover-bg-color: #E2EBFA;\n",
       "      --hover-fill-color: #174EA6;\n",
       "      --disabled-fill-color: #AAA;\n",
       "      --disabled-bg-color: #DDD;\n",
       "  }\n",
       "\n",
       "  [theme=dark] .colab-df-quickchart {\n",
       "      --bg-color: #3B4455;\n",
       "      --fill-color: #D2E3FC;\n",
       "      --hover-bg-color: #434B5C;\n",
       "      --hover-fill-color: #FFFFFF;\n",
       "      --disabled-bg-color: #3B4455;\n",
       "      --disabled-fill-color: #666;\n",
       "  }\n",
       "\n",
       "  .colab-df-quickchart {\n",
       "    background-color: var(--bg-color);\n",
       "    border: none;\n",
       "    border-radius: 50%;\n",
       "    cursor: pointer;\n",
       "    display: none;\n",
       "    fill: var(--fill-color);\n",
       "    height: 32px;\n",
       "    padding: 0;\n",
       "    width: 32px;\n",
       "  }\n",
       "\n",
       "  .colab-df-quickchart:hover {\n",
       "    background-color: var(--hover-bg-color);\n",
       "    box-shadow: 0 1px 2px rgba(60, 64, 67, 0.3), 0 1px 3px 1px rgba(60, 64, 67, 0.15);\n",
       "    fill: var(--button-hover-fill-color);\n",
       "  }\n",
       "\n",
       "  .colab-df-quickchart-complete:disabled,\n",
       "  .colab-df-quickchart-complete:disabled:hover {\n",
       "    background-color: var(--disabled-bg-color);\n",
       "    fill: var(--disabled-fill-color);\n",
       "    box-shadow: none;\n",
       "  }\n",
       "\n",
       "  .colab-df-spinner {\n",
       "    border: 2px solid var(--fill-color);\n",
       "    border-color: transparent;\n",
       "    border-bottom-color: var(--fill-color);\n",
       "    animation:\n",
       "      spin 1s steps(1) infinite;\n",
       "  }\n",
       "\n",
       "  @keyframes spin {\n",
       "    0% {\n",
       "      border-color: transparent;\n",
       "      border-bottom-color: var(--fill-color);\n",
       "      border-left-color: var(--fill-color);\n",
       "    }\n",
       "    20% {\n",
       "      border-color: transparent;\n",
       "      border-left-color: var(--fill-color);\n",
       "      border-top-color: var(--fill-color);\n",
       "    }\n",
       "    30% {\n",
       "      border-color: transparent;\n",
       "      border-left-color: var(--fill-color);\n",
       "      border-top-color: var(--fill-color);\n",
       "      border-right-color: var(--fill-color);\n",
       "    }\n",
       "    40% {\n",
       "      border-color: transparent;\n",
       "      border-right-color: var(--fill-color);\n",
       "      border-top-color: var(--fill-color);\n",
       "    }\n",
       "    60% {\n",
       "      border-color: transparent;\n",
       "      border-right-color: var(--fill-color);\n",
       "    }\n",
       "    80% {\n",
       "      border-color: transparent;\n",
       "      border-right-color: var(--fill-color);\n",
       "      border-bottom-color: var(--fill-color);\n",
       "    }\n",
       "    90% {\n",
       "      border-color: transparent;\n",
       "      border-bottom-color: var(--fill-color);\n",
       "    }\n",
       "  }\n",
       "</style>\n",
       "\n",
       "      <script>\n",
       "        async function quickchart(key) {\n",
       "          const quickchartButtonEl =\n",
       "            document.querySelector('#' + key + ' button');\n",
       "          quickchartButtonEl.disabled = true;  // To prevent multiple clicks.\n",
       "          quickchartButtonEl.classList.add('colab-df-spinner');\n",
       "          try {\n",
       "            const charts = await google.colab.kernel.invokeFunction(\n",
       "                'suggestCharts', [key], {});\n",
       "          } catch (error) {\n",
       "            console.error('Error during call to suggestCharts:', error);\n",
       "          }\n",
       "          quickchartButtonEl.classList.remove('colab-df-spinner');\n",
       "          quickchartButtonEl.classList.add('colab-df-quickchart-complete');\n",
       "        }\n",
       "        (() => {\n",
       "          let quickchartButtonEl =\n",
       "            document.querySelector('#df-d877219c-b5e5-4065-966d-1f7928bc5938 button');\n",
       "          quickchartButtonEl.style.display =\n",
       "            google.colab.kernel.accessAllowed ? 'block' : 'none';\n",
       "        })();\n",
       "      </script>\n",
       "    </div>\n",
       "\n",
       "  <div id=\"id_eacbe42e-147c-4563-bbfd-bb964234b181\">\n",
       "    <style>\n",
       "      .colab-df-generate {\n",
       "        background-color: #E8F0FE;\n",
       "        border: none;\n",
       "        border-radius: 50%;\n",
       "        cursor: pointer;\n",
       "        display: none;\n",
       "        fill: #1967D2;\n",
       "        height: 32px;\n",
       "        padding: 0 0 0 0;\n",
       "        width: 32px;\n",
       "      }\n",
       "\n",
       "      .colab-df-generate:hover {\n",
       "        background-color: #E2EBFA;\n",
       "        box-shadow: 0px 1px 2px rgba(60, 64, 67, 0.3), 0px 1px 3px 1px rgba(60, 64, 67, 0.15);\n",
       "        fill: #174EA6;\n",
       "      }\n",
       "\n",
       "      [theme=dark] .colab-df-generate {\n",
       "        background-color: #3B4455;\n",
       "        fill: #D2E3FC;\n",
       "      }\n",
       "\n",
       "      [theme=dark] .colab-df-generate:hover {\n",
       "        background-color: #434B5C;\n",
       "        box-shadow: 0px 1px 3px 1px rgba(0, 0, 0, 0.15);\n",
       "        filter: drop-shadow(0px 1px 2px rgba(0, 0, 0, 0.3));\n",
       "        fill: #FFFFFF;\n",
       "      }\n",
       "    </style>\n",
       "    <button class=\"colab-df-generate\" onclick=\"generateWithVariable('song_value_counts')\"\n",
       "            title=\"Generate code using this dataframe.\"\n",
       "            style=\"display:none;\">\n",
       "\n",
       "  <svg xmlns=\"http://www.w3.org/2000/svg\" height=\"24px\"viewBox=\"0 0 24 24\"\n",
       "       width=\"24px\">\n",
       "    <path d=\"M7,19H8.4L18.45,9,17,7.55,7,17.6ZM5,21V16.75L18.45,3.32a2,2,0,0,1,2.83,0l1.4,1.43a1.91,1.91,0,0,1,.58,1.4,1.91,1.91,0,0,1-.58,1.4L9.25,21ZM18.45,9,17,7.55Zm-12,3A5.31,5.31,0,0,0,4.9,8.1,5.31,5.31,0,0,0,1,6.5,5.31,5.31,0,0,0,4.9,4.9,5.31,5.31,0,0,0,6.5,1,5.31,5.31,0,0,0,8.1,4.9,5.31,5.31,0,0,0,12,6.5,5.46,5.46,0,0,0,6.5,12Z\"/>\n",
       "  </svg>\n",
       "    </button>\n",
       "    <script>\n",
       "      (() => {\n",
       "      const buttonEl =\n",
       "        document.querySelector('#id_eacbe42e-147c-4563-bbfd-bb964234b181 button.colab-df-generate');\n",
       "      buttonEl.style.display =\n",
       "        google.colab.kernel.accessAllowed ? 'block' : 'none';\n",
       "\n",
       "      buttonEl.onclick = () => {\n",
       "        google.colab.notebook.generateWithVariable('song_value_counts');\n",
       "      }\n",
       "      })();\n",
       "    </script>\n",
       "  </div>\n",
       "\n",
       "    </div>\n",
       "  </div>\n"
      ],
      "text/plain": [
       "                           Genre  Jumlah\n",
       "0                      dance pop     460\n",
       "1                            pop     250\n",
       "2                    atl hip hop      95\n",
       "3              alternative metal      55\n",
       "4                            edm      54\n",
       "..                           ...     ...\n",
       "261                      dubstep       1\n",
       "262  rap francais nouvelle vague       1\n",
       "263             k-pop girl group       1\n",
       "264                         rock       1\n",
       "265                dalarna indie       1\n",
       "\n",
       "[266 rows x 2 columns]"
      ]
     },
     "execution_count": 26,
     "metadata": {},
     "output_type": "execute_result"
    }
   ],
   "source": [
    "genre_count = song['genre'].value_counts().to_frame()\n",
    "\n",
    "song_value_counts = pd.DataFrame(genre_count)\n",
    "song_value_counts = song_value_counts.reset_index()\n",
    "song_value_counts.columns = ['Genre', 'Jumlah']\n",
    "song_value_counts"
   ]
  },
  {
   "cell_type": "code",
   "execution_count": 27,
   "metadata": {
    "colab": {
     "base_uri": "https://localhost:8080/",
     "height": 472
    },
    "executionInfo": {
     "elapsed": 275,
     "status": "ok",
     "timestamp": 1749799719900,
     "user": {
      "displayName": "Afandi NAT",
      "userId": "09831528245184057202"
     },
     "user_tz": -420
    },
    "id": "eEIiplY0e2CV",
    "outputId": "1b5400aa-ff6d-4794-f361-f8ccc830be01"
   },
   "outputs": [
    {
     "data": {
      "image/png": "[encoded data removed]",
      "text/plain": [
       "<Figure size 640x480 with 1 Axes>"
      ]
     },
     "metadata": {},
     "output_type": "display_data"
    }
   ],
   "source": [
    "song_genre = song['genre'].value_counts().reset_index()[:15]\n",
    "sns.barplot(data=song_genre, y='count', x='genre')\n",
    "sns.set(rc={'figure.figsize':(9, 6)})\n",
    "plt.title('15 Genre Teratas di Spotify')\n",
    "plt.show()"
   ]
  },
  {
   "cell_type": "markdown",
   "metadata": {
    "id": "DZIg4dSn74Rj"
   },
   "source": [
    "**Menyederhanakan Genre**"
   ]
  },
  {
   "cell_type": "code",
   "execution_count": 28,
   "metadata": {
    "colab": {
     "base_uri": "https://localhost:8080/",
     "height": 423
    },
    "executionInfo": {
     "elapsed": 125,
     "status": "ok",
     "timestamp": 1749799726699,
     "user": {
      "displayName": "Afandi NAT",
      "userId": "09831528245184057202"
     },
     "user_tz": -420
    },
    "id": "NXbN4cjv--4w",
    "outputId": "218a9aa7-66dd-469d-9994-76f2ebd44f18"
   },
   "outputs": [
    {
     "data": {
      "application/vnd.google.colaboratory.intrinsic+json": {
       "summary": "{\n  \"name\": \"song\",\n  \"rows\": 2385,\n  \"fields\": [\n    {\n      \"column\": \"title\",\n      \"properties\": {\n        \"dtype\": \"string\",\n        \"num_unique_values\": 2261,\n        \"samples\": [\n          \"Caught Up\",\n          \"Wild Thoughts (feat. Rihanna & Bryson Tiller)\",\n          \"Buttons\"\n        ],\n        \"semantic_type\": \"\",\n        \"description\": \"\"\n      }\n    },\n    {\n      \"column\": \"artist\",\n      \"properties\": {\n        \"dtype\": \"category\",\n        \"num_unique_values\": 1014,\n        \"samples\": [\n          \"Cher Lloyd\",\n          \"Oasis\",\n          \"Nickelback\"\n        ],\n        \"semantic_type\": \"\",\n        \"description\": \"\"\n      }\n    },\n    {\n      \"column\": \"genre\",\n      \"properties\": {\n        \"dtype\": \"category\",\n        \"num_unique_values\": 15,\n        \"samples\": [\n          \"country\",\n          \"indie\",\n          \"pop\"\n        ],\n        \"semantic_type\": \"\",\n        \"description\": \"\"\n      }\n    },\n    {\n      \"column\": \"year\",\n      \"properties\": {\n        \"dtype\": \"number\",\n        \"std\": 6,\n        \"min\": 1985,\n        \"max\": 2023,\n        \"num_unique_values\": 29,\n        \"samples\": [\n          1997,\n          2008,\n          2014\n        ],\n        \"semantic_type\": \"\",\n        \"description\": \"\"\n      }\n    },\n    {\n      \"column\": \"popularity\",\n      \"properties\": {\n        \"dtype\": \"number\",\n        \"std\": 11,\n        \"min\": 5,\n        \"max\": 98,\n        \"num_unique_values\": 81,\n        \"samples\": [\n          69,\n          98,\n          78\n        ],\n        \"semantic_type\": \"\",\n        \"description\": \"\"\n      }\n    }\n  ]\n}",
       "type": "dataframe",
       "variable_name": "song"
      },
      "text/html": [
       "\n",
       "  <div id=\"df-73bcc06c-a30a-4981-b73f-37385d8f0c0c\" class=\"colab-df-container\">\n",
       "    <div>\n",
       "<style scoped>\n",
       "    .dataframe tbody tr th:only-of-type {\n",
       "        vertical-align: middle;\n",
       "    }\n",
       "\n",
       "    .dataframe tbody tr th {\n",
       "        vertical-align: top;\n",
       "    }\n",
       "\n",
       "    .dataframe thead th {\n",
       "        text-align: right;\n",
       "    }\n",
       "</style>\n",
       "<table border=\"1\" class=\"dataframe\">\n",
       "  <thead>\n",
       "    <tr style=\"text-align: right;\">\n",
       "      <th></th>\n",
       "      <th>title</th>\n",
       "      <th>artist</th>\n",
       "      <th>genre</th>\n",
       "      <th>year</th>\n",
       "      <th>popularity</th>\n",
       "    </tr>\n",
       "  </thead>\n",
       "  <tbody>\n",
       "    <tr>\n",
       "      <th>0</th>\n",
       "      <td>Flowers</td>\n",
       "      <td>Miley Cyrus</td>\n",
       "      <td>pop</td>\n",
       "      <td>2023</td>\n",
       "      <td>98</td>\n",
       "    </tr>\n",
       "    <tr>\n",
       "      <th>1</th>\n",
       "      <td>Cupid - Twin Ver.</td>\n",
       "      <td>FIFTY FIFTY</td>\n",
       "      <td>kpop</td>\n",
       "      <td>2023</td>\n",
       "      <td>97</td>\n",
       "    </tr>\n",
       "    <tr>\n",
       "      <th>2</th>\n",
       "      <td>BESO</td>\n",
       "      <td>ROSALÍA</td>\n",
       "      <td>pop</td>\n",
       "      <td>2023</td>\n",
       "      <td>96</td>\n",
       "    </tr>\n",
       "    <tr>\n",
       "      <th>3</th>\n",
       "      <td>Boy's a liar Pt. 2</td>\n",
       "      <td>PinkPantheress</td>\n",
       "      <td>drill</td>\n",
       "      <td>2023</td>\n",
       "      <td>96</td>\n",
       "    </tr>\n",
       "    <tr>\n",
       "      <th>4</th>\n",
       "      <td>Creepin' (with The Weeknd &amp; 21 Savage)</td>\n",
       "      <td>Metro Boomin</td>\n",
       "      <td>rap</td>\n",
       "      <td>2022</td>\n",
       "      <td>96</td>\n",
       "    </tr>\n",
       "    <tr>\n",
       "      <th>...</th>\n",
       "      <td>...</td>\n",
       "      <td>...</td>\n",
       "      <td>...</td>\n",
       "      <td>...</td>\n",
       "      <td>...</td>\n",
       "    </tr>\n",
       "    <tr>\n",
       "      <th>2380</th>\n",
       "      <td>Southbound</td>\n",
       "      <td>Beach Blvd</td>\n",
       "      <td>rock</td>\n",
       "      <td>2023</td>\n",
       "      <td>21</td>\n",
       "    </tr>\n",
       "    <tr>\n",
       "      <th>2381</th>\n",
       "      <td>Dance with Somebody - Radio Version</td>\n",
       "      <td>Mando Diao</td>\n",
       "      <td>indie</td>\n",
       "      <td>2009</td>\n",
       "      <td>16</td>\n",
       "    </tr>\n",
       "    <tr>\n",
       "      <th>2382</th>\n",
       "      <td>Flow</td>\n",
       "      <td>Desire Machines</td>\n",
       "      <td>indie</td>\n",
       "      <td>2022</td>\n",
       "      <td>15</td>\n",
       "    </tr>\n",
       "    <tr>\n",
       "      <th>2383</th>\n",
       "      <td>Scared of the Dark</td>\n",
       "      <td>Everything Brighter</td>\n",
       "      <td>pop</td>\n",
       "      <td>2023</td>\n",
       "      <td>11</td>\n",
       "    </tr>\n",
       "    <tr>\n",
       "      <th>2384</th>\n",
       "      <td>Sorry</td>\n",
       "      <td>LEADR</td>\n",
       "      <td>Other</td>\n",
       "      <td>2023</td>\n",
       "      <td>5</td>\n",
       "    </tr>\n",
       "  </tbody>\n",
       "</table>\n",
       "<p>2385 rows × 5 columns</p>\n",
       "</div>\n",
       "    <div class=\"colab-df-buttons\">\n",
       "\n",
       "  <div class=\"colab-df-container\">\n",
       "    <button class=\"colab-df-convert\" onclick=\"convertToInteractive('df-73bcc06c-a30a-4981-b73f-37385d8f0c0c')\"\n",
       "            title=\"Convert this dataframe to an interactive table.\"\n",
       "            style=\"display:none;\">\n",
       "\n",
       "  <svg xmlns=\"http://www.w3.org/2000/svg\" height=\"24px\" viewBox=\"0 -960 960 960\">\n",
       "    <path d=\"M120-120v-720h720v720H120Zm60-500h600v-160H180v160Zm220 220h160v-160H400v160Zm0 220h160v-160H400v160ZM180-400h160v-160H180v160Zm440 0h160v-160H620v160ZM180-180h160v-160H180v160Zm440 0h160v-160H620v160Z\"/>\n",
       "  </svg>\n",
       "    </button>\n",
       "\n",
       "  <style>\n",
       "    .colab-df-container {\n",
       "      display:flex;\n",
       "      gap: 12px;\n",
       "    }\n",
       "\n",
       "    .colab-df-convert {\n",
       "      background-color: #E8F0FE;\n",
       "      border: none;\n",
       "      border-radius: 50%;\n",
       "      cursor: pointer;\n",
       "      display: none;\n",
       "      fill: #1967D2;\n",
       "      height: 32px;\n",
       "      padding: 0 0 0 0;\n",
       "      width: 32px;\n",
       "    }\n",
       "\n",
       "    .colab-df-convert:hover {\n",
       "      background-color: #E2EBFA;\n",
       "      box-shadow: 0px 1px 2px rgba(60, 64, 67, 0.3), 0px 1px 3px 1px rgba(60, 64, 67, 0.15);\n",
       "      fill: #174EA6;\n",
       "    }\n",
       "\n",
       "    .colab-df-buttons div {\n",
       "      margin-bottom: 4px;\n",
       "    }\n",
       "\n",
       "    [theme=dark] .colab-df-convert {\n",
       "      background-color: #3B4455;\n",
       "      fill: #D2E3FC;\n",
       "    }\n",
       "\n",
       "    [theme=dark] .colab-df-convert:hover {\n",
       "      background-color: #434B5C;\n",
       "      box-shadow: 0px 1px 3px 1px rgba(0, 0, 0, 0.15);\n",
       "      filter: drop-shadow(0px 1px 2px rgba(0, 0, 0, 0.3));\n",
       "      fill: #FFFFFF;\n",
       "    }\n",
       "  </style>\n",
       "\n",
       "    <script>\n",
       "      const buttonEl =\n",
       "        document.querySelector('#df-73bcc06c-a30a-4981-b73f-37385d8f0c0c button.colab-df-convert');\n",
       "      buttonEl.style.display =\n",
       "        google.colab.kernel.accessAllowed ? 'block' : 'none';\n",
       "\n",
       "      async function convertToInteractive(key) {\n",
       "        const element = document.querySelector('#df-73bcc06c-a30a-4981-b73f-37385d8f0c0c');\n",
       "        const dataTable =\n",
       "          await google.colab.kernel.invokeFunction('convertToInteractive',\n",
       "                                                    [key], {});\n",
       "        if (!dataTable) return;\n",
       "\n",
       "        const docLinkHtml = 'Like what you see? Visit the ' +\n",
       "          '<a target=\"_blank\" href=https://colab.research.google.com/notebooks/data_table.ipynb>data table notebook</a>'\n",
       "          + ' to learn more about interactive tables.';\n",
       "        element.innerHTML = '';\n",
       "        dataTable['output_type'] = 'display_data';\n",
       "        await google.colab.output.renderOutput(dataTable, element);\n",
       "        const docLink = document.createElement('div');\n",
       "        docLink.innerHTML = docLinkHtml;\n",
       "        element.appendChild(docLink);\n",
       "      }\n",
       "    </script>\n",
       "  </div>\n",
       "\n",
       "\n",
       "    <div id=\"df-cc1c4aac-185b-4dde-a034-0d63dc48503e\">\n",
       "      <button class=\"colab-df-quickchart\" onclick=\"quickchart('df-cc1c4aac-185b-4dde-a034-0d63dc48503e')\"\n",
       "                title=\"Suggest charts\"\n",
       "                style=\"display:none;\">\n",
       "\n",
       "<svg xmlns=\"http://www.w3.org/2000/svg\" height=\"24px\"viewBox=\"0 0 24 24\"\n",
       "     width=\"24px\">\n",
       "    <g>\n",
       "        <path d=\"M19 3H5c-1.1 0-2 .9-2 2v14c0 1.1.9 2 2 2h14c1.1 0 2-.9 2-2V5c0-1.1-.9-2-2-2zM9 17H7v-7h2v7zm4 0h-2V7h2v10zm4 0h-2v-4h2v4z\"/>\n",
       "    </g>\n",
       "</svg>\n",
       "      </button>\n",
       "\n",
       "<style>\n",
       "  .colab-df-quickchart {\n",
       "      --bg-color: #E8F0FE;\n",
       "      --fill-color: #1967D2;\n",
       "      --hover-bg-color: #E2EBFA;\n",
       "      --hover-fill-color: #174EA6;\n",
       "      --disabled-fill-color: #AAA;\n",
       "      --disabled-bg-color: #DDD;\n",
       "  }\n",
       "\n",
       "  [theme=dark] .colab-df-quickchart {\n",
       "      --bg-color: #3B4455;\n",
       "      --fill-color: #D2E3FC;\n",
       "      --hover-bg-color: #434B5C;\n",
       "      --hover-fill-color: #FFFFFF;\n",
       "      --disabled-bg-color: #3B4455;\n",
       "      --disabled-fill-color: #666;\n",
       "  }\n",
       "\n",
       "  .colab-df-quickchart {\n",
       "    background-color: var(--bg-color);\n",
       "    border: none;\n",
       "    border-radius: 50%;\n",
       "    cursor: pointer;\n",
       "    display: none;\n",
       "    fill: var(--fill-color);\n",
       "    height: 32px;\n",
       "    padding: 0;\n",
       "    width: 32px;\n",
       "  }\n",
       "\n",
       "  .colab-df-quickchart:hover {\n",
       "    background-color: var(--hover-bg-color);\n",
       "    box-shadow: 0 1px 2px rgba(60, 64, 67, 0.3), 0 1px 3px 1px rgba(60, 64, 67, 0.15);\n",
       "    fill: var(--button-hover-fill-color);\n",
       "  }\n",
       "\n",
       "  .colab-df-quickchart-complete:disabled,\n",
       "  .colab-df-quickchart-complete:disabled:hover {\n",
       "    background-color: var(--disabled-bg-color);\n",
       "    fill: var(--disabled-fill-color);\n",
       "    box-shadow: none;\n",
       "  }\n",
       "\n",
       "  .colab-df-spinner {\n",
       "    border: 2px solid var(--fill-color);\n",
       "    border-color: transparent;\n",
       "    border-bottom-color: var(--fill-color);\n",
       "    animation:\n",
       "      spin 1s steps(1) infinite;\n",
       "  }\n",
       "\n",
       "  @keyframes spin {\n",
       "    0% {\n",
       "      border-color: transparent;\n",
       "      border-bottom-color: var(--fill-color);\n",
       "      border-left-color: var(--fill-color);\n",
       "    }\n",
       "    20% {\n",
       "      border-color: transparent;\n",
       "      border-left-color: var(--fill-color);\n",
       "      border-top-color: var(--fill-color);\n",
       "    }\n",
       "    30% {\n",
       "      border-color: transparent;\n",
       "      border-left-color: var(--fill-color);\n",
       "      border-top-color: var(--fill-color);\n",
       "      border-right-color: var(--fill-color);\n",
       "    }\n",
       "    40% {\n",
       "      border-color: transparent;\n",
       "      border-right-color: var(--fill-color);\n",
       "      border-top-color: var(--fill-color);\n",
       "    }\n",
       "    60% {\n",
       "      border-color: transparent;\n",
       "      border-right-color: var(--fill-color);\n",
       "    }\n",
       "    80% {\n",
       "      border-color: transparent;\n",
       "      border-right-color: var(--fill-color);\n",
       "      border-bottom-color: var(--fill-color);\n",
       "    }\n",
       "    90% {\n",
       "      border-color: transparent;\n",
       "      border-bottom-color: var(--fill-color);\n",
       "    }\n",
       "  }\n",
       "</style>\n",
       "\n",
       "      <script>\n",
       "        async function quickchart(key) {\n",
       "          const quickchartButtonEl =\n",
       "            document.querySelector('#' + key + ' button');\n",
       "          quickchartButtonEl.disabled = true;  // To prevent multiple clicks.\n",
       "          quickchartButtonEl.classList.add('colab-df-spinner');\n",
       "          try {\n",
       "            const charts = await google.colab.kernel.invokeFunction(\n",
       "                'suggestCharts', [key], {});\n",
       "          } catch (error) {\n",
       "            console.error('Error during call to suggestCharts:', error);\n",
       "          }\n",
       "          quickchartButtonEl.classList.remove('colab-df-spinner');\n",
       "          quickchartButtonEl.classList.add('colab-df-quickchart-complete');\n",
       "        }\n",
       "        (() => {\n",
       "          let quickchartButtonEl =\n",
       "            document.querySelector('#df-cc1c4aac-185b-4dde-a034-0d63dc48503e button');\n",
       "          quickchartButtonEl.style.display =\n",
       "            google.colab.kernel.accessAllowed ? 'block' : 'none';\n",
       "        })();\n",
       "      </script>\n",
       "    </div>\n",
       "\n",
       "  <div id=\"id_9c984c2a-5784-40a9-8c04-9f949d545035\">\n",
       "    <style>\n",
       "      .colab-df-generate {\n",
       "        background-color: #E8F0FE;\n",
       "        border: none;\n",
       "        border-radius: 50%;\n",
       "        cursor: pointer;\n",
       "        display: none;\n",
       "        fill: #1967D2;\n",
       "        height: 32px;\n",
       "        padding: 0 0 0 0;\n",
       "        width: 32px;\n",
       "      }\n",
       "\n",
       "      .colab-df-generate:hover {\n",
       "        background-color: #E2EBFA;\n",
       "        box-shadow: 0px 1px 2px rgba(60, 64, 67, 0.3), 0px 1px 3px 1px rgba(60, 64, 67, 0.15);\n",
       "        fill: #174EA6;\n",
       "      }\n",
       "\n",
       "      [theme=dark] .colab-df-generate {\n",
       "        background-color: #3B4455;\n",
       "        fill: #D2E3FC;\n",
       "      }\n",
       "\n",
       "      [theme=dark] .colab-df-generate:hover {\n",
       "        background-color: #434B5C;\n",
       "        box-shadow: 0px 1px 3px 1px rgba(0, 0, 0, 0.15);\n",
       "        filter: drop-shadow(0px 1px 2px rgba(0, 0, 0, 0.3));\n",
       "        fill: #FFFFFF;\n",
       "      }\n",
       "    </style>\n",
       "    <button class=\"colab-df-generate\" onclick=\"generateWithVariable('song')\"\n",
       "            title=\"Generate code using this dataframe.\"\n",
       "            style=\"display:none;\">\n",
       "\n",
       "  <svg xmlns=\"http://www.w3.org/2000/svg\" height=\"24px\"viewBox=\"0 0 24 24\"\n",
       "       width=\"24px\">\n",
       "    <path d=\"M7,19H8.4L18.45,9,17,7.55,7,17.6ZM5,21V16.75L18.45,3.32a2,2,0,0,1,2.83,0l1.4,1.43a1.91,1.91,0,0,1,.58,1.4,1.91,1.91,0,0,1-.58,1.4L9.25,21ZM18.45,9,17,7.55Zm-12,3A5.31,5.31,0,0,0,4.9,8.1,5.31,5.31,0,0,0,1,6.5,5.31,5.31,0,0,0,4.9,4.9,5.31,5.31,0,0,0,6.5,1,5.31,5.31,0,0,0,8.1,4.9,5.31,5.31,0,0,0,12,6.5,5.46,5.46,0,0,0,6.5,12Z\"/>\n",
       "  </svg>\n",
       "    </button>\n",
       "    <script>\n",
       "      (() => {\n",
       "      const buttonEl =\n",
       "        document.querySelector('#id_9c984c2a-5784-40a9-8c04-9f949d545035 button.colab-df-generate');\n",
       "      buttonEl.style.display =\n",
       "        google.colab.kernel.accessAllowed ? 'block' : 'none';\n",
       "\n",
       "      buttonEl.onclick = () => {\n",
       "        google.colab.notebook.generateWithVariable('song');\n",
       "      }\n",
       "      })();\n",
       "    </script>\n",
       "  </div>\n",
       "\n",
       "    </div>\n",
       "  </div>\n"
      ],
      "text/plain": [
       "                                       title               artist  genre  \\\n",
       "0                                    Flowers          Miley Cyrus    pop   \n",
       "1                          Cupid - Twin Ver.          FIFTY FIFTY   kpop   \n",
       "2                                       BESO              ROSALÍA    pop   \n",
       "3                         Boy's a liar Pt. 2       PinkPantheress  drill   \n",
       "4     Creepin' (with The Weeknd & 21 Savage)         Metro Boomin    rap   \n",
       "...                                      ...                  ...    ...   \n",
       "2380                              Southbound           Beach Blvd   rock   \n",
       "2381     Dance with Somebody - Radio Version           Mando Diao  indie   \n",
       "2382                                    Flow      Desire Machines  indie   \n",
       "2383                      Scared of the Dark  Everything Brighter    pop   \n",
       "2384                                   Sorry                LEADR  Other   \n",
       "\n",
       "      year  popularity  \n",
       "0     2023          98  \n",
       "1     2023          97  \n",
       "2     2023          96  \n",
       "3     2023          96  \n",
       "4     2022          96  \n",
       "...    ...         ...  \n",
       "2380  2023          21  \n",
       "2381  2009          16  \n",
       "2382  2022          15  \n",
       "2383  2023          11  \n",
       "2384  2023           5  \n",
       "\n",
       "[2385 rows x 5 columns]"
      ]
     },
     "execution_count": 28,
     "metadata": {},
     "output_type": "execute_result"
    }
   ],
   "source": [
    "def setgenrecategory(text):\n",
    "  if text == 'dance pop':\n",
    "    return 'dance pop'\n",
    "  elif (text == 'pop' or text == 'modern indie pop' or text == 'gauze pop' or text =='colombian pop' or\n",
    "        text == 'art pop' or text == 'canadian pop' or text == 'viral pop' or text =='barbadian pop' or\n",
    "        text == 'modern alternative pop' or text == 'danish pop' or text == 'puerto rican pop' or\n",
    "        text == 'irish pop' or text == 'latin pop' or text == 'baroque pop' or text == 'acoustic pop' or\n",
    "        text == 'german pop' or text == 'belgian pop' or text == 'australian pop' or text == 'candy pop' or\n",
    "        text == 'indonesian pop' or text == 'funk pop' or text == 'israeli pop' or text == 'nz pop' or\n",
    "        text == 'indonesian lo-fi pop' or text == 'french indie pop' or text == 'nyc pop' or\n",
    "        text == 'romanian pop' or text == 'panamanian pop' or text == 'chamber pop' or text == 'austrian pop' or\n",
    "        text == 'indie pop' or text == 'uk pop' or text == 'dutch pop' or text == 'singaporean pop' or\n",
    "        text == 'indonesian city pop' or text == 'bahamian pop' or text == 'new wave pop' or\n",
    "        text == 'uk alternative pop' or text == 'bedroom pop' or text == 'bedroom pop'):\n",
    "    return 'pop'\n",
    "  elif (text == 'k-pop girl group' or text == 'k-pop'):\n",
    "    return 'kpop'\n",
    "  elif (text == 'argentine hip hop' or text == 'detroit hip hop' or text == 'canadian hip hop' or\n",
    "        text == 'latin hip hop' or text == 'lgbtq+ hip hop' or text == 'australian hip hop' or\n",
    "        text == 'hip hop' or text == 'conscious hip hop' or text == 'east coast hip hop' or\n",
    "        text == 'alternative hip hop' or text == 'atl hip hop' or text == 'kentucky hip hop' or\n",
    "        text == 'deep underground hip hop' or text == 'uk hip hop' or text =='hawaiian hip hop' or\n",
    "        text == 'asian american hip hop' or text == 'memphis hip hop' or text == 'bronx hip hop' or\n",
    "        text == 'canadian old school hip hop' or text == 'ohio hip hop' or text == 'norwegian hip hop' or\n",
    "        text == 'miami hip hop' or text == 'southern hip hop' or text == 'birmingham hip hop' or\n",
    "        text == 'ghanaian hip hop' or text == 'hardcore hip hop'):\n",
    "    return 'hiphop'\n",
    "  elif (text == 'piano rock' or text == 'modern alternative rock' or text == 'garage rock' or\n",
    "        text == 'alternative rock' or text == 'modern rock' or text == 'indie rock italiano' or\n",
    "        text == 'glam rock' or text == 'dance rock' or text == 'blues rock' or text == 'irish rock' or\n",
    "        text == 'celtic rock' or text == 'indie rock' or text == 'british alternative rock' or\n",
    "        text == 'alternative pop rock' or text == 'pop rock' or text == 'rap rock' or\n",
    "        text == 'finnish alternative rock' or text == 'modern folk rock' or\n",
    "        text == 'australian alternative rock' or text == 'rock-and-roll' or\n",
    "        text == 'art rock' or text == 'rock'):\n",
    "    return 'rock'\n",
    "  elif (text == 'alternative metal' or text == 'glam metal' or text == 'nu metal' or\n",
    "        text == 'metal'):\n",
    "    return 'metal'\n",
    "  elif (text == 'neo soul' or text == 'british soul' or text == 'pop soul' or\n",
    "        text == 'bedroom soul' or text == 'classical soul' or text == 'r&b/soul'):\n",
    "    return 'soul'\n",
    "  elif (text == 'contemporary country' or text == 'classic oklahoma country' or text == 'country' or\n",
    "        text == 'canadian country'):\n",
    "    return 'country'\n",
    "  elif (text == 'chicago indie' or text == 'brighton indie' or text =='la indie' or\n",
    "        text == 'icelandic indie' or text == 'indie' or text == 'dalarna indie'):\n",
    "    return 'indie'\n",
    "  elif (text == 'rap' or text == 'new jersey underground rap' or text == 'dfw rap' or text == 'chicago rap' or\n",
    "        text == 'emo rap' or text == 'pop rap' or text == 'gangster rap' or text == 'cali rap' or text == 'melodic rap' or\n",
    "        text == 'indie pop rap' or text == 'cloud rap' or text == 'san diego rap' or text == 'viral rap' or\n",
    "        text == 'new jersey rap' or text == 'chicano rap' or text == 'nyc rap' or text == 'dirty south rap' or\n",
    "        text == 'houston rap' or text == 'comedy rap' or text == 'baton rouge rap' or text == 'london rap' or\n",
    "        text == 'battle rap' or text == 'alabama rap'):\n",
    "    return 'rap'\n",
    "  elif (text == 'edm' or text == 'belgian edm' or text == 'dutch edm' or text == 'pinoy edm'):\n",
    "    return 'edm'\n",
    "  elif (text == 'canadian contemporary r&b' or text == 'uk contemporary r&b' or text == 'r&b' or\n",
    "        text == 'afro r&b' or text == 'contemporary r&b' or text == 'alternative r&b' or\n",
    "        text == 'chill r&b'):\n",
    "    return 'rnb'\n",
    "  elif (text == 'bronx drill' or text == 'melodic drill' or text == 'brooklyn drill' or text == 'florida drill'):\n",
    "      return 'drill'\n",
    "  elif (text == 'gen z singer-songwriter' or text == 'irish singer-songwriter' or\n",
    "        text == 'scottish singer-songwriter' or text == 'neo-singer-songwriter'):\n",
    "        return 'songwriter'\n",
    "  else:\n",
    "    return 'Other'\n",
    "\n",
    "song['genre'] = song['genre'].apply(lambda x:setgenrecategory(x))\n",
    "song"
   ]
  },
  {
   "cell_type": "code",
   "execution_count": 29,
   "metadata": {
    "colab": {
     "base_uri": "https://localhost:8080/",
     "height": 519
    },
    "executionInfo": {
     "elapsed": 140,
     "status": "ok",
     "timestamp": 1749799764588,
     "user": {
      "displayName": "Afandi NAT",
      "userId": "09831528245184057202"
     },
     "user_tz": -420
    },
    "id": "NLh31KewUVe7",
    "outputId": "f19e930d-a03d-4c9d-a75c-82d4b9a0b3de"
   },
   "outputs": [
    {
     "data": {
      "application/vnd.google.colaboratory.intrinsic+json": {
       "summary": "{\n  \"name\": \"song_value_counts\",\n  \"rows\": 15,\n  \"fields\": [\n    {\n      \"column\": \"Genre\",\n      \"properties\": {\n        \"dtype\": \"string\",\n        \"num_unique_values\": 15,\n        \"samples\": [\n          \"metal\",\n          \"kpop\",\n          \"Other\"\n        ],\n        \"semantic_type\": \"\",\n        \"description\": \"\"\n      }\n    },\n    {\n      \"column\": \"Jumlah\",\n      \"properties\": {\n        \"dtype\": \"number\",\n        \"std\": 188,\n        \"min\": 6,\n        \"max\": 549,\n        \"num_unique_values\": 12,\n        \"samples\": [\n          8,\n          10,\n          549\n        ],\n        \"semantic_type\": \"\",\n        \"description\": \"\"\n      }\n    }\n  ]\n}",
       "type": "dataframe",
       "variable_name": "song_value_counts"
      },
      "text/html": [
       "\n",
       "  <div id=\"df-c75b0221-1b72-410a-9747-486169bfee7a\" class=\"colab-df-container\">\n",
       "    <div>\n",
       "<style scoped>\n",
       "    .dataframe tbody tr th:only-of-type {\n",
       "        vertical-align: middle;\n",
       "    }\n",
       "\n",
       "    .dataframe tbody tr th {\n",
       "        vertical-align: top;\n",
       "    }\n",
       "\n",
       "    .dataframe thead th {\n",
       "        text-align: right;\n",
       "    }\n",
       "</style>\n",
       "<table border=\"1\" class=\"dataframe\">\n",
       "  <thead>\n",
       "    <tr style=\"text-align: right;\">\n",
       "      <th></th>\n",
       "      <th>Genre</th>\n",
       "      <th>Jumlah</th>\n",
       "    </tr>\n",
       "  </thead>\n",
       "  <tbody>\n",
       "    <tr>\n",
       "      <th>0</th>\n",
       "      <td>Other</td>\n",
       "      <td>549</td>\n",
       "    </tr>\n",
       "    <tr>\n",
       "      <th>1</th>\n",
       "      <td>pop</td>\n",
       "      <td>460</td>\n",
       "    </tr>\n",
       "    <tr>\n",
       "      <th>2</th>\n",
       "      <td>dance pop</td>\n",
       "      <td>460</td>\n",
       "    </tr>\n",
       "    <tr>\n",
       "      <th>3</th>\n",
       "      <td>hiphop</td>\n",
       "      <td>300</td>\n",
       "    </tr>\n",
       "    <tr>\n",
       "      <th>4</th>\n",
       "      <td>rap</td>\n",
       "      <td>159</td>\n",
       "    </tr>\n",
       "    <tr>\n",
       "      <th>5</th>\n",
       "      <td>rock</td>\n",
       "      <td>113</td>\n",
       "    </tr>\n",
       "    <tr>\n",
       "      <th>6</th>\n",
       "      <td>rnb</td>\n",
       "      <td>96</td>\n",
       "    </tr>\n",
       "    <tr>\n",
       "      <th>7</th>\n",
       "      <td>edm</td>\n",
       "      <td>63</td>\n",
       "    </tr>\n",
       "    <tr>\n",
       "      <th>8</th>\n",
       "      <td>soul</td>\n",
       "      <td>63</td>\n",
       "    </tr>\n",
       "    <tr>\n",
       "      <th>9</th>\n",
       "      <td>metal</td>\n",
       "      <td>60</td>\n",
       "    </tr>\n",
       "    <tr>\n",
       "      <th>10</th>\n",
       "      <td>country</td>\n",
       "      <td>28</td>\n",
       "    </tr>\n",
       "    <tr>\n",
       "      <th>11</th>\n",
       "      <td>kpop</td>\n",
       "      <td>10</td>\n",
       "    </tr>\n",
       "    <tr>\n",
       "      <th>12</th>\n",
       "      <td>indie</td>\n",
       "      <td>10</td>\n",
       "    </tr>\n",
       "    <tr>\n",
       "      <th>13</th>\n",
       "      <td>drill</td>\n",
       "      <td>8</td>\n",
       "    </tr>\n",
       "    <tr>\n",
       "      <th>14</th>\n",
       "      <td>songwriter</td>\n",
       "      <td>6</td>\n",
       "    </tr>\n",
       "  </tbody>\n",
       "</table>\n",
       "</div>\n",
       "    <div class=\"colab-df-buttons\">\n",
       "\n",
       "  <div class=\"colab-df-container\">\n",
       "    <button class=\"colab-df-convert\" onclick=\"convertToInteractive('df-c75b0221-1b72-410a-9747-486169bfee7a')\"\n",
       "            title=\"Convert this dataframe to an interactive table.\"\n",
       "            style=\"display:none;\">\n",
       "\n",
       "  <svg xmlns=\"http://www.w3.org/2000/svg\" height=\"24px\" viewBox=\"0 -960 960 960\">\n",
       "    <path d=\"M120-120v-720h720v720H120Zm60-500h600v-160H180v160Zm220 220h160v-160H400v160Zm0 220h160v-160H400v160ZM180-400h160v-160H180v160Zm440 0h160v-160H620v160ZM180-180h160v-160H180v160Zm440 0h160v-160H620v160Z\"/>\n",
       "  </svg>\n",
       "    </button>\n",
       "\n",
       "  <style>\n",
       "    .colab-df-container {\n",
       "      display:flex;\n",
       "      gap: 12px;\n",
       "    }\n",
       "\n",
       "    .colab-df-convert {\n",
       "      background-color: #E8F0FE;\n",
       "      border: none;\n",
       "      border-radius: 50%;\n",
       "      cursor: pointer;\n",
       "      display: none;\n",
       "      fill: #1967D2;\n",
       "      height: 32px;\n",
       "      padding: 0 0 0 0;\n",
       "      width: 32px;\n",
       "    }\n",
       "\n",
       "    .colab-df-convert:hover {\n",
       "      background-color: #E2EBFA;\n",
       "      box-shadow: 0px 1px 2px rgba(60, 64, 67, 0.3), 0px 1px 3px 1px rgba(60, 64, 67, 0.15);\n",
       "      fill: #174EA6;\n",
       "    }\n",
       "\n",
       "    .colab-df-buttons div {\n",
       "      margin-bottom: 4px;\n",
       "    }\n",
       "\n",
       "    [theme=dark] .colab-df-convert {\n",
       "      background-color: #3B4455;\n",
       "      fill: #D2E3FC;\n",
       "    }\n",
       "\n",
       "    [theme=dark] .colab-df-convert:hover {\n",
       "      background-color: #434B5C;\n",
       "      box-shadow: 0px 1px 3px 1px rgba(0, 0, 0, 0.15);\n",
       "      filter: drop-shadow(0px 1px 2px rgba(0, 0, 0, 0.3));\n",
       "      fill: #FFFFFF;\n",
       "    }\n",
       "  </style>\n",
       "\n",
       "    <script>\n",
       "      const buttonEl =\n",
       "        document.querySelector('#df-c75b0221-1b72-410a-9747-486169bfee7a button.colab-df-convert');\n",
       "      buttonEl.style.display =\n",
       "        google.colab.kernel.accessAllowed ? 'block' : 'none';\n",
       "\n",
       "      async function convertToInteractive(key) {\n",
       "        const element = document.querySelector('#df-c75b0221-1b72-410a-9747-486169bfee7a');\n",
       "        const dataTable =\n",
       "          await google.colab.kernel.invokeFunction('convertToInteractive',\n",
       "                                                    [key], {});\n",
       "        if (!dataTable) return;\n",
       "\n",
       "        const docLinkHtml = 'Like what you see? Visit the ' +\n",
       "          '<a target=\"_blank\" href=https://colab.research.google.com/notebooks/data_table.ipynb>data table notebook</a>'\n",
       "          + ' to learn more about interactive tables.';\n",
       "        element.innerHTML = '';\n",
       "        dataTable['output_type'] = 'display_data';\n",
       "        await google.colab.output.renderOutput(dataTable, element);\n",
       "        const docLink = document.createElement('div');\n",
       "        docLink.innerHTML = docLinkHtml;\n",
       "        element.appendChild(docLink);\n",
       "      }\n",
       "    </script>\n",
       "  </div>\n",
       "\n",
       "\n",
       "    <div id=\"df-0e24a5a0-325f-4782-bc7b-dca154e3637b\">\n",
       "      <button class=\"colab-df-quickchart\" onclick=\"quickchart('df-0e24a5a0-325f-4782-bc7b-dca154e3637b')\"\n",
       "                title=\"Suggest charts\"\n",
       "                style=\"display:none;\">\n",
       "\n",
       "<svg xmlns=\"http://www.w3.org/2000/svg\" height=\"24px\"viewBox=\"0 0 24 24\"\n",
       "     width=\"24px\">\n",
       "    <g>\n",
       "        <path d=\"M19 3H5c-1.1 0-2 .9-2 2v14c0 1.1.9 2 2 2h14c1.1 0 2-.9 2-2V5c0-1.1-.9-2-2-2zM9 17H7v-7h2v7zm4 0h-2V7h2v10zm4 0h-2v-4h2v4z\"/>\n",
       "    </g>\n",
       "</svg>\n",
       "      </button>\n",
       "\n",
       "<style>\n",
       "  .colab-df-quickchart {\n",
       "      --bg-color: #E8F0FE;\n",
       "      --fill-color: #1967D2;\n",
       "      --hover-bg-color: #E2EBFA;\n",
       "      --hover-fill-color: #174EA6;\n",
       "      --disabled-fill-color: #AAA;\n",
       "      --disabled-bg-color: #DDD;\n",
       "  }\n",
       "\n",
       "  [theme=dark] .colab-df-quickchart {\n",
       "      --bg-color: #3B4455;\n",
       "      --fill-color: #D2E3FC;\n",
       "      --hover-bg-color: #434B5C;\n",
       "      --hover-fill-color: #FFFFFF;\n",
       "      --disabled-bg-color: #3B4455;\n",
       "      --disabled-fill-color: #666;\n",
       "  }\n",
       "\n",
       "  .colab-df-quickchart {\n",
       "    background-color: var(--bg-color);\n",
       "    border: none;\n",
       "    border-radius: 50%;\n",
       "    cursor: pointer;\n",
       "    display: none;\n",
       "    fill: var(--fill-color);\n",
       "    height: 32px;\n",
       "    padding: 0;\n",
       "    width: 32px;\n",
       "  }\n",
       "\n",
       "  .colab-df-quickchart:hover {\n",
       "    background-color: var(--hover-bg-color);\n",
       "    box-shadow: 0 1px 2px rgba(60, 64, 67, 0.3), 0 1px 3px 1px rgba(60, 64, 67, 0.15);\n",
       "    fill: var(--button-hover-fill-color);\n",
       "  }\n",
       "\n",
       "  .colab-df-quickchart-complete:disabled,\n",
       "  .colab-df-quickchart-complete:disabled:hover {\n",
       "    background-color: var(--disabled-bg-color);\n",
       "    fill: var(--disabled-fill-color);\n",
       "    box-shadow: none;\n",
       "  }\n",
       "\n",
       "  .colab-df-spinner {\n",
       "    border: 2px solid var(--fill-color);\n",
       "    border-color: transparent;\n",
       "    border-bottom-color: var(--fill-color);\n",
       "    animation:\n",
       "      spin 1s steps(1) infinite;\n",
       "  }\n",
       "\n",
       "  @keyframes spin {\n",
       "    0% {\n",
       "      border-color: transparent;\n",
       "      border-bottom-color: var(--fill-color);\n",
       "      border-left-color: var(--fill-color);\n",
       "    }\n",
       "    20% {\n",
       "      border-color: transparent;\n",
       "      border-left-color: var(--fill-color);\n",
       "      border-top-color: var(--fill-color);\n",
       "    }\n",
       "    30% {\n",
       "      border-color: transparent;\n",
       "      border-left-color: var(--fill-color);\n",
       "      border-top-color: var(--fill-color);\n",
       "      border-right-color: var(--fill-color);\n",
       "    }\n",
       "    40% {\n",
       "      border-color: transparent;\n",
       "      border-right-color: var(--fill-color);\n",
       "      border-top-color: var(--fill-color);\n",
       "    }\n",
       "    60% {\n",
       "      border-color: transparent;\n",
       "      border-right-color: var(--fill-color);\n",
       "    }\n",
       "    80% {\n",
       "      border-color: transparent;\n",
       "      border-right-color: var(--fill-color);\n",
       "      border-bottom-color: var(--fill-color);\n",
       "    }\n",
       "    90% {\n",
       "      border-color: transparent;\n",
       "      border-bottom-color: var(--fill-color);\n",
       "    }\n",
       "  }\n",
       "</style>\n",
       "\n",
       "      <script>\n",
       "        async function quickchart(key) {\n",
       "          const quickchartButtonEl =\n",
       "            document.querySelector('#' + key + ' button');\n",
       "          quickchartButtonEl.disabled = true;  // To prevent multiple clicks.\n",
       "          quickchartButtonEl.classList.add('colab-df-spinner');\n",
       "          try {\n",
       "            const charts = await google.colab.kernel.invokeFunction(\n",
       "                'suggestCharts', [key], {});\n",
       "          } catch (error) {\n",
       "            console.error('Error during call to suggestCharts:', error);\n",
       "          }\n",
       "          quickchartButtonEl.classList.remove('colab-df-spinner');\n",
       "          quickchartButtonEl.classList.add('colab-df-quickchart-complete');\n",
       "        }\n",
       "        (() => {\n",
       "          let quickchartButtonEl =\n",
       "            document.querySelector('#df-0e24a5a0-325f-4782-bc7b-dca154e3637b button');\n",
       "          quickchartButtonEl.style.display =\n",
       "            google.colab.kernel.accessAllowed ? 'block' : 'none';\n",
       "        })();\n",
       "      </script>\n",
       "    </div>\n",
       "\n",
       "  <div id=\"id_fc7389a0-64ee-4637-bf8a-527526988798\">\n",
       "    <style>\n",
       "      .colab-df-generate {\n",
       "        background-color: #E8F0FE;\n",
       "        border: none;\n",
       "        border-radius: 50%;\n",
       "        cursor: pointer;\n",
       "        display: none;\n",
       "        fill: #1967D2;\n",
       "        height: 32px;\n",
       "        padding: 0 0 0 0;\n",
       "        width: 32px;\n",
       "      }\n",
       "\n",
       "      .colab-df-generate:hover {\n",
       "        background-color: #E2EBFA;\n",
       "        box-shadow: 0px 1px 2px rgba(60, 64, 67, 0.3), 0px 1px 3px 1px rgba(60, 64, 67, 0.15);\n",
       "        fill: #174EA6;\n",
       "      }\n",
       "\n",
       "      [theme=dark] .colab-df-generate {\n",
       "        background-color: #3B4455;\n",
       "        fill: #D2E3FC;\n",
       "      }\n",
       "\n",
       "      [theme=dark] .colab-df-generate:hover {\n",
       "        background-color: #434B5C;\n",
       "        box-shadow: 0px 1px 3px 1px rgba(0, 0, 0, 0.15);\n",
       "        filter: drop-shadow(0px 1px 2px rgba(0, 0, 0, 0.3));\n",
       "        fill: #FFFFFF;\n",
       "      }\n",
       "    </style>\n",
       "    <button class=\"colab-df-generate\" onclick=\"generateWithVariable('song_value_counts')\"\n",
       "            title=\"Generate code using this dataframe.\"\n",
       "            style=\"display:none;\">\n",
       "\n",
       "  <svg xmlns=\"http://www.w3.org/2000/svg\" height=\"24px\"viewBox=\"0 0 24 24\"\n",
       "       width=\"24px\">\n",
       "    <path d=\"M7,19H8.4L18.45,9,17,7.55,7,17.6ZM5,21V16.75L18.45,3.32a2,2,0,0,1,2.83,0l1.4,1.43a1.91,1.91,0,0,1,.58,1.4,1.91,1.91,0,0,1-.58,1.4L9.25,21ZM18.45,9,17,7.55Zm-12,3A5.31,5.31,0,0,0,4.9,8.1,5.31,5.31,0,0,0,1,6.5,5.31,5.31,0,0,0,4.9,4.9,5.31,5.31,0,0,0,6.5,1,5.31,5.31,0,0,0,8.1,4.9,5.31,5.31,0,0,0,12,6.5,5.46,5.46,0,0,0,6.5,12Z\"/>\n",
       "  </svg>\n",
       "    </button>\n",
       "    <script>\n",
       "      (() => {\n",
       "      const buttonEl =\n",
       "        document.querySelector('#id_fc7389a0-64ee-4637-bf8a-527526988798 button.colab-df-generate');\n",
       "      buttonEl.style.display =\n",
       "        google.colab.kernel.accessAllowed ? 'block' : 'none';\n",
       "\n",
       "      buttonEl.onclick = () => {\n",
       "        google.colab.notebook.generateWithVariable('song_value_counts');\n",
       "      }\n",
       "      })();\n",
       "    </script>\n",
       "  </div>\n",
       "\n",
       "    </div>\n",
       "  </div>\n"
      ],
      "text/plain": [
       "         Genre  Jumlah\n",
       "0        Other     549\n",
       "1          pop     460\n",
       "2    dance pop     460\n",
       "3       hiphop     300\n",
       "4          rap     159\n",
       "5         rock     113\n",
       "6          rnb      96\n",
       "7          edm      63\n",
       "8         soul      63\n",
       "9        metal      60\n",
       "10     country      28\n",
       "11        kpop      10\n",
       "12       indie      10\n",
       "13       drill       8\n",
       "14  songwriter       6"
      ]
     },
     "execution_count": 29,
     "metadata": {},
     "output_type": "execute_result"
    }
   ],
   "source": [
    "genre_count = song['genre'].value_counts().to_frame()\n",
    "\n",
    "song_value_counts = pd.DataFrame(genre_count)\n",
    "song_value_counts = song_value_counts.reset_index()\n",
    "song_value_counts.columns = ['Genre', 'Jumlah']\n",
    "song_value_counts"
   ]
  },
  {
   "cell_type": "code",
   "execution_count": 30,
   "metadata": {
    "colab": {
     "base_uri": "https://localhost:8080/",
     "height": 576
    },
    "executionInfo": {
     "elapsed": 467,
     "status": "ok",
     "timestamp": 1749799775873,
     "user": {
      "displayName": "Afandi NAT",
      "userId": "09831528245184057202"
     },
     "user_tz": -420
    },
    "id": "AWZ6QNmFhFX5",
    "outputId": "61f1edc6-7ffd-4dcd-e739-86294b80e2bb"
   },
   "outputs": [
    {
     "data": {
      "image/png": "[encoded data removed]",
      "text/plain": [
       "<Figure size 900x600 with 1 Axes>"
      ]
     },
     "metadata": {},
     "output_type": "display_data"
    }
   ],
   "source": [
    "song_genre = song['genre'].value_counts().reset_index()\n",
    "sns.barplot(data=song_genre, y='genre', x='count')\n",
    "plt.xticks(rotation=45)\n",
    "sns.set(rc={'figure.figsize':(9, 6)})\n",
    "plt.title('15 Genre Musik Baru')\n",
    "plt.show()"
   ]
  },
  {
   "cell_type": "markdown",
   "metadata": {
    "id": "cEBcCp3xYwQj"
   },
   "source": [
    "## **Model Development dengan Content Based Filtering**"
   ]
  },
  {
   "cell_type": "markdown",
   "metadata": {
    "id": "wZGbDsG0aANG"
   },
   "source": [
    "### **Implementasi TF-IDF**"
   ]
  },
  {
   "cell_type": "code",
   "execution_count": 31,
   "metadata": {
    "executionInfo": {
     "elapsed": 161,
     "status": "ok",
     "timestamp": 1749799792829,
     "user": {
      "displayName": "Afandi NAT",
      "userId": "09831528245184057202"
     },
     "user_tz": -420
    },
    "id": "So50qPWH9w6e"
   },
   "outputs": [],
   "source": [
    "from sklearn.feature_extraction.text import TfidfVectorizer"
   ]
  },
  {
   "cell_type": "code",
   "execution_count": 32,
   "metadata": {
    "executionInfo": {
     "elapsed": 31,
     "status": "ok",
     "timestamp": 1749799796233,
     "user": {
      "displayName": "Afandi NAT",
      "userId": "09831528245184057202"
     },
     "user_tz": -420
    },
    "id": "5zJ_kTG5Y5TE"
   },
   "outputs": [],
   "source": [
    "tfidf_vector=TfidfVectorizer(stop_words='english')\n",
    "tfidf_matrix=tfidf_vector.fit_transform(song['genre'])"
   ]
  },
  {
   "cell_type": "code",
   "execution_count": 33,
   "metadata": {
    "colab": {
     "base_uri": "https://localhost:8080/"
    },
    "executionInfo": {
     "elapsed": 33,
     "status": "ok",
     "timestamp": 1749799798533,
     "user": {
      "displayName": "Afandi NAT",
      "userId": "09831528245184057202"
     },
     "user_tz": -420
    },
    "id": "YC0ei5ExY7aO",
    "outputId": "591f7513-0802-4b95-b36d-d5e44a49928c"
   },
   "outputs": [
    {
     "name": "stdout",
     "output_type": "stream",
     "text": [
      "[(0, 'country'), (1, 'dance'), (2, 'drill'), (3, 'edm'), (4, 'hiphop'), (5, 'indie'), (6, 'kpop'), (7, 'metal'), (8, 'pop'), (9, 'rap'), (10, 'rnb'), (11, 'rock'), (12, 'songwriter'), (13, 'soul')]\n"
     ]
    }
   ],
   "source": [
    "print(list(enumerate(tfidf_vector.get_feature_names_out())))"
   ]
  },
  {
   "cell_type": "code",
   "execution_count": 34,
   "metadata": {
    "colab": {
     "base_uri": "https://localhost:8080/"
    },
    "executionInfo": {
     "elapsed": 27,
     "status": "ok",
     "timestamp": 1749799811580,
     "user": {
      "displayName": "Afandi NAT",
      "userId": "09831528245184057202"
     },
     "user_tz": -420
    },
    "id": "_AAiyOS_ZCzZ",
    "outputId": "cf513002-c142-4e1a-fcab-e1222c0f9fbb"
   },
   "outputs": [
    {
     "name": "stdout",
     "output_type": "stream",
     "text": [
      "<Compressed Sparse Row sparse matrix of dtype 'float64'\n",
      "\twith 8 stored elements and shape (10, 14)>\n",
      "  Coords\tValues\n",
      "  (0, 8)\t1.0\n",
      "  (1, 6)\t1.0\n",
      "  (2, 8)\t1.0\n",
      "  (3, 2)\t1.0\n",
      "  (4, 9)\t1.0\n",
      "  (5, 12)\t1.0\n",
      "  (8, 8)\t1.0\n",
      "  (9, 8)\t1.0\n"
     ]
    }
   ],
   "source": [
    "print(tfidf_matrix[:10])"
   ]
  },
  {
   "cell_type": "code",
   "execution_count": 35,
   "metadata": {
    "colab": {
     "base_uri": "https://localhost:8080/"
    },
    "executionInfo": {
     "elapsed": 49,
     "status": "ok",
     "timestamp": 1749799814057,
     "user": {
      "displayName": "Afandi NAT",
      "userId": "09831528245184057202"
     },
     "user_tz": -420
    },
    "id": "bVwQzPn4ZFfr",
    "outputId": "46fd81c5-0def-4efd-a521-d3b7547f90ea"
   },
   "outputs": [
    {
     "data": {
      "text/plain": [
       "(2385, 14)"
      ]
     },
     "execution_count": 35,
     "metadata": {},
     "output_type": "execute_result"
    }
   ],
   "source": [
    "tfidf_matrix.shape"
   ]
  },
  {
   "cell_type": "code",
   "execution_count": 36,
   "metadata": {
    "colab": {
     "base_uri": "https://localhost:8080/"
    },
    "executionInfo": {
     "elapsed": 15,
     "status": "ok",
     "timestamp": 1749799815166,
     "user": {
      "displayName": "Afandi NAT",
      "userId": "09831528245184057202"
     },
     "user_tz": -420
    },
    "id": "LPxKIxrSZH30",
    "outputId": "ab0bec7d-2166-4aaf-bb83-0f9918a900e7"
   },
   "outputs": [
    {
     "data": {
      "text/plain": [
       "matrix([[0., 0., 0., 0., 0., 0., 0., 0., 1., 0., 0., 0., 0., 0.]])"
      ]
     },
     "execution_count": 36,
     "metadata": {},
     "output_type": "execute_result"
    }
   ],
   "source": [
    "tfidf_matrix.todense()[0]"
   ]
  },
  {
   "cell_type": "markdown",
   "metadata": {
    "id": "fPz0eJd4AoPd"
   },
   "source": [
    "### **Manhattan Distances**"
   ]
  },
  {
   "cell_type": "code",
   "execution_count": 37,
   "metadata": {
    "executionInfo": {
     "elapsed": 355,
     "status": "ok",
     "timestamp": 1749799827676,
     "user": {
      "displayName": "Afandi NAT",
      "userId": "09831528245184057202"
     },
     "user_tz": -420
    },
    "id": "_S55pFPcZLNL"
   },
   "outputs": [],
   "source": [
    "from sklearn.metrics.pairwise import manhattan_distances"
   ]
  },
  {
   "cell_type": "code",
   "execution_count": 38,
   "metadata": {
    "executionInfo": {
     "elapsed": 110,
     "status": "ok",
     "timestamp": 1749799828210,
     "user": {
      "displayName": "Afandi NAT",
      "userId": "09831528245184057202"
     },
     "user_tz": -420
    },
    "id": "72JQvivXZz65"
   },
   "outputs": [],
   "source": [
    "manhattan_matrix = manhattan_distances(tfidf_matrix)"
   ]
  },
  {
   "cell_type": "code",
   "execution_count": 39,
   "metadata": {
    "colab": {
     "base_uri": "https://localhost:8080/"
    },
    "executionInfo": {
     "elapsed": 41,
     "status": "ok",
     "timestamp": 1749799830131,
     "user": {
      "displayName": "Afandi NAT",
      "userId": "09831528245184057202"
     },
     "user_tz": -420
    },
    "id": "E-FUo7_sZ1rb",
    "outputId": "c00ccfe2-6e98-4c1a-b530-8ac8dbdf0451"
   },
   "outputs": [
    {
     "data": {
      "text/plain": [
       "array([[0., 2., 0., ..., 2., 0., 1.],\n",
       "       [2., 0., 2., ..., 2., 2., 1.],\n",
       "       [0., 2., 0., ..., 2., 0., 1.],\n",
       "       ...,\n",
       "       [2., 2., 2., ..., 0., 2., 1.],\n",
       "       [0., 2., 0., ..., 2., 0., 1.],\n",
       "       [1., 1., 1., ..., 1., 1., 0.]])"
      ]
     },
     "execution_count": 39,
     "metadata": {},
     "output_type": "execute_result"
    }
   ],
   "source": [
    "manhattan_matrix"
   ]
  },
  {
   "cell_type": "markdown",
   "metadata": {
    "id": "-iCh28zICkLN"
   },
   "source": [
    "### **Euclidean Distances**"
   ]
  },
  {
   "cell_type": "code",
   "execution_count": 40,
   "metadata": {
    "executionInfo": {
     "elapsed": 5,
     "status": "ok",
     "timestamp": 1749799831463,
     "user": {
      "displayName": "Afandi NAT",
      "userId": "09831528245184057202"
     },
     "user_tz": -420
    },
    "id": "AZLJmGjSCwne"
   },
   "outputs": [],
   "source": [
    "from sklearn.metrics.pairwise import euclidean_distances"
   ]
  },
  {
   "cell_type": "code",
   "execution_count": 41,
   "metadata": {
    "executionInfo": {
     "elapsed": 106,
     "status": "ok",
     "timestamp": 1749799832141,
     "user": {
      "displayName": "Afandi NAT",
      "userId": "09831528245184057202"
     },
     "user_tz": -420
    },
    "id": "WxLnq9ZUC2K-"
   },
   "outputs": [],
   "source": [
    "euclidean_matrix = euclidean_distances(tfidf_matrix, tfidf_matrix)"
   ]
  },
  {
   "cell_type": "code",
   "execution_count": 42,
   "metadata": {
    "colab": {
     "base_uri": "https://localhost:8080/"
    },
    "executionInfo": {
     "elapsed": 25,
     "status": "ok",
     "timestamp": 1749799832780,
     "user": {
      "displayName": "Afandi NAT",
      "userId": "09831528245184057202"
     },
     "user_tz": -420
    },
    "id": "NWdL_Nt6DAKN",
    "outputId": "eecb5df5-ced2-44fe-e9f4-8ec75c80cc93"
   },
   "outputs": [
    {
     "data": {
      "text/plain": [
       "array([[0.        , 1.41421356, 0.        , ..., 1.41421356, 0.        ,\n",
       "        1.        ],\n",
       "       [1.41421356, 0.        , 1.41421356, ..., 1.41421356, 1.41421356,\n",
       "        1.        ],\n",
       "       [0.        , 1.41421356, 0.        , ..., 1.41421356, 0.        ,\n",
       "        1.        ],\n",
       "       ...,\n",
       "       [1.41421356, 1.41421356, 1.41421356, ..., 0.        , 1.41421356,\n",
       "        1.        ],\n",
       "       [0.        , 1.41421356, 0.        , ..., 1.41421356, 0.        ,\n",
       "        1.        ],\n",
       "       [1.        , 1.        , 1.        , ..., 1.        , 1.        ,\n",
       "        0.        ]])"
      ]
     },
     "execution_count": 42,
     "metadata": {},
     "output_type": "execute_result"
    }
   ],
   "source": [
    "euclidean_matrix"
   ]
  },
  {
   "cell_type": "markdown",
   "metadata": {
    "id": "zljtc5JJXerh"
   },
   "source": [
    "###**Cosine Similarity**"
   ]
  },
  {
   "cell_type": "code",
   "execution_count": 43,
   "metadata": {
    "executionInfo": {
     "elapsed": 9,
     "status": "ok",
     "timestamp": 1749799834613,
     "user": {
      "displayName": "Afandi NAT",
      "userId": "09831528245184057202"
     },
     "user_tz": -420
    },
    "id": "FwIDChCZXb9i"
   },
   "outputs": [],
   "source": [
    "from sklearn.metrics.pairwise import cosine_similarity"
   ]
  },
  {
   "cell_type": "code",
   "execution_count": 44,
   "metadata": {
    "executionInfo": {
     "elapsed": 64,
     "status": "ok",
     "timestamp": 1749799835243,
     "user": {
      "displayName": "Afandi NAT",
      "userId": "09831528245184057202"
     },
     "user_tz": -420
    },
    "id": "9rPQ2pDGXrsD"
   },
   "outputs": [],
   "source": [
    "cosine_matrix = cosine_similarity(tfidf_matrix)"
   ]
  },
  {
   "cell_type": "code",
   "execution_count": 45,
   "metadata": {
    "colab": {
     "base_uri": "https://localhost:8080/"
    },
    "executionInfo": {
     "elapsed": 134,
     "status": "ok",
     "timestamp": 1749799835881,
     "user": {
      "displayName": "Afandi NAT",
      "userId": "09831528245184057202"
     },
     "user_tz": -420
    },
    "id": "33CvyLA8Xxfd",
    "outputId": "e98380eb-279d-4f99-b159-42536411aa84"
   },
   "outputs": [
    {
     "data": {
      "text/plain": [
       "array([[1., 0., 1., ..., 0., 1., 0.],\n",
       "       [0., 1., 0., ..., 0., 0., 0.],\n",
       "       [1., 0., 1., ..., 0., 1., 0.],\n",
       "       ...,\n",
       "       [0., 0., 0., ..., 1., 0., 0.],\n",
       "       [1., 0., 1., ..., 0., 1., 0.],\n",
       "       [0., 0., 0., ..., 0., 0., 0.]])"
      ]
     },
     "execution_count": 45,
     "metadata": {},
     "output_type": "execute_result"
    }
   ],
   "source": [
    "cosine_matrix"
   ]
  },
  {
   "cell_type": "markdown",
   "metadata": {
    "id": "gv3oOCoiZ5ca"
   },
   "source": [
    "###**Membuat Rekomendasi**"
   ]
  },
  {
   "cell_type": "markdown",
   "metadata": {
    "id": "KRgBK4HIH6Du"
   },
   "source": [
    "**Implementasi FuzzyWuzzy**"
   ]
  },
  {
   "cell_type": "markdown",
   "metadata": {
    "id": "7QRrYTNKjxmL"
   },
   "source": [
    "FuzzyWuzzy digunakan untuk mencocokan nama lagu yang dimasukan user dengan nama lagu dari sumber data"
   ]
  },
  {
   "cell_type": "code",
   "execution_count": 46,
   "metadata": {
    "colab": {
     "base_uri": "https://localhost:8080/"
    },
    "executionInfo": {
     "elapsed": 5887,
     "status": "ok",
     "timestamp": 1749799847563,
     "user": {
      "displayName": "Afandi NAT",
      "userId": "09831528245184057202"
     },
     "user_tz": -420
    },
    "id": "Q8tOshKQaHaC",
    "outputId": "0a86da33-99c4-4023-fbe3-77f0e6826b22"
   },
   "outputs": [
    {
     "name": "stdout",
     "output_type": "stream",
     "text": [
      "Collecting fuzzywuzzy\n",
      "  Downloading fuzzywuzzy-0.18.0-py2.py3-none-any.whl.metadata (4.9 kB)\n",
      "Downloading fuzzywuzzy-0.18.0-py2.py3-none-any.whl (18 kB)\n",
      "Installing collected packages: fuzzywuzzy\n",
      "Successfully installed fuzzywuzzy-0.18.0\n"
     ]
    }
   ],
   "source": [
    "!pip install fuzzywuzzy"
   ]
  },
  {
   "cell_type": "code",
   "execution_count": 47,
   "metadata": {
    "colab": {
     "base_uri": "https://localhost:8080/"
    },
    "executionInfo": {
     "elapsed": 35,
     "status": "ok",
     "timestamp": 1749799847597,
     "user": {
      "displayName": "Afandi NAT",
      "userId": "09831528245184057202"
     },
     "user_tz": -420
    },
    "id": "2EqLHvxMaOnj",
    "outputId": "dd57296a-a425-4991-b560-c72f7136fcb6"
   },
   "outputs": [
    {
     "name": "stderr",
     "output_type": "stream",
     "text": [
      "/usr/local/lib/python3.11/dist-packages/fuzzywuzzy/fuzz.py:11: UserWarning: Using slow pure-python SequenceMatcher. Install python-Levenshtein to remove this warning\n",
      "  warnings.warn('Using slow pure-python SequenceMatcher. Install python-Levenshtein to remove this warning')\n"
     ]
    }
   ],
   "source": [
    "from fuzzywuzzy import fuzz"
   ]
  },
  {
   "cell_type": "code",
   "execution_count": 48,
   "metadata": {
    "executionInfo": {
     "elapsed": 20,
     "status": "ok",
     "timestamp": 1749799847618,
     "user": {
      "displayName": "Afandi NAT",
      "userId": "09831528245184057202"
     },
     "user_tz": -420
    },
    "id": "BMAwOZ70aRXS"
   },
   "outputs": [],
   "source": [
    "def matching_score(a, b):\n",
    "    return fuzz.ratio(a,b)"
   ]
  },
  {
   "cell_type": "code",
   "execution_count": 49,
   "metadata": {
    "executionInfo": {
     "elapsed": 2,
     "status": "ok",
     "timestamp": 1749799847622,
     "user": {
      "displayName": "Afandi NAT",
      "userId": "09831528245184057202"
     },
     "user_tz": -420
    },
    "id": "KxgzXzqsaTHE"
   },
   "outputs": [],
   "source": [
    "def get_title_from_index(index):\n",
    "\n",
    "    return song[song.index == index]['title'].values[0]"
   ]
  },
  {
   "cell_type": "code",
   "execution_count": 50,
   "metadata": {
    "executionInfo": {
     "elapsed": 7,
     "status": "ok",
     "timestamp": 1749799847795,
     "user": {
      "displayName": "Afandi NAT",
      "userId": "09831528245184057202"
     },
     "user_tz": -420
    },
    "id": "aWHKtmJwZ204"
   },
   "outputs": [],
   "source": [
    "def get_title_year_from_index(index):\n",
    "    return song[song.index == index]['title'].values[0]\n",
    "\n",
    "def get_genre_year_from_index(index):\n",
    "    return song[song.index == index]['genre'].values[0]\n",
    "\n",
    "def get_popularity_year_from_index(index):\n",
    "    return song[song.index == index]['popularity'].values[0]\n",
    "\n",
    "def get_index_from_title(title):\n",
    "    return song[song.title == title].index.values[0]"
   ]
  },
  {
   "cell_type": "code",
   "execution_count": 51,
   "metadata": {
    "executionInfo": {
     "elapsed": 47,
     "status": "ok",
     "timestamp": 1749799849548,
     "user": {
      "displayName": "Afandi NAT",
      "userId": "09831528245184057202"
     },
     "user_tz": -420
    },
    "id": "2ZkWFBFGaU1y"
   },
   "outputs": [],
   "source": [
    "def find_closest_title(title):\n",
    "    leven_scores = list(enumerate(song['title'].apply(matching_score, b=title)))\n",
    "    sorted_leven_scores = sorted(leven_scores, key=lambda x: x[1], reverse=True)\n",
    "    closest_title = get_title_from_index(sorted_leven_scores[0][0])\n",
    "    distance_score = sorted_leven_scores[0][1]\n",
    "    return closest_title, distance_score"
   ]
  },
  {
   "cell_type": "markdown",
   "metadata": {
    "id": "lTNl9T5saYp6"
   },
   "source": [
    "###**Rekomendasi Lagu**"
   ]
  },
  {
   "cell_type": "markdown",
   "metadata": {
    "id": "cS9NSeIeIymt"
   },
   "source": [
    "**Rekomendasi Lagu dengan Manhattan Distance**"
   ]
  },
  {
   "cell_type": "code",
   "execution_count": 52,
   "metadata": {
    "executionInfo": {
     "elapsed": 5,
     "status": "ok",
     "timestamp": 1749799855588,
     "user": {
      "displayName": "Afandi NAT",
      "userId": "09831528245184057202"
     },
     "user_tz": -420
    },
    "id": "hDPCTl1Pa1AL"
   },
   "outputs": [],
   "source": [
    "def manhattan_distance_recommender(songs_likes, how_many):\n",
    "    closest_title, distance_score = find_closest_title(songs_likes)\n",
    "    if distance_score == 100:\n",
    "        songs_index = get_index_from_title(closest_title)\n",
    "        songs_list = list(enumerate(manhattan_matrix[int(songs_index)]))\n",
    "        similar_songs = list(filter(lambda x:x[0] != int(songs_index), sorted(songs_list,key=lambda x:x[1], reverse=True))) # remove the typed movie itself\n",
    "\n",
    "        print('Rekomendasi lagu yang mirip dengan '+'\\033[1m'+str(closest_title)+'\\033[0m'+' adalah \\n')\n",
    "\n",
    "    for i,s in similar_songs[:how_many]:\n",
    "      song_title = get_title_year_from_index(i)\n",
    "      song_genre = get_genre_year_from_index(i)\n",
    "      song_popularity = get_popularity_year_from_index(i)\n",
    "      print('\\033[1m' + song_title +'\\033[0m', '(' + song_genre, '- ' + str(song_popularity) +')')"
   ]
  },
  {
   "cell_type": "code",
   "execution_count": 53,
   "metadata": {
    "colab": {
     "base_uri": "https://localhost:8080/"
    },
    "executionInfo": {
     "elapsed": 135,
     "status": "ok",
     "timestamp": 1749799866566,
     "user": {
      "displayName": "Afandi NAT",
      "userId": "09831528245184057202"
     },
     "user_tz": -420
    },
    "id": "mO9IxYgXah8k",
    "outputId": "20f7a1e6-dd35-48d4-d73f-90bbc7a437de"
   },
   "outputs": [
    {
     "name": "stdout",
     "output_type": "stream",
     "text": [
      "Rekomendasi lagu yang mirip dengan \u001b[1mButter\u001b[0m adalah \n",
      "\n",
      "\u001b[1mWhen I Was Your Man\u001b[0m (dance pop - 89)\n",
      "\u001b[1mLocked out of Heaven\u001b[0m (dance pop - 88)\n",
      "\u001b[1mOne Kiss (with Dua Lipa)\u001b[0m (dance pop - 88)\n",
      "\u001b[1mWoman\u001b[0m (dance pop - 87)\n",
      "\u001b[1mThat's What I Like\u001b[0m (dance pop - 86)\n",
      "\u001b[1mLevitating (feat. DaBaby)\u001b[0m (dance pop - 85)\n",
      "\u001b[1mGive Me Everything (feat. Ne-Yo, Afrojack & Nayer)\u001b[0m (dance pop - 84)\n",
      "\u001b[1mHey, Soul Sister\u001b[0m (dance pop - 84)\n",
      "\u001b[1mLevitating\u001b[0m (dance pop - 84)\n",
      "\u001b[1mSummer\u001b[0m (dance pop - 84)\n"
     ]
    }
   ],
   "source": [
    "manhattan_distance_recommender('Butter', 10)"
   ]
  },
  {
   "cell_type": "markdown",
   "metadata": {
    "id": "vB-4iqm2JmBH"
   },
   "source": [
    "**Rekomendasi Lagu dengan Euclidean Distances**"
   ]
  },
  {
   "cell_type": "code",
   "execution_count": 54,
   "metadata": {
    "executionInfo": {
     "elapsed": 25,
     "status": "ok",
     "timestamp": 1749799890667,
     "user": {
      "displayName": "Afandi NAT",
      "userId": "09831528245184057202"
     },
     "user_tz": -420
    },
    "id": "1ujfUCdNJ1rr"
   },
   "outputs": [],
   "source": [
    "def euclidean_distance_recommender(songs_likes, how_many):\n",
    "    closest_title, distance_score = find_closest_title(songs_likes)\n",
    "    if distance_score == 100:\n",
    "        songs_index = get_index_from_title(closest_title)\n",
    "        songs_list = list(enumerate(euclidean_matrix[int(songs_index)]))\n",
    "        similar_songs = list(filter(lambda x:x[0] != int(songs_index), sorted(songs_list,key=lambda x:x[1], reverse=True))) # remove the typed movie itself\n",
    "\n",
    "        print('Rekomendasi lagu yang mirip dengan '+'\\033[1m'+str(closest_title)+'\\033[0m'+' adalah \\n')\n",
    "\n",
    "    for i, s in similar_songs[:how_many]:\n",
    "      song_title = get_title_year_from_index(i)\n",
    "      song_genre = get_genre_year_from_index(i)\n",
    "      song_popularity = get_popularity_year_from_index(i)\n",
    "      print('\\033[1m' + song_title +'\\033[0m', '(' +\n",
    "            song_genre, '- ' + str(song_popularity) +')')"
   ]
  },
  {
   "cell_type": "code",
   "execution_count": null,
   "metadata": {
    "colab": {
     "base_uri": "https://localhost:8080/"
    },
    "executionInfo": {
     "elapsed": 20,
     "status": "ok",
     "timestamp": 1749116423983,
     "user": {
      "displayName": "Afandi NAT",
      "userId": "09831528245184057202"
     },
     "user_tz": -420
    },
    "id": "daUYiKmoJj3k",
    "outputId": "e69b33c4-0ec4-41c8-d798-15d4dc4a58d7"
   },
   "outputs": [
    {
     "name": "stdout",
     "output_type": "stream",
     "text": [
      "Rekomendasi lagu yang mirip dengan \u001b[1mButter\u001b[0m adalah \n",
      "\n",
      "\u001b[1mFlowers\u001b[0m (pop - 98)\n",
      "\u001b[1mBESO\u001b[0m (pop - 96)\n",
      "\u001b[1mBoy's a liar Pt. 2\u001b[0m (drill - 96)\n",
      "\u001b[1mCreepin' (with The Weeknd & 21 Savage)\u001b[0m (rap - 96)\n",
      "\u001b[1mDaylight\u001b[0m (songwriter - 96)\n",
      "\u001b[1mAnti-Hero\u001b[0m (pop - 94)\n",
      "\u001b[1mHere With Me\u001b[0m (pop - 94)\n",
      "\u001b[1mKill Bill\u001b[0m (pop - 94)\n",
      "\u001b[1mDie For You - Remix\u001b[0m (rnb - 93)\n",
      "\u001b[1mI Ain't Worried\u001b[0m (rock - 93)\n"
     ]
    }
   ],
   "source": [
    "euclidean_distance_recommender('Butter', 10)"
   ]
  },
  {
   "cell_type": "markdown",
   "metadata": {
    "id": "cJm4z04SeHaK"
   },
   "source": [
    "**Rekomendasi Lagu dengan Cosine Similarity**"
   ]
  },
  {
   "cell_type": "code",
   "execution_count": 55,
   "metadata": {
    "executionInfo": {
     "elapsed": 9,
     "status": "ok",
     "timestamp": 1749799927989,
     "user": {
      "displayName": "Afandi NAT",
      "userId": "09831528245184057202"
     },
     "user_tz": -420
    },
    "id": "92e6OzmcKOEj"
   },
   "outputs": [],
   "source": [
    "def cosine_similarity_recommender(songs_likes, how_many):\n",
    "    closest_title, distance_score = find_closest_title(songs_likes)\n",
    "    if distance_score == 100:\n",
    "        songs_index = get_index_from_title(closest_title)\n",
    "        songs_list = list(enumerate(cosine_matrix[int(songs_index)]))\n",
    "        similar_songs = list(filter(lambda x:x[0] != int(songs_index), sorted(songs_list,key=lambda x:x[1], reverse=True))) # remove the typed movie itself\n",
    "\n",
    "        print('Rekomendasi lagu yang mirip dengan '+'\\033[1m'+str(closest_title)+'\\033[0m'+' adalah \\n')\n",
    "\n",
    "    for i, s in similar_songs[:how_many]:\n",
    "      song_title = get_title_year_from_index(i)\n",
    "      song_genre = get_genre_year_from_index(i)\n",
    "      song_popularity = get_popularity_year_from_index(i)\n",
    "      print('\\033[1m' + song_title +'\\033[0m', '(' +\n",
    "            song_genre, '- ' + str(song_popularity) +')')"
   ]
  },
  {
   "cell_type": "code",
   "execution_count": 56,
   "metadata": {
    "colab": {
     "base_uri": "https://localhost:8080/"
    },
    "executionInfo": {
     "elapsed": 70,
     "status": "ok",
     "timestamp": 1749799931712,
     "user": {
      "displayName": "Afandi NAT",
      "userId": "09831528245184057202"
     },
     "user_tz": -420
    },
    "id": "fAW3dE0ZeGiK",
    "outputId": "5482de64-8152-4c93-cca0-41cf1a31bdd0"
   },
   "outputs": [
    {
     "name": "stdout",
     "output_type": "stream",
     "text": [
      "Rekomendasi lagu yang mirip dengan \u001b[1mButter\u001b[0m adalah \n",
      "\n",
      "\u001b[1mCupid - Twin Ver.\u001b[0m (kpop - 97)\n",
      "\u001b[1mDitto\u001b[0m (kpop - 90)\n",
      "\u001b[1mFLOWER\u001b[0m (kpop - 86)\n",
      "\u001b[1mDynamite\u001b[0m (kpop - 83)\n",
      "\u001b[1mMONEY\u001b[0m (kpop - 81)\n",
      "\u001b[1mLife Goes On\u001b[0m (kpop - 78)\n",
      "\u001b[1mPermission to Dance\u001b[0m (kpop - 78)\n",
      "\u001b[1mOn The Ground\u001b[0m (kpop - 73)\n",
      "\u001b[1mAfter School\u001b[0m (kpop - 71)\n",
      "\u001b[1mFlowers\u001b[0m (pop - 98)\n"
     ]
    }
   ],
   "source": [
    "cosine_similarity_recommender('Butter', 10)"
   ]
  },
  {
   "cell_type": "markdown",
   "metadata": {
    "id": "Z8ANPDHKe_Rk"
   },
   "source": [
    "Berdasarkan pengujian menggunakan 3 metrik pengukuran, diketahui bahwa Consine Similarity memiliki hasil rekomendasi yang paling baik karena sesuai dengan genre musik yang diputar user."
   ]
  }
 ],
 "metadata": {
  "colab": {
   "provenance": []
  },
  "kernelspec": {
   "display_name": "ai-venv",
   "language": "python",
   "name": "python3"
  },
  "language_info": {
   "name": "python",
   "version": "3.13.3"
  }
 },
 "nbformat": 4,
 "nbformat_minor": 0
}
