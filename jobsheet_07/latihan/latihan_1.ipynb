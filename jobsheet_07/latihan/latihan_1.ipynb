{
 "cells": [
  {
   "cell_type": "markdown",
   "id": "b4be35c1",
   "metadata": {},
   "source": [
    "# 1. Data Preparation dengan One Hot Encoding"
   ]
  },
  {
   "cell_type": "code",
   "execution_count": 2,
   "id": "9bd0a005",
   "metadata": {},
   "outputs": [],
   "source": [
    "import pandas as pd\n",
    "from sklearn.preprocessing import OneHotEncoder"
   ]
  },
  {
   "cell_type": "code",
   "execution_count": 3,
   "id": "520cc8f0",
   "metadata": {},
   "outputs": [],
   "source": [
    "# Membuat data array gender\n",
    "gender = ['perempuan', 'laki-laki', 'laki-laki', 'perempuan', 'perempuan']\n",
    "\n",
    "# Membuat data frame dari data gender\n",
    "df = pd.DataFrame({'gender': gender})"
   ]
  },
  {
   "cell_type": "code",
   "execution_count": 4,
   "id": "b2232f8a",
   "metadata": {},
   "outputs": [],
   "source": [
    "# Membuat instance dari OneHotEncoder\n",
    "encoder = OneHotEncoder()\n",
    "\n",
    "# Melakukan encoding pada data frame\n",
    "encoded_df = pd.DataFrame(encoder.fit_transform(df[['gender']]).toarray(), columns=encoder.get_feature_names_out(['gender']))"
   ]
  },
  {
   "cell_type": "code",
   "execution_count": 5,
   "id": "92842a1c",
   "metadata": {},
   "outputs": [
    {
     "data": {
      "text/html": [
       "<div>\n",
       "<style scoped>\n",
       "    .dataframe tbody tr th:only-of-type {\n",
       "        vertical-align: middle;\n",
       "    }\n",
       "\n",
       "    .dataframe tbody tr th {\n",
       "        vertical-align: top;\n",
       "    }\n",
       "\n",
       "    .dataframe thead th {\n",
       "        text-align: right;\n",
       "    }\n",
       "</style>\n",
       "<table border=\"1\" class=\"dataframe\">\n",
       "  <thead>\n",
       "    <tr style=\"text-align: right;\">\n",
       "      <th></th>\n",
       "      <th>gender</th>\n",
       "      <th>gender_laki-laki</th>\n",
       "      <th>gender_perempuan</th>\n",
       "    </tr>\n",
       "  </thead>\n",
       "  <tbody>\n",
       "    <tr>\n",
       "      <th>0</th>\n",
       "      <td>perempuan</td>\n",
       "      <td>0.0</td>\n",
       "      <td>1.0</td>\n",
       "    </tr>\n",
       "    <tr>\n",
       "      <th>1</th>\n",
       "      <td>laki-laki</td>\n",
       "      <td>1.0</td>\n",
       "      <td>0.0</td>\n",
       "    </tr>\n",
       "    <tr>\n",
       "      <th>2</th>\n",
       "      <td>laki-laki</td>\n",
       "      <td>1.0</td>\n",
       "      <td>0.0</td>\n",
       "    </tr>\n",
       "    <tr>\n",
       "      <th>3</th>\n",
       "      <td>perempuan</td>\n",
       "      <td>0.0</td>\n",
       "      <td>1.0</td>\n",
       "    </tr>\n",
       "    <tr>\n",
       "      <th>4</th>\n",
       "      <td>perempuan</td>\n",
       "      <td>0.0</td>\n",
       "      <td>1.0</td>\n",
       "    </tr>\n",
       "  </tbody>\n",
       "</table>\n",
       "</div>"
      ],
      "text/plain": [
       "      gender  gender_laki-laki  gender_perempuan\n",
       "0  perempuan               0.0               1.0\n",
       "1  laki-laki               1.0               0.0\n",
       "2  laki-laki               1.0               0.0\n",
       "3  perempuan               0.0               1.0\n",
       "4  perempuan               0.0               1.0"
      ]
     },
     "execution_count": 5,
     "metadata": {},
     "output_type": "execute_result"
    }
   ],
   "source": [
    "# Menggabungkan data frame yang sudah di-encode dengan data frame awal\n",
    "df_encoded = pd.concat([df, encoded_df], axis=1)\n",
    "\n",
    "# Menampilkan hasil\n",
    "df_encoded"
   ]
  }
 ],
 "metadata": {
  "kernelspec": {
   "display_name": "venv",
   "language": "python",
   "name": "python3"
  },
  "language_info": {
   "codemirror_mode": {
    "name": "ipython",
    "version": 3
   },
   "file_extension": ".py",
   "mimetype": "text/x-python",
   "name": "python",
   "nbconvert_exporter": "python",
   "pygments_lexer": "ipython3",
   "version": "3.13.2"
  }
 },
 "nbformat": 4,
 "nbformat_minor": 5
}
