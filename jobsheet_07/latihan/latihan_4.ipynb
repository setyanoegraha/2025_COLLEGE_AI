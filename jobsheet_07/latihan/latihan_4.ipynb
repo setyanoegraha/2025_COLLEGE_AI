{
 "cells": [
  {
   "cell_type": "markdown",
   "id": "f71edf31",
   "metadata": {},
   "source": [
    "# 4. Data Preparation dengan Standarization"
   ]
  },
  {
   "cell_type": "code",
   "execution_count": 1,
   "id": "0d9499ee",
   "metadata": {},
   "outputs": [],
   "source": [
    "import pandas as pd\n",
    "from sklearn.preprocessing import StandardScaler"
   ]
  },
  {
   "cell_type": "code",
   "execution_count": 2,
   "id": "5e6b83a3",
   "metadata": {},
   "outputs": [],
   "source": [
    "# Membuat data fram contoh\n",
    "df = pd.DataFrame({\n",
    "    'Nama': ['Andi', 'Budi', 'Cindy', 'Diana', 'Eka', 'lala'],\n",
    "    'Gaji': [3000000, 5000000, 7000000, 9000000, 11000000, 9000000],\n",
    "    'Umur': [25, 30, 35, 40, 45, 30]\n",
    "})"
   ]
  },
  {
   "cell_type": "code",
   "execution_count": 3,
   "id": "416d21d3",
   "metadata": {},
   "outputs": [
    {
     "data": {
      "text/html": [
       "<div>\n",
       "<style scoped>\n",
       "    .dataframe tbody tr th:only-of-type {\n",
       "        vertical-align: middle;\n",
       "    }\n",
       "\n",
       "    .dataframe tbody tr th {\n",
       "        vertical-align: top;\n",
       "    }\n",
       "\n",
       "    .dataframe thead th {\n",
       "        text-align: right;\n",
       "    }\n",
       "</style>\n",
       "<table border=\"1\" class=\"dataframe\">\n",
       "  <thead>\n",
       "    <tr style=\"text-align: right;\">\n",
       "      <th></th>\n",
       "      <th>Nama</th>\n",
       "      <th>Gaji</th>\n",
       "      <th>Umur</th>\n",
       "    </tr>\n",
       "  </thead>\n",
       "  <tbody>\n",
       "    <tr>\n",
       "      <th>0</th>\n",
       "      <td>Andi</td>\n",
       "      <td>-1.612452</td>\n",
       "      <td>-1.364382</td>\n",
       "    </tr>\n",
       "    <tr>\n",
       "      <th>1</th>\n",
       "      <td>Budi</td>\n",
       "      <td>-0.868243</td>\n",
       "      <td>-0.620174</td>\n",
       "    </tr>\n",
       "    <tr>\n",
       "      <th>2</th>\n",
       "      <td>Cindy</td>\n",
       "      <td>-0.124035</td>\n",
       "      <td>0.124035</td>\n",
       "    </tr>\n",
       "    <tr>\n",
       "      <th>3</th>\n",
       "      <td>Diana</td>\n",
       "      <td>0.620174</td>\n",
       "      <td>0.868243</td>\n",
       "    </tr>\n",
       "    <tr>\n",
       "      <th>4</th>\n",
       "      <td>Eka</td>\n",
       "      <td>1.364382</td>\n",
       "      <td>1.612452</td>\n",
       "    </tr>\n",
       "    <tr>\n",
       "      <th>5</th>\n",
       "      <td>lala</td>\n",
       "      <td>0.620174</td>\n",
       "      <td>-0.620174</td>\n",
       "    </tr>\n",
       "  </tbody>\n",
       "</table>\n",
       "</div>"
      ],
      "text/plain": [
       "    Nama      Gaji      Umur\n",
       "0   Andi -1.612452 -1.364382\n",
       "1   Budi -0.868243 -0.620174\n",
       "2  Cindy -0.124035  0.124035\n",
       "3  Diana  0.620174  0.868243\n",
       "4    Eka  1.364382  1.612452\n",
       "5   lala  0.620174 -0.620174"
      ]
     },
     "execution_count": 3,
     "metadata": {},
     "output_type": "execute_result"
    }
   ],
   "source": [
    "# Normalisasi data gaji dan umur menggunakan StandardScaler\n",
    "scaler = StandardScaler()\n",
    "df[['Gaji', 'Umur']] = scaler.fit_transform(df[['Gaji', 'Umur']])\n",
    "\n",
    "# Menampilkan data frame hasil normalisasi\n",
    "df"
   ]
  }
 ],
 "metadata": {
  "kernelspec": {
   "display_name": "venv",
   "language": "python",
   "name": "python3"
  },
  "language_info": {
   "codemirror_mode": {
    "name": "ipython",
    "version": 3
   },
   "file_extension": ".py",
   "mimetype": "text/x-python",
   "name": "python",
   "nbconvert_exporter": "python",
   "pygments_lexer": "ipython3",
   "version": "3.13.2"
  }
 },
 "nbformat": 4,
 "nbformat_minor": 5
}
