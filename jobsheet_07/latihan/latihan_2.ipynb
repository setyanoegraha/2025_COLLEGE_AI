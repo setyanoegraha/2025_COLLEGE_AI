{
 "cells": [
  {
   "cell_type": "markdown",
   "id": "2d2942db",
   "metadata": {},
   "source": [
    "# 2. Data Preparation dengan Outlier Removal"
   ]
  },
  {
   "cell_type": "code",
   "execution_count": 2,
   "id": "0daa7271",
   "metadata": {},
   "outputs": [],
   "source": [
    "import pandas as pd\n",
    "import numpy as np"
   ]
  },
  {
   "cell_type": "code",
   "execution_count": 3,
   "id": "5abdf404",
   "metadata": {},
   "outputs": [],
   "source": [
    "# Membuat data frame contoh\n",
    "df = pd.DataFrame({\n",
    "    'A': [1, 2, 3, 4, 5, 6, 7, 8, 9, 10],\n",
    "    'B': [15, 20, 25, 30, 35, 40, 45, 50, 55, 500]\n",
    "})"
   ]
  },
  {
   "cell_type": "code",
   "execution_count": 6,
   "id": "d9a6f68d",
   "metadata": {},
   "outputs": [
    {
     "name": "stdout",
     "output_type": "stream",
     "text": [
      "   A   B\n",
      "0  1  15\n",
      "1  2  20\n",
      "2  3  25\n",
      "3  4  30\n",
      "4  5  35\n",
      "5  6  40\n",
      "6  7  45\n",
      "7  8  50\n",
      "8  9  55\n"
     ]
    }
   ],
   "source": [
    "# Mencari nilai z-score untuk setiap data point pada kolom B\n",
    "z_scores = np.abs((df['B'] - df['B'].mean()) / df['B'].std())\n",
    "\n",
    "# Menghilangkan data point yang memiliki z-score lebih besar dari 3\n",
    "df_clean = df.loc[round(z_scores) < 3]\n",
    "\n",
    "# Menampilkan data frame yang telah di-clean\n",
    "print(df_clean)"
   ]
  }
 ],
 "metadata": {
  "kernelspec": {
   "display_name": "venv",
   "language": "python",
   "name": "python3"
  },
  "language_info": {
   "codemirror_mode": {
    "name": "ipython",
    "version": 3
   },
   "file_extension": ".py",
   "mimetype": "text/x-python",
   "name": "python",
   "nbconvert_exporter": "python",
   "pygments_lexer": "ipython3",
   "version": "3.13.2"
  }
 },
 "nbformat": 4,
 "nbformat_minor": 5
}
